{
 "cells": [
  {
   "cell_type": "markdown",
   "id": "266e3efa",
   "metadata": {
    "editable": false,
    "papermill": {
     "duration": 0.011371,
     "end_time": "2024-02-11T09:06:26.348259",
     "exception": false,
     "start_time": "2024-02-11T09:06:26.336888",
     "status": "completed"
    },
    "tags": []
   },
   "source": [
    "Load comptetion files"
   ]
  },
  {
   "cell_type": "code",
   "execution_count": 1,
   "id": "f665cccb",
   "metadata": {
    "execution": {
     "iopub.execute_input": "2024-02-11T09:06:26.370425Z",
     "iopub.status.busy": "2024-02-11T09:06:26.370124Z",
     "iopub.status.idle": "2024-02-11T09:07:36.101477Z",
     "shell.execute_reply": "2024-02-11T09:07:36.100243Z"
    },
    "papermill": {
     "duration": 69.744721,
     "end_time": "2024-02-11T09:07:36.103536",
     "exception": false,
     "start_time": "2024-02-11T09:06:26.358815",
     "status": "completed"
    },
    "tags": []
   },
   "outputs": [
    {
     "name": "stderr",
     "output_type": "stream",
     "text": [
      "/opt/conda/lib/python3.10/site-packages/scipy/__init__.py:146: UserWarning: A NumPy version >=1.16.5 and <1.23.0 is required for this version of SciPy (detected version 1.24.3\n",
      "  warnings.warn(f\"A NumPy version >={np_minversion} and <{np_maxversion}\"\n"
     ]
    },
    {
     "name": "stdout",
     "output_type": "stream",
     "text": [
      "/opt/conda/lib/python3.10/site-packages/scipy/__init__.py:146: UserWarning: A NumPy version >=1.16.5 and <1.23.0 is required for this version of SciPy (detected version 1.24.3\r\n",
      "  warnings.warn(f\"A NumPy version >={np_minversion} and <{np_maxversion}\"\r\n",
      "Collecting el-core-news-lg==3.7.0\r\n",
      "  Downloading https://github.com/explosion/spacy-models/releases/download/el_core_news_lg-3.7.0/el_core_news_lg-3.7.0-py3-none-any.whl (568.6 MB)\r\n",
      "\u001b[2K     \u001b[90m━━━━━━━━━━━━━━━━━━━━━━━━━━━━━━━━━━━━━━━\u001b[0m \u001b[32m568.6/568.6 MB\u001b[0m \u001b[31m2.2 MB/s\u001b[0m eta \u001b[36m0:00:00\u001b[0m\r\n",
      "\u001b[?25hRequirement already satisfied: spacy<3.8.0,>=3.7.0 in /opt/conda/lib/python3.10/site-packages (from el-core-news-lg==3.7.0) (3.7.2)\r\n",
      "Requirement already satisfied: spacy-legacy<3.1.0,>=3.0.11 in /opt/conda/lib/python3.10/site-packages (from spacy<3.8.0,>=3.7.0->el-core-news-lg==3.7.0) (3.0.12)\r\n",
      "Requirement already satisfied: spacy-loggers<2.0.0,>=1.0.0 in /opt/conda/lib/python3.10/site-packages (from spacy<3.8.0,>=3.7.0->el-core-news-lg==3.7.0) (1.0.5)\r\n",
      "Requirement already satisfied: murmurhash<1.1.0,>=0.28.0 in /opt/conda/lib/python3.10/site-packages (from spacy<3.8.0,>=3.7.0->el-core-news-lg==3.7.0) (1.0.10)\r\n",
      "Requirement already satisfied: cymem<2.1.0,>=2.0.2 in /opt/conda/lib/python3.10/site-packages (from spacy<3.8.0,>=3.7.0->el-core-news-lg==3.7.0) (2.0.8)\r\n",
      "Requirement already satisfied: preshed<3.1.0,>=3.0.2 in /opt/conda/lib/python3.10/site-packages (from spacy<3.8.0,>=3.7.0->el-core-news-lg==3.7.0) (3.0.9)\r\n",
      "Requirement already satisfied: thinc<8.3.0,>=8.1.8 in /opt/conda/lib/python3.10/site-packages (from spacy<3.8.0,>=3.7.0->el-core-news-lg==3.7.0) (8.2.2)\r\n",
      "Requirement already satisfied: wasabi<1.2.0,>=0.9.1 in /opt/conda/lib/python3.10/site-packages (from spacy<3.8.0,>=3.7.0->el-core-news-lg==3.7.0) (1.1.2)\r\n",
      "Requirement already satisfied: srsly<3.0.0,>=2.4.3 in /opt/conda/lib/python3.10/site-packages (from spacy<3.8.0,>=3.7.0->el-core-news-lg==3.7.0) (2.4.8)\r\n",
      "Requirement already satisfied: catalogue<2.1.0,>=2.0.6 in /opt/conda/lib/python3.10/site-packages (from spacy<3.8.0,>=3.7.0->el-core-news-lg==3.7.0) (2.0.10)\r\n",
      "Requirement already satisfied: weasel<0.4.0,>=0.1.0 in /opt/conda/lib/python3.10/site-packages (from spacy<3.8.0,>=3.7.0->el-core-news-lg==3.7.0) (0.3.4)\r\n",
      "Requirement already satisfied: typer<0.10.0,>=0.3.0 in /opt/conda/lib/python3.10/site-packages (from spacy<3.8.0,>=3.7.0->el-core-news-lg==3.7.0) (0.9.0)\r\n",
      "Requirement already satisfied: smart-open<7.0.0,>=5.2.1 in /opt/conda/lib/python3.10/site-packages (from spacy<3.8.0,>=3.7.0->el-core-news-lg==3.7.0) (6.3.0)\r\n",
      "Requirement already satisfied: tqdm<5.0.0,>=4.38.0 in /opt/conda/lib/python3.10/site-packages (from spacy<3.8.0,>=3.7.0->el-core-news-lg==3.7.0) (4.66.1)\r\n",
      "Requirement already satisfied: requests<3.0.0,>=2.13.0 in /opt/conda/lib/python3.10/site-packages (from spacy<3.8.0,>=3.7.0->el-core-news-lg==3.7.0) (2.31.0)\r\n",
      "Requirement already satisfied: pydantic!=1.8,!=1.8.1,<3.0.0,>=1.7.4 in /opt/conda/lib/python3.10/site-packages (from spacy<3.8.0,>=3.7.0->el-core-news-lg==3.7.0) (1.10.12)\r\n",
      "Requirement already satisfied: jinja2 in /opt/conda/lib/python3.10/site-packages (from spacy<3.8.0,>=3.7.0->el-core-news-lg==3.7.0) (3.1.2)\r\n",
      "Requirement already satisfied: setuptools in /opt/conda/lib/python3.10/site-packages (from spacy<3.8.0,>=3.7.0->el-core-news-lg==3.7.0) (68.1.2)\r\n",
      "Requirement already satisfied: packaging>=20.0 in /opt/conda/lib/python3.10/site-packages (from spacy<3.8.0,>=3.7.0->el-core-news-lg==3.7.0) (21.3)\r\n",
      "Requirement already satisfied: langcodes<4.0.0,>=3.2.0 in /opt/conda/lib/python3.10/site-packages (from spacy<3.8.0,>=3.7.0->el-core-news-lg==3.7.0) (3.3.0)\r\n",
      "Requirement already satisfied: numpy>=1.19.0 in /opt/conda/lib/python3.10/site-packages (from spacy<3.8.0,>=3.7.0->el-core-news-lg==3.7.0) (1.24.3)\r\n",
      "Requirement already satisfied: pyparsing!=3.0.5,>=2.0.2 in /opt/conda/lib/python3.10/site-packages (from packaging>=20.0->spacy<3.8.0,>=3.7.0->el-core-news-lg==3.7.0) (3.0.9)\r\n",
      "Requirement already satisfied: typing-extensions>=4.2.0 in /opt/conda/lib/python3.10/site-packages (from pydantic!=1.8,!=1.8.1,<3.0.0,>=1.7.4->spacy<3.8.0,>=3.7.0->el-core-news-lg==3.7.0) (4.5.0)\r\n",
      "Requirement already satisfied: charset-normalizer<4,>=2 in /opt/conda/lib/python3.10/site-packages (from requests<3.0.0,>=2.13.0->spacy<3.8.0,>=3.7.0->el-core-news-lg==3.7.0) (3.2.0)\r\n",
      "Requirement already satisfied: idna<4,>=2.5 in /opt/conda/lib/python3.10/site-packages (from requests<3.0.0,>=2.13.0->spacy<3.8.0,>=3.7.0->el-core-news-lg==3.7.0) (3.4)\r\n",
      "Requirement already satisfied: urllib3<3,>=1.21.1 in /opt/conda/lib/python3.10/site-packages (from requests<3.0.0,>=2.13.0->spacy<3.8.0,>=3.7.0->el-core-news-lg==3.7.0) (1.26.15)\r\n",
      "Requirement already satisfied: certifi>=2017.4.17 in /opt/conda/lib/python3.10/site-packages (from requests<3.0.0,>=2.13.0->spacy<3.8.0,>=3.7.0->el-core-news-lg==3.7.0) (2023.11.17)\r\n",
      "Requirement already satisfied: blis<0.8.0,>=0.7.8 in /opt/conda/lib/python3.10/site-packages (from thinc<8.3.0,>=8.1.8->spacy<3.8.0,>=3.7.0->el-core-news-lg==3.7.0) (0.7.10)\r\n",
      "Requirement already satisfied: confection<1.0.0,>=0.0.1 in /opt/conda/lib/python3.10/site-packages (from thinc<8.3.0,>=8.1.8->spacy<3.8.0,>=3.7.0->el-core-news-lg==3.7.0) (0.1.4)\r\n",
      "Requirement already satisfied: click<9.0.0,>=7.1.1 in /opt/conda/lib/python3.10/site-packages (from typer<0.10.0,>=0.3.0->spacy<3.8.0,>=3.7.0->el-core-news-lg==3.7.0) (8.1.7)\r\n",
      "Requirement already satisfied: cloudpathlib<0.17.0,>=0.7.0 in /opt/conda/lib/python3.10/site-packages (from weasel<0.4.0,>=0.1.0->spacy<3.8.0,>=3.7.0->el-core-news-lg==3.7.0) (0.16.0)\r\n",
      "Requirement already satisfied: MarkupSafe>=2.0 in /opt/conda/lib/python3.10/site-packages (from jinja2->spacy<3.8.0,>=3.7.0->el-core-news-lg==3.7.0) (2.1.3)\r\n",
      "Installing collected packages: el-core-news-lg\r\n",
      "Successfully installed el-core-news-lg-3.7.0\r\n",
      "\u001b[38;5;2m✔ Download and installation successful\u001b[0m\r\n",
      "You can now load the package via spacy.load('el_core_news_lg')\r\n",
      "[nltk_data] Downloading package punkt to /usr/share/nltk_data...\n",
      "[nltk_data]   Package punkt is already up-to-date!\n",
      "Working on: cpu\n"
     ]
    }
   ],
   "source": [
    "# Imports\n",
    "import torch\n",
    "import torch.nn as nn\n",
    "import torch.nn.functional as F\n",
    "import torch.optim as optim\n",
    "import os\n",
    "import numpy as np\n",
    "\n",
    "import torchvision\n",
    "import torchvision.datasets as dsets\n",
    "import torchvision.transforms as transforms\n",
    "from torch.utils.data import DataLoader\n",
    "from gensim.models import Word2Vec\n",
    "\n",
    "import matplotlib.pyplot as plt\n",
    "%matplotlib inline\n",
    "import sklearn.metrics\n",
    "import seaborn as sns\n",
    "import random\n",
    "import sys\n",
    "#------------------------------------------------------------------------------------------\n",
    "import pandas as pd # data processing, CSV file I/O (e.g. pd.read_csv)\n",
    "import re\n",
    "# !pip install -q wordcloud\n",
    "import wordcloud\n",
    "#Same as in assignment1, for preprocessing of text\n",
    "!python -m spacy download el_core_news_lg\n",
    "import spacy as sp#tokeniser, parser tagger for greek language\n",
    "import unicodedata #character properties for all Unicode characters\n",
    "import nltk\n",
    "from nltk.corpus import stopwords\n",
    "from nltk.tokenize import word_tokenize\n",
    "nltk.download('punkt')\n",
    "#!pip install greek-stemmer-pos\n",
    "#from greek_stemmer import stemmer\n",
    "\n",
    "#Greek Stemmer by Giorgos Marios Patelis based on the work of Georgios Ntais\n",
    "%run /kaggle/input/greek-stemmer/GreekStemmer.ipynb\n",
    "#--------------------------------------------------------------------------------------------\n",
    "from sklearn.model_selection import train_test_split\n",
    "from sklearn.metrics import f1_score as skf1\n",
    "from torchmetrics.functional import f1_score\n",
    "def set_seed(seed = 1234):\n",
    "    '''Sets the seed of the entire notebook so results are the same every time we run. This is for REPRODUCIBILITY.\n",
    "    '''\n",
    "    np.random.seed(seed)\n",
    "    random.seed(seed)\n",
    "    torch.manual_seed(seed)\n",
    "    torch.cuda.manual_seed(seed)\n",
    "    # When running on the CuDNN backend, two further options must be set\n",
    "    torch.backends.cudnn.deterministic = True\n",
    "    # Set a fixed value for the hash seed\n",
    "    os.environ['PYTHONHASHSEED'] = str(seed)\n",
    "\n",
    "set_seed()\n",
    "\n",
    "device = 'cpu'\n",
    "print('Working on:', device)"
   ]
  },
  {
   "cell_type": "code",
   "execution_count": 2,
   "id": "4f8ebc6f",
   "metadata": {
    "editable": false,
    "execution": {
     "iopub.execute_input": "2024-02-11T09:07:36.154299Z",
     "iopub.status.busy": "2024-02-11T09:07:36.153691Z",
     "iopub.status.idle": "2024-02-11T09:07:36.729112Z",
     "shell.execute_reply": "2024-02-11T09:07:36.727920Z"
    },
    "papermill": {
     "duration": 0.603318,
     "end_time": "2024-02-11T09:07:36.731241",
     "exception": false,
     "start_time": "2024-02-11T09:07:36.127923",
     "status": "completed"
    },
    "tags": []
   },
   "outputs": [
    {
     "name": "stdout",
     "output_type": "stream",
     "text": [
      "Sentiment\n",
      "NEUTRAL     12210\n",
      "NEGATIVE    12210\n",
      "POSITIVE    12210\n",
      "Name: count, dtype: int64\n"
     ]
    }
   ],
   "source": [
    "#hello there my name is jimmy#jsonpath1 = 'lem.json'\n",
    "jsonpath2 = 'stem.json'\n",
    "#jsonpath1 = '/kaggle/input/json-files/lem.json'\n",
    "#jsonpath2 = '/kaggle/input/json-files/stem.json'\n",
    "path = '/kaggle/input/ys19-2023-assignment-3/test_set.csv'\n",
    "test_set = pd.read_csv(path) \n",
    "path = '/kaggle/input/ys19-2023-assignment-3/valid_set.csv'\n",
    "valid_set = pd.read_csv(path) #4 columns id, text, sentiment, party\n",
    "path = '/kaggle/input/ys19-2023-assignment-3/train_set.csv'\n",
    "train_set = pd.read_csv(path)\n",
    "#Making sure dataset is balanced\n",
    "counts = train_set['Sentiment'].value_counts()\n",
    "print(counts)\n"
   ]
  },
  {
   "cell_type": "markdown",
   "id": "753c3300",
   "metadata": {
    "editable": false,
    "papermill": {
     "duration": 0.024053,
     "end_time": "2024-02-11T09:07:36.779479",
     "exception": false,
     "start_time": "2024-02-11T09:07:36.755426",
     "status": "completed"
    },
    "tags": []
   },
   "source": [
    "Data pre-processing functions + concatenation of train and valid sets.\n",
    "We will split them later for training"
   ]
  },
  {
   "cell_type": "code",
   "execution_count": 3,
   "id": "4cd85048",
   "metadata": {
    "execution": {
     "iopub.execute_input": "2024-02-11T09:07:36.828584Z",
     "iopub.status.busy": "2024-02-11T09:07:36.828267Z",
     "iopub.status.idle": "2024-02-11T09:07:39.689702Z",
     "shell.execute_reply": "2024-02-11T09:07:39.688750Z"
    },
    "papermill": {
     "duration": 2.888887,
     "end_time": "2024-02-11T09:07:39.691699",
     "exception": false,
     "start_time": "2024-02-11T09:07:36.802812",
     "status": "completed"
    },
    "tags": []
   },
   "outputs": [
    {
     "data": {
      "text/html": [
       "<div>\n",
       "<style scoped>\n",
       "    .dataframe tbody tr th:only-of-type {\n",
       "        vertical-align: middle;\n",
       "    }\n",
       "\n",
       "    .dataframe tbody tr th {\n",
       "        vertical-align: top;\n",
       "    }\n",
       "\n",
       "    .dataframe thead th {\n",
       "        text-align: right;\n",
       "    }\n",
       "</style>\n",
       "<table border=\"1\" class=\"dataframe\">\n",
       "  <thead>\n",
       "    <tr style=\"text-align: right;\">\n",
       "      <th></th>\n",
       "      <th>New_ID</th>\n",
       "      <th>Text</th>\n",
       "      <th>Sentiment</th>\n",
       "      <th>Party</th>\n",
       "    </tr>\n",
       "  </thead>\n",
       "  <tbody>\n",
       "    <tr>\n",
       "      <th>0</th>\n",
       "      <td>35027</td>\n",
       "      <td>#απολυμανση_κοριοι #απεντομωση_κοριος #απολυμα...</td>\n",
       "      <td>NEUTRAL</td>\n",
       "      <td>SYRIZA</td>\n",
       "    </tr>\n",
       "    <tr>\n",
       "      <th>1</th>\n",
       "      <td>9531</td>\n",
       "      <td>Έξι νέες επιστολές για τη Μακεδονία «καίνε» τη...</td>\n",
       "      <td>NEGATIVE</td>\n",
       "      <td>ND</td>\n",
       "    </tr>\n",
       "    <tr>\n",
       "      <th>2</th>\n",
       "      <td>14146</td>\n",
       "      <td>Ισχυρό ΚΚΕ, δύναμη του λαού στη Βουλή και στου...</td>\n",
       "      <td>POSITIVE</td>\n",
       "      <td>KKE</td>\n",
       "    </tr>\n",
       "    <tr>\n",
       "      <th>3</th>\n",
       "      <td>28716</td>\n",
       "      <td>@five2nds @anthi7vas Μνημονιακότατο το #ΜεΡΑ25...</td>\n",
       "      <td>NEUTRAL</td>\n",
       "      <td>KKE</td>\n",
       "    </tr>\n",
       "    <tr>\n",
       "      <th>4</th>\n",
       "      <td>32886</td>\n",
       "      <td>@ai_katerina Αυτό που είναι συγκλονιστικό είνα...</td>\n",
       "      <td>NEUTRAL</td>\n",
       "      <td>SYRIZA</td>\n",
       "    </tr>\n",
       "  </tbody>\n",
       "</table>\n",
       "</div>"
      ],
      "text/plain": [
       "   New_ID                                               Text Sentiment   Party\n",
       "0   35027  #απολυμανση_κοριοι #απεντομωση_κοριος #απολυμα...   NEUTRAL  SYRIZA\n",
       "1    9531  Έξι νέες επιστολές για τη Μακεδονία «καίνε» τη...  NEGATIVE      ND\n",
       "2   14146  Ισχυρό ΚΚΕ, δύναμη του λαού στη Βουλή και στου...  POSITIVE     KKE\n",
       "3   28716  @five2nds @anthi7vas Μνημονιακότατο το #ΜεΡΑ25...   NEUTRAL     KKE\n",
       "4   32886  @ai_katerina Αυτό που είναι συγκλονιστικό είνα...   NEUTRAL  SYRIZA"
      ]
     },
     "execution_count": 3,
     "metadata": {},
     "output_type": "execute_result"
    }
   ],
   "source": [
    "#Data Pre-Processing, same as in assignment1 \n",
    "nlp = sp.load(\"el_core_news_lg\")\n",
    "\n",
    "#Load stop words\n",
    "def stopwords_list():\n",
    "    with open('/kaggle/input/greek-stwords/Greek-Stopwords.txt') as f:\n",
    "        # return the split results, which is all the words in the file.\n",
    "        return f.read().split()\n",
    "    \n",
    "#Remove Stop Words Function\n",
    "def rem_stopwords(text):\n",
    "    stop_words = stopwords_list()\n",
    "    for word in stop_words: \n",
    "         word = word.replace('\\n', '')\n",
    "    tokens = text.split()\n",
    "    filtered_tokens = [token for token in tokens if token not in stop_words]\n",
    "    return ' '.join(filtered_tokens)\n",
    "\n",
    "\n",
    "\n",
    "#Lemmatisation\n",
    "def lemmatisation(text):\n",
    "    doc = nlp(text)\n",
    "    ret = []\n",
    "    for token in doc:\n",
    "        ret.append(token.lemma_)\n",
    "    return ' '.join(ret)\n",
    "\n",
    "\n",
    "#Stemming\n",
    "#Using Greek Stemmer by Giorgos Marios Patelis based on the work of Georgios Ntais\n",
    "def stemming(text):\n",
    "    ret = []\n",
    "    textupper = text.upper()\n",
    "    \n",
    "    tokenised_text = nltk.word_tokenize(textupper)\n",
    "    for tok in tokenised_text:\n",
    "        ret.append(stemWord(tok))\n",
    "    textupper = ' '.join(ret)\n",
    "    return textupper\n",
    "\n",
    "#Concatenate sets\n",
    "frames = [train_set, valid_set]\n",
    "complete_train_set = pd.concat(frames).drop_duplicates().reset_index(drop=True)\n",
    "complete_train_set.head(5)"
   ]
  },
  {
   "cell_type": "markdown",
   "id": "16555243",
   "metadata": {
    "editable": false,
    "papermill": {
     "duration": 0.023733,
     "end_time": "2024-02-11T09:07:39.739567",
     "exception": false,
     "start_time": "2024-02-11T09:07:39.715834",
     "status": "completed"
    },
    "tags": []
   },
   "source": [
    "Data pre-processing, leave only greek words, no punctuation"
   ]
  },
  {
   "cell_type": "code",
   "execution_count": 4,
   "id": "102ef6ba",
   "metadata": {
    "editable": false,
    "execution": {
     "iopub.execute_input": "2024-02-11T09:07:39.789501Z",
     "iopub.status.busy": "2024-02-11T09:07:39.788704Z",
     "iopub.status.idle": "2024-02-11T09:08:58.732676Z",
     "shell.execute_reply": "2024-02-11T09:08:58.731656Z"
    },
    "papermill": {
     "duration": 78.995189,
     "end_time": "2024-02-11T09:08:58.759015",
     "exception": false,
     "start_time": "2024-02-11T09:07:39.763826",
     "status": "completed"
    },
    "tags": []
   },
   "outputs": [
    {
     "name": "stdout",
     "output_type": "stream",
     "text": [
      "Done\n"
     ]
    }
   ],
   "source": [
    "#Clean training data\n",
    "complete_train_set['Text'] = complete_train_set['Text'].apply(lambda r: re.sub(r'\\'', '', r))   #removing apostrophes\n",
    "complete_train_set['Text'] = [r.upper() for r in complete_train_set['Text'] ]   #making everything uppercase\n",
    "complete_train_set['Text'] = [''.join([c for c in unicodedata.normalize('NFD', r) if not unicodedata.combining(c)]) for r in complete_train_set['Text']] #removing accents\n",
    "complete_train_set['Text'] = complete_train_set['Text'].apply(lambda r: re.sub(r'@\\w+', '', r)) #remove mentions\n",
    "complete_train_set['Text'] = complete_train_set['Text'].apply(lambda r: re.sub(r'([^α-ωΑ-Ω\\s-])', ' ', r)) #only keeping greek letters, URLs are also removed this way\n",
    "complete_train_set['Text'] = complete_train_set['Text'].apply(lambda r: re.sub('-', '',r)) #remove - character\n",
    "complete_train_set['Text'] = complete_train_set['Text'].apply(rem_stopwords) #remove stopwords\n",
    "print(\"Done\")"
   ]
  },
  {
   "cell_type": "code",
   "execution_count": 5,
   "id": "29815731",
   "metadata": {
    "editable": false,
    "execution": {
     "iopub.execute_input": "2024-02-11T09:08:58.809096Z",
     "iopub.status.busy": "2024-02-11T09:08:58.808778Z",
     "iopub.status.idle": "2024-02-11T09:08:58.819353Z",
     "shell.execute_reply": "2024-02-11T09:08:58.818426Z"
    },
    "papermill": {
     "duration": 0.038191,
     "end_time": "2024-02-11T09:08:58.821234",
     "exception": false,
     "start_time": "2024-02-11T09:08:58.783043",
     "status": "completed"
    },
    "tags": []
   },
   "outputs": [
    {
     "data": {
      "text/html": [
       "<div>\n",
       "<style scoped>\n",
       "    .dataframe tbody tr th:only-of-type {\n",
       "        vertical-align: middle;\n",
       "    }\n",
       "\n",
       "    .dataframe tbody tr th {\n",
       "        vertical-align: top;\n",
       "    }\n",
       "\n",
       "    .dataframe thead th {\n",
       "        text-align: right;\n",
       "    }\n",
       "</style>\n",
       "<table border=\"1\" class=\"dataframe\">\n",
       "  <thead>\n",
       "    <tr style=\"text-align: right;\">\n",
       "      <th></th>\n",
       "      <th>New_ID</th>\n",
       "      <th>Text</th>\n",
       "      <th>Sentiment</th>\n",
       "      <th>Party</th>\n",
       "    </tr>\n",
       "  </thead>\n",
       "  <tbody>\n",
       "    <tr>\n",
       "      <th>0</th>\n",
       "      <td>35027</td>\n",
       "      <td>ΑΠΟΛΥΜΑΝΣΗ ΚΟΡΙΟΙ ΑΠΕΝΤΟΜΩΣΗ ΚΟΡΙΟΣ ΑΠΟΛΥΜΑΝΣΕ...</td>\n",
       "      <td>NEUTRAL</td>\n",
       "      <td>SYRIZA</td>\n",
       "    </tr>\n",
       "    <tr>\n",
       "      <th>1</th>\n",
       "      <td>9531</td>\n",
       "      <td>ΕΞΙ ΝΕΕΣ ΕΠΙΣΤΟΛΕΣ ΜΑΚΕΔΟΝΙΑ ΚΑΙΝΕ ΝΔ ΜΗΤΣΟΤΑΚ...</td>\n",
       "      <td>NEGATIVE</td>\n",
       "      <td>ND</td>\n",
       "    </tr>\n",
       "    <tr>\n",
       "      <th>2</th>\n",
       "      <td>14146</td>\n",
       "      <td>ΙΣΧΥΡΟ ΚΚΕ ΔΥΝΑΜΗ ΛΑΟΥ ΒΟΥΛΗ ΚΑΘΗΜΕΡΙΝΟΥΣ ΑΓΩΝΕΣ</td>\n",
       "      <td>POSITIVE</td>\n",
       "      <td>KKE</td>\n",
       "    </tr>\n",
       "    <tr>\n",
       "      <th>3</th>\n",
       "      <td>28716</td>\n",
       "      <td>ΜΝΗΜΟΝΙΑΚΟΤΑΤΟ ΜΕΡΑ ΕΚΛΟΓΕΣ ΚΚΕ</td>\n",
       "      <td>NEUTRAL</td>\n",
       "      <td>KKE</td>\n",
       "    </tr>\n",
       "    <tr>\n",
       "      <th>4</th>\n",
       "      <td>32886</td>\n",
       "      <td>ΣΥΓΚΛΟΝΙΣΤΙΚΟ ΨΥΧΑΣΘΕΝΕΙΑ ΤΣΙΠΡΑ</td>\n",
       "      <td>NEUTRAL</td>\n",
       "      <td>SYRIZA</td>\n",
       "    </tr>\n",
       "  </tbody>\n",
       "</table>\n",
       "</div>"
      ],
      "text/plain": [
       "   New_ID                                               Text Sentiment   Party\n",
       "0   35027  ΑΠΟΛΥΜΑΝΣΗ ΚΟΡΙΟΙ ΑΠΕΝΤΟΜΩΣΗ ΚΟΡΙΟΣ ΑΠΟΛΥΜΑΝΣΕ...   NEUTRAL  SYRIZA\n",
       "1    9531  ΕΞΙ ΝΕΕΣ ΕΠΙΣΤΟΛΕΣ ΜΑΚΕΔΟΝΙΑ ΚΑΙΝΕ ΝΔ ΜΗΤΣΟΤΑΚ...  NEGATIVE      ND\n",
       "2   14146   ΙΣΧΥΡΟ ΚΚΕ ΔΥΝΑΜΗ ΛΑΟΥ ΒΟΥΛΗ ΚΑΘΗΜΕΡΙΝΟΥΣ ΑΓΩΝΕΣ  POSITIVE     KKE\n",
       "3   28716                    ΜΝΗΜΟΝΙΑΚΟΤΑΤΟ ΜΕΡΑ ΕΚΛΟΓΕΣ ΚΚΕ   NEUTRAL     KKE\n",
       "4   32886                   ΣΥΓΚΛΟΝΙΣΤΙΚΟ ΨΥΧΑΣΘΕΝΕΙΑ ΤΣΙΠΡΑ   NEUTRAL  SYRIZA"
      ]
     },
     "execution_count": 5,
     "metadata": {},
     "output_type": "execute_result"
    }
   ],
   "source": [
    "complete_train_set.head(5)"
   ]
  },
  {
   "cell_type": "markdown",
   "id": "317c801f",
   "metadata": {
    "editable": false,
    "papermill": {
     "duration": 0.024178,
     "end_time": "2024-02-11T09:08:58.915201",
     "exception": false,
     "start_time": "2024-02-11T09:08:58.891023",
     "status": "completed"
    },
    "tags": []
   },
   "source": [
    "Data stemming, to improve vectorization"
   ]
  },
  {
   "cell_type": "code",
   "execution_count": 6,
   "id": "b2b71038",
   "metadata": {
    "editable": false,
    "execution": {
     "iopub.execute_input": "2024-02-11T09:08:58.964627Z",
     "iopub.status.busy": "2024-02-11T09:08:58.964288Z",
     "iopub.status.idle": "2024-02-11T09:09:29.268775Z",
     "shell.execute_reply": "2024-02-11T09:09:29.267941Z"
    },
    "papermill": {
     "duration": 30.332142,
     "end_time": "2024-02-11T09:09:29.271228",
     "exception": false,
     "start_time": "2024-02-11T09:08:58.939086",
     "status": "completed"
    },
    "tags": []
   },
   "outputs": [],
   "source": [
    "#Apply stemming on data \n",
    "stemmed = complete_train_set.copy(deep=True)\n",
    "stemmed['Text'] = stemmed['Text'].apply(stemming)\n",
    "stemmed.to_json(jsonpath2) #saving processed data as to not repeat this time consuming step"
   ]
  },
  {
   "cell_type": "code",
   "execution_count": 7,
   "id": "83e0289c",
   "metadata": {
    "editable": false,
    "execution": {
     "iopub.execute_input": "2024-02-11T09:09:29.322284Z",
     "iopub.status.busy": "2024-02-11T09:09:29.321948Z",
     "iopub.status.idle": "2024-02-11T09:09:29.547295Z",
     "shell.execute_reply": "2024-02-11T09:09:29.546256Z"
    },
    "papermill": {
     "duration": 0.252232,
     "end_time": "2024-02-11T09:09:29.549318",
     "exception": false,
     "start_time": "2024-02-11T09:09:29.297086",
     "status": "completed"
    },
    "tags": []
   },
   "outputs": [
    {
     "data": {
      "text/html": [
       "<div>\n",
       "<style scoped>\n",
       "    .dataframe tbody tr th:only-of-type {\n",
       "        vertical-align: middle;\n",
       "    }\n",
       "\n",
       "    .dataframe tbody tr th {\n",
       "        vertical-align: top;\n",
       "    }\n",
       "\n",
       "    .dataframe thead th {\n",
       "        text-align: right;\n",
       "    }\n",
       "</style>\n",
       "<table border=\"1\" class=\"dataframe\">\n",
       "  <thead>\n",
       "    <tr style=\"text-align: right;\">\n",
       "      <th></th>\n",
       "      <th>New_ID</th>\n",
       "      <th>Text</th>\n",
       "      <th>Sentiment</th>\n",
       "      <th>Party</th>\n",
       "    </tr>\n",
       "  </thead>\n",
       "  <tbody>\n",
       "    <tr>\n",
       "      <th>0</th>\n",
       "      <td>35027</td>\n",
       "      <td>ΑΠΟΛΥΜΑΝΣ ΚΟΡΙ ΑΠΕΝΤΟΜΩΣ ΚΟΡΙ ΑΠΟΛΥΜΑΝΣ ΚΟΡΙ Κ...</td>\n",
       "      <td>NEUTRAL</td>\n",
       "      <td>SYRIZA</td>\n",
       "    </tr>\n",
       "    <tr>\n",
       "      <th>1</th>\n",
       "      <td>9531</td>\n",
       "      <td>ΕΞΙ ΝΕ ΕΠΙΣΤΟΛ ΜΑΚΕΔΟΝ ΚΑΙΝ ΝΔ ΜΗΤΣΟΤΑΚ ΓΝΩΡΙΖ...</td>\n",
       "      <td>NEGATIVE</td>\n",
       "      <td>ND</td>\n",
       "    </tr>\n",
       "    <tr>\n",
       "      <th>2</th>\n",
       "      <td>14146</td>\n",
       "      <td>ΙΣΧΥΡ ΚΚΕ ΔΥΝΑΜ ΛΑ ΒΟΥΛ ΚΑΘΗΜΕΡΙΝ ΑΓΩΝ</td>\n",
       "      <td>POSITIVE</td>\n",
       "      <td>KKE</td>\n",
       "    </tr>\n",
       "    <tr>\n",
       "      <th>3</th>\n",
       "      <td>28716</td>\n",
       "      <td>ΜΝΗΜΟΝΙΑΚ ΜΕΡ ΕΚΛΟΓ ΚΚΕ</td>\n",
       "      <td>NEUTRAL</td>\n",
       "      <td>KKE</td>\n",
       "    </tr>\n",
       "    <tr>\n",
       "      <th>4</th>\n",
       "      <td>32886</td>\n",
       "      <td>ΣΥΓΚΛΟΝΙΣΤ ΨΥΧΑΣΘΕΝΕ ΤΣΙΠΡ</td>\n",
       "      <td>NEUTRAL</td>\n",
       "      <td>SYRIZA</td>\n",
       "    </tr>\n",
       "  </tbody>\n",
       "</table>\n",
       "</div>"
      ],
      "text/plain": [
       "   New_ID                                               Text Sentiment   Party\n",
       "0   35027  ΑΠΟΛΥΜΑΝΣ ΚΟΡΙ ΑΠΕΝΤΟΜΩΣ ΚΟΡΙ ΑΠΟΛΥΜΑΝΣ ΚΟΡΙ Κ...   NEUTRAL  SYRIZA\n",
       "1    9531  ΕΞΙ ΝΕ ΕΠΙΣΤΟΛ ΜΑΚΕΔΟΝ ΚΑΙΝ ΝΔ ΜΗΤΣΟΤΑΚ ΓΝΩΡΙΖ...  NEGATIVE      ND\n",
       "2   14146             ΙΣΧΥΡ ΚΚΕ ΔΥΝΑΜ ΛΑ ΒΟΥΛ ΚΑΘΗΜΕΡΙΝ ΑΓΩΝ  POSITIVE     KKE\n",
       "3   28716                            ΜΝΗΜΟΝΙΑΚ ΜΕΡ ΕΚΛΟΓ ΚΚΕ   NEUTRAL     KKE\n",
       "4   32886                         ΣΥΓΚΛΟΝΙΣΤ ΨΥΧΑΣΘΕΝΕ ΤΣΙΠΡ   NEUTRAL  SYRIZA"
      ]
     },
     "execution_count": 7,
     "metadata": {},
     "output_type": "execute_result"
    }
   ],
   "source": [
    "stemmed = pd.read_json(jsonpath2)   \n",
    "stemmed.head(5)"
   ]
  },
  {
   "cell_type": "markdown",
   "id": "d2065747",
   "metadata": {
    "editable": false,
    "papermill": {
     "duration": 0.024395,
     "end_time": "2024-02-11T09:09:29.599085",
     "exception": false,
     "start_time": "2024-02-11T09:09:29.574690",
     "status": "completed"
    },
    "tags": []
   },
   "source": [
    "Function to create a word2vec model"
   ]
  },
  {
   "cell_type": "code",
   "execution_count": 8,
   "id": "0f7eb5eb",
   "metadata": {
    "editable": false,
    "execution": {
     "iopub.execute_input": "2024-02-11T09:09:29.650290Z",
     "iopub.status.busy": "2024-02-11T09:09:29.649894Z",
     "iopub.status.idle": "2024-02-11T09:09:29.656701Z",
     "shell.execute_reply": "2024-02-11T09:09:29.655720Z"
    },
    "papermill": {
     "duration": 0.034702,
     "end_time": "2024-02-11T09:09:29.658676",
     "exception": false,
     "start_time": "2024-02-11T09:09:29.623974",
     "status": "completed"
    },
    "tags": []
   },
   "outputs": [],
   "source": [
    "#Function to create a word2vec model for our dataset\n",
    "def create_word2vec_model(corpus):\n",
    "    data = []\n",
    "    for (i, tweet) in enumerate(corpus['Text'].values):\n",
    "        tokenized_text = []\n",
    "        for word in word_tokenize(tweet):\n",
    "            tokenized_text.append(word)\n",
    "        data.append(tokenized_text)\n",
    "    model = Word2Vec(data, min_count = 1, vector_size = 100, window = 5, sg = 1) #Create a word2vec model using skip grams\n",
    "    name = \"word2vec.model\"\n",
    "    model.save(name) #Save our model for later\n",
    "    return name\n",
    "#test prints\n",
    "#model_name = create_word2vec_model(train_set['Text'])\n",
    "#model = Word2Vec.load(model_name) \n",
    "#vector = model.wv \n",
    "#print(vector['απολυμανση'])\n",
    "#sims = model.wv.most_similar('απολυμανση', topn=10)  # get other similar words\n",
    "#print(sims)\n"
   ]
  },
  {
   "cell_type": "markdown",
   "id": "ce0767ad",
   "metadata": {
    "editable": false,
    "papermill": {
     "duration": 0.023936,
     "end_time": "2024-02-11T09:09:29.706741",
     "exception": false,
     "start_time": "2024-02-11T09:09:29.682805",
     "status": "completed"
    },
    "tags": []
   },
   "source": [
    "Transform out data into a list of (X,Y) = (word2vec vector, class) tuples"
   ]
  },
  {
   "cell_type": "code",
   "execution_count": 9,
   "id": "5a6c4238",
   "metadata": {
    "execution": {
     "iopub.execute_input": "2024-02-11T09:09:29.755921Z",
     "iopub.status.busy": "2024-02-11T09:09:29.755645Z",
     "iopub.status.idle": "2024-02-11T09:11:10.457515Z",
     "shell.execute_reply": "2024-02-11T09:11:10.456484Z"
    },
    "papermill": {
     "duration": 100.754901,
     "end_time": "2024-02-11T09:11:10.485572",
     "exception": false,
     "start_time": "2024-02-11T09:09:29.730671",
     "status": "completed"
    },
    "tags": []
   },
   "outputs": [
    {
     "name": "stdout",
     "output_type": "stream",
     "text": [
      "Done\n"
     ]
    }
   ],
   "source": [
    "#Function to vectorize the data for our model\n",
    "def vectorize(df):\n",
    "    X = []\n",
    "    Y = []\n",
    "    # Sentiments mapped to numbers \n",
    "    df['Sentiment_Num'] = df.Sentiment.map({\n",
    "    'POSITIVE':0,\n",
    "    'NEUTRAL':1,\n",
    "    'NEGATIVE':2\n",
    "    \n",
    "    })\n",
    "    \n",
    "    Sentiments = list(df['Sentiment_Num'])\n",
    "    \n",
    "    model_name = create_word2vec_model(df)\n",
    "    model = Word2Vec.load(model_name) \n",
    "    for (i, tweet) in enumerate(df['Text'].values):\n",
    "        featureVec = np.zeros(100,dtype=\"float32\")\n",
    "        nwords = 0\n",
    "        #Converting Index2Word which is a list to a set for better speed in the execution.\n",
    "        index2word_set = set(model.wv.index_to_key)\n",
    "        for word in word_tokenize(tweet):\n",
    "            if word in index2word_set:\n",
    "                nwords = nwords + 1\n",
    "                featureVec = np.add(featureVec,model.wv[word])\n",
    "        # Dividing the result by number of words to get average\n",
    "        if(nwords > 0):\n",
    "            featureVec = np.divide(featureVec, nwords)\n",
    "        X.append(featureVec) #we keep the mean \n",
    "        Y.append(Sentiments[i])         \n",
    "    return(X,Y)\n",
    "\n",
    "#Loading processed data and vectorization\n",
    "stemmed = pd.read_json(jsonpath2)   \n",
    "(X,Y) = vectorize(stemmed)\n",
    "print(\"Done\")"
   ]
  },
  {
   "cell_type": "markdown",
   "id": "a510b0b0",
   "metadata": {
    "papermill": {
     "duration": 0.02491,
     "end_time": "2024-02-11T09:11:10.535663",
     "exception": false,
     "start_time": "2024-02-11T09:11:10.510753",
     "status": "completed"
    },
    "tags": []
   },
   "source": [
    "Split the data for training, evaluation and testing"
   ]
  },
  {
   "cell_type": "code",
   "execution_count": 10,
   "id": "4b5b890e",
   "metadata": {
    "execution": {
     "iopub.execute_input": "2024-02-11T09:11:10.588231Z",
     "iopub.status.busy": "2024-02-11T09:11:10.587846Z",
     "iopub.status.idle": "2024-02-11T09:11:12.058883Z",
     "shell.execute_reply": "2024-02-11T09:11:12.057902Z"
    },
    "papermill": {
     "duration": 1.499784,
     "end_time": "2024-02-11T09:11:12.060760",
     "exception": false,
     "start_time": "2024-02-11T09:11:10.560976",
     "status": "completed"
    },
    "tags": []
   },
   "outputs": [
    {
     "name": "stderr",
     "output_type": "stream",
     "text": [
      "/tmp/ipykernel_26/4100111601.py:5: UserWarning: Creating a tensor from a list of numpy.ndarrays is extremely slow. Please consider converting the list to a single numpy.ndarray with numpy.array() before converting to a tensor. (Triggered internally at /usr/local/src/pytorch/torch/csrc/utils/tensor_new.cpp:245.)\n",
      "  Xt = torch.tensor(Xtrain, dtype=torch.float, device=device)\n"
     ]
    },
    {
     "name": "stdout",
     "output_type": "stream",
     "text": [
      "torch.Size([33489, 100]) torch.Size([33489])\n",
      "torch.Size([4186, 100]) torch.Size([4186])\n",
      "torch.Size([4187, 100]) torch.Size([4187])\n"
     ]
    }
   ],
   "source": [
    "device = torch.device('cuda' if torch.cuda.is_available() else 'cpu')\n",
    "Xtrain, X1 , Ytrain, Y1 = train_test_split(X, Y, test_size=0.2, random_state=69)\n",
    "Xval, Xtest , Yval, Ytest = train_test_split(X1, Y1, test_size=0.5, random_state=69)\n",
    "\n",
    "Xt = torch.tensor(Xtrain, dtype=torch.float, device=device)\n",
    "Yt = torch.tensor(Ytrain, device=device)\n",
    "print(Xt.shape, Yt.shape)\n",
    "\n",
    "Xv = torch.tensor(Xval, dtype=torch.float, device=device)\n",
    "Yv = torch.tensor(Yval,device=device)\n",
    "print(Xv.shape, Yv.shape)\n",
    "\n",
    "XT = torch.tensor(Xtest, dtype=torch.float, device=device)\n",
    "YT = torch.tensor(Ytest, device=device)\n",
    "print(XT.shape, YT.shape)\n",
    "\n",
    "TrainDataset = torch.utils.data.TensorDataset(Xt, Yt)\n",
    "TrainDataloader = torch.utils.data.DataLoader(TrainDataset, batch_size=2442,shuffle=True)\n",
    "\n",
    "ValidDataset = torch.utils.data.TensorDataset(Xv, Yv)\n",
    "ValidDataloader = torch.utils.data.DataLoader(ValidDataset, batch_size=2442, shuffle=True)\n",
    "\n",
    "TestDataset = torch.utils.data.TensorDataset(XT, YT)\n",
    "TestDataloader = torch.utils.data.DataLoader(TestDataset, batch_size=2442, shuffle=True)"
   ]
  },
  {
   "cell_type": "markdown",
   "id": "e9afb7ad",
   "metadata": {
    "editable": false,
    "papermill": {
     "duration": 0.024852,
     "end_time": "2024-02-11T09:11:12.111155",
     "exception": false,
     "start_time": "2024-02-11T09:11:12.086303",
     "status": "completed"
    },
    "tags": []
   },
   "source": [
    "RNN implementation "
   ]
  },
  {
   "cell_type": "code",
   "execution_count": 11,
   "id": "84d489ff",
   "metadata": {
    "execution": {
     "iopub.execute_input": "2024-02-11T09:11:12.162731Z",
     "iopub.status.busy": "2024-02-11T09:11:12.162426Z",
     "iopub.status.idle": "2024-02-11T09:11:12.175593Z",
     "shell.execute_reply": "2024-02-11T09:11:12.174642Z"
    },
    "papermill": {
     "duration": 0.041217,
     "end_time": "2024-02-11T09:11:12.177702",
     "exception": false,
     "start_time": "2024-02-11T09:11:12.136485",
     "status": "completed"
    },
    "tags": []
   },
   "outputs": [],
   "source": [
    "class RNN(nn.Module):\n",
    "    def __init__(self, cell_type,input_size, hidden_size, num_layers,nonlinearity,drop, device, output_size, skip=False):\n",
    "        super(RNN, self).__init__()\n",
    "        \n",
    "        cells = {\n",
    "        \"LSTM\"    : nn.LSTM,\n",
    "        \"GRU\"     : nn.GRU}\n",
    "        \n",
    "        self.cell_type = cell_type\n",
    "        self.hidden_size = hidden_size\n",
    "        self.num_layers=num_layers\n",
    "        self.skip=skip\n",
    "        self.dropout = nn.Dropout(drop)\n",
    "        self.nonlinearity = nonlinearity\n",
    "        if skip:\n",
    "            self.rnn = nn.ModuleList()\n",
    "            self.rnn.append(cells[cell_type](input_size=input_size, hidden_size=hidden_size, num_layers=1,batch_first=True, bidirectional=True, device=device))\n",
    "            for i in range(num_layers-1):\n",
    "                self.rnn.append(cells[cell_type](input_size=hidden_size*2, hidden_size=hidden_size, num_layers=1,batch_first=True,bidirectional=True, device=device))\n",
    "        else:\n",
    "            self.rnn = cells[cell_type](input_size=input_size, hidden_size=hidden_size, num_layers=num_layers,batch_first=True,dropout=drop, bidirectional=True, device=device)\n",
    "        \n",
    "\n",
    "\n",
    "        #Dense output layer \n",
    "        self.out = nn.Linear(2*hidden_size, output_size, device=device)\n",
    "        \n",
    "    def forward(self, x):\n",
    "        if self.skip:\n",
    "            if self.cell_type == 'LSTM':\n",
    "                r_out, (h_n, h_c) = self.rnn[0](x) \n",
    "            else:\n",
    "                r_out, h_n = self.rnn[0](x)\n",
    "                \n",
    "            for i in range(self.num_layers-1):\n",
    "                prev = r_out\n",
    "                r_out = self.dropout(r_out)\n",
    "                if self.cell_type == 'LSTM':\n",
    "                    r_out, (h_n, h_c) = self.rnn[i+1](r_out) \n",
    "                else:\n",
    "                    r_out, h_n = self.rnn[i+1](r_out)\n",
    "                r_out = r_out + prev\n",
    "        else:\n",
    "            if self.cell_type == 'LSTM':\n",
    "                r_out, (h_n, h_c) = self.rnn(x) \n",
    "            else:\n",
    "                r_out, h_n = self.rnn(x)\n",
    "                \n",
    "        \n",
    "        \n",
    "        \n",
    "        return self.out(r_out)\n",
    "        \n",
    "        "
   ]
  },
  {
   "cell_type": "markdown",
   "id": "c036a057",
   "metadata": {
    "papermill": {
     "duration": 0.0249,
     "end_time": "2024-02-11T09:11:12.227277",
     "exception": false,
     "start_time": "2024-02-11T09:11:12.202377",
     "status": "completed"
    },
    "tags": []
   },
   "source": [
    "Train and Test functions"
   ]
  },
  {
   "cell_type": "code",
   "execution_count": 12,
   "id": "023d199b",
   "metadata": {
    "execution": {
     "iopub.execute_input": "2024-02-11T09:11:12.277869Z",
     "iopub.status.busy": "2024-02-11T09:11:12.277592Z",
     "iopub.status.idle": "2024-02-11T09:11:24.942819Z",
     "shell.execute_reply": "2024-02-11T09:11:24.941761Z"
    },
    "papermill": {
     "duration": 12.693121,
     "end_time": "2024-02-11T09:11:24.945092",
     "exception": false,
     "start_time": "2024-02-11T09:11:12.251971",
     "status": "completed"
    },
    "tags": []
   },
   "outputs": [
    {
     "name": "stdout",
     "output_type": "stream",
     "text": [
      "Collecting torcheval\r\n",
      "  Obtaining dependency information for torcheval from https://files.pythonhosted.org/packages/e4/de/e7abc784b00de9d05999657d29187f1f7a3406ed10ecaf164de06482608f/torcheval-0.0.7-py3-none-any.whl.metadata\r\n",
      "  Downloading torcheval-0.0.7-py3-none-any.whl.metadata (8.6 kB)\r\n",
      "Requirement already satisfied: typing-extensions in /opt/conda/lib/python3.10/site-packages (from torcheval) (4.5.0)\r\n",
      "Downloading torcheval-0.0.7-py3-none-any.whl (179 kB)\r\n",
      "\u001b[2K   \u001b[90m━━━━━━━━━━━━━━━━━━━━━━━━━━━━━━━━━━━━━━━━\u001b[0m \u001b[32m179.2/179.2 kB\u001b[0m \u001b[31m1.9 MB/s\u001b[0m eta \u001b[36m0:00:00\u001b[0m\r\n",
      "\u001b[?25hInstalling collected packages: torcheval\r\n",
      "Successfully installed torcheval-0.0.7\r\n"
     ]
    }
   ],
   "source": [
    "!pip install torcheval\n",
    "from torcheval.metrics.functional import multiclass_f1_score as mul_f1_score\n",
    "#Turn list of lists to single list, helper function we didn't end up using this one\n",
    "#def to_single_list(list_of_lists): \n",
    "    #return [item for row in list_of_lists for item in row]\n",
    "\n",
    "#Training Function for our Network\n",
    "def train(network, data_loader, criterion, optimizer, device, clip):\n",
    "    network.train()\n",
    "    running_loss = 0.0\n",
    "    for data, target in data_loader:\n",
    "        data, target = data.to(device), target.to(device)\n",
    "        optimizer.zero_grad()\n",
    "        output = network(data)\n",
    "        #print(output.size())\n",
    "        #print(target.size())\n",
    "        loss = criterion(output, target)\n",
    "        loss.backward()\n",
    "        nn.utils.clip_grad_norm_(model.parameters(), clip)\n",
    "        optimizer.step()\n",
    "\n",
    "        running_loss += loss.item() * data.size(0)\n",
    "    return running_loss / len(data_loader.dataset)\n",
    "\n",
    "#Testing Function for our Network\n",
    "def test(network, data_loader, criterion, device):\n",
    "    network.eval()\n",
    "    correct = 0\n",
    "    total = 0\n",
    "    test_loss = 0.0\n",
    "    f1_scores = []\n",
    "    with torch.no_grad():\n",
    "        for data, target in data_loader:\n",
    "            data, target = data.to(device), target.to(device)\n",
    "            output = network(data)\n",
    "            loss = criterion(output, target)\n",
    "            test_loss += loss.item() * data.size(0)\n",
    "            _, predicted = torch.max(output.data,1)\n",
    "            #print(target.shape)\n",
    "            #print(predicted.shape)\n",
    "            total += target.size(0)\n",
    "            correct += (predicted == target).sum().item()\n",
    "            score = mul_f1_score(output, target, num_classes=3, average=\"macro\")\n",
    "            f1_scores.append(score.item())\n",
    "    f1_score = np.average(f1_scores)\n",
    "    return test_loss / len(data_loader.dataset), 100 * correct / total, f1_score"
   ]
  },
  {
   "cell_type": "markdown",
   "id": "965350b6",
   "metadata": {
    "papermill": {
     "duration": 0.025705,
     "end_time": "2024-02-11T09:11:24.997183",
     "exception": false,
     "start_time": "2024-02-11T09:11:24.971478",
     "status": "completed"
    },
    "tags": []
   },
   "source": [
    "Run a small test for our model"
   ]
  },
  {
   "cell_type": "code",
   "execution_count": 13,
   "id": "50587c17",
   "metadata": {
    "execution": {
     "iopub.execute_input": "2024-02-11T09:11:25.051438Z",
     "iopub.status.busy": "2024-02-11T09:11:25.051104Z",
     "iopub.status.idle": "2024-02-11T09:11:54.291006Z",
     "shell.execute_reply": "2024-02-11T09:11:54.289911Z"
    },
    "papermill": {
     "duration": 29.270139,
     "end_time": "2024-02-11T09:11:54.293165",
     "exception": false,
     "start_time": "2024-02-11T09:11:25.023026",
     "status": "completed"
    },
    "tags": []
   },
   "outputs": [
    {
     "name": "stdout",
     "output_type": "stream",
     "text": [
      "Training with LSTM cell...\n",
      "Epoch [1/10], Test Loss: 1.0982, Test Accuracy: 35.09%, Test F1_score: 0.27\n",
      "Epoch [2/10], Test Loss: 1.0979, Test Accuracy: 34.07%, Test F1_score: 0.28\n",
      "Epoch [3/10], Test Loss: 1.0960, Test Accuracy: 35.93%, Test F1_score: 0.35\n",
      "Epoch [4/10], Test Loss: 1.0911, Test Accuracy: 37.27%, Test F1_score: 0.32\n",
      "Epoch [5/10], Test Loss: 1.0919, Test Accuracy: 36.34%, Test F1_score: 0.29\n",
      "Epoch [6/10], Test Loss: 1.0870, Test Accuracy: 38.37%, Test F1_score: 0.35\n",
      "Epoch [7/10], Test Loss: 1.0837, Test Accuracy: 39.27%, Test F1_score: 0.36\n",
      "Epoch [8/10], Test Loss: 1.0805, Test Accuracy: 39.58%, Test F1_score: 0.37\n",
      "Epoch [9/10], Test Loss: 1.0802, Test Accuracy: 39.46%, Test F1_score: 0.36\n",
      "Epoch [10/10], Test Loss: 1.0797, Test Accuracy: 39.70%, Test F1_score: 0.39\n",
      "Training with GRU cell...\n",
      "Epoch [1/10], Test Loss: 1.0983, Test Accuracy: 34.83%, Test F1_score: 0.26\n",
      "Epoch [2/10], Test Loss: 1.0958, Test Accuracy: 37.31%, Test F1_score: 0.34\n",
      "Epoch [3/10], Test Loss: 1.0941, Test Accuracy: 36.36%, Test F1_score: 0.35\n",
      "Epoch [4/10], Test Loss: 1.0903, Test Accuracy: 38.37%, Test F1_score: 0.38\n",
      "Epoch [5/10], Test Loss: 1.0866, Test Accuracy: 39.03%, Test F1_score: 0.37\n",
      "Epoch [6/10], Test Loss: 1.0914, Test Accuracy: 37.55%, Test F1_score: 0.33\n",
      "Epoch [7/10], Test Loss: 1.0846, Test Accuracy: 38.92%, Test F1_score: 0.38\n",
      "Epoch [8/10], Test Loss: 1.0821, Test Accuracy: 38.92%, Test F1_score: 0.38\n",
      "Epoch [9/10], Test Loss: 1.0776, Test Accuracy: 39.94%, Test F1_score: 0.38\n",
      "Epoch [10/10], Test Loss: 1.0814, Test Accuracy: 39.08%, Test F1_score: 0.35\n"
     ]
    }
   ],
   "source": [
    "device = torch.device('cuda' if torch.cuda.is_available() else 'cpu')\n",
    "input_size = 100\n",
    "hidden_size = 128\n",
    "num_classes = 3 #Neutral, Positive, Negative\n",
    "num_epochs = 10\n",
    "num_layers = 3\n",
    "learning_rate = 1e-3\n",
    "dropout_rate = 0.0\n",
    "clip = 1.0\n",
    "nonlinearity = 'tanh'\n",
    "cells = ['LSTM', 'GRU']\n",
    "\n",
    "\n",
    "\n",
    "# Train and test the model with different activation functions\n",
    "for cell_type in cells:\n",
    "    print(f\"Training with {cell_type} cell...\")\n",
    "    model = RNN(cell_type,input_size, hidden_size, num_layers,nonlinearity,dropout_rate, device, num_classes).to(device)\n",
    "    criterion = nn.CrossEntropyLoss()\n",
    "    optimizer = optim.Adam(model.parameters(), lr=learning_rate)\n",
    "\n",
    "    train_loss_history = []\n",
    "    test_loss_history = []\n",
    "    test_accuracy_history = []\n",
    "    test_f1_score_history = []\n",
    "\n",
    "    for epoch in range(num_epochs):\n",
    "        train_loss = train(model,TrainDataloader, criterion, optimizer, device, clip)\n",
    "        test_loss, test_accuracy, test_f1_score = test(model, ValidDataloader, criterion, device)\n",
    "\n",
    "        train_loss_history.append(train_loss)\n",
    "        test_loss_history.append(test_loss)\n",
    "        test_accuracy_history.append(test_accuracy)\n",
    "        test_f1_score_history.append(test_f1_score)\n",
    "\n",
    "        print(f\"Epoch [{epoch+1}/{num_epochs}], Test Loss: {test_loss:.4f}, Test Accuracy: {test_accuracy:.2f}%, Test F1_score: {test_f1_score:.2f}\")\n",
    "\n"
   ]
  },
  {
   "cell_type": "code",
   "execution_count": 14,
   "id": "9e34b085",
   "metadata": {
    "execution": {
     "iopub.execute_input": "2024-02-11T09:11:54.349199Z",
     "iopub.status.busy": "2024-02-11T09:11:54.348840Z",
     "iopub.status.idle": "2024-02-11T10:21:31.276345Z",
     "shell.execute_reply": "2024-02-11T10:21:31.275366Z"
    },
    "papermill": {
     "duration": 4176.989038,
     "end_time": "2024-02-11T10:21:31.309956",
     "exception": false,
     "start_time": "2024-02-11T09:11:54.320918",
     "status": "completed"
    },
    "tags": []
   },
   "outputs": [
    {
     "name": "stderr",
     "output_type": "stream",
     "text": [
      "[I 2024-02-11 09:11:54,361] A new study created in memory with name: f1_score-maximize\n",
      "/opt/conda/lib/python3.10/site-packages/optuna/distributions.py:685: UserWarning: The distribution is specified by [0.01, 0.30000000000000004] and step=0.02, but the range is not divisible by `step`. It will be replaced by [0.01, 0.29].\n",
      "  warnings.warn(\n",
      "[I 2024-02-11 09:12:45,702] Trial 0 finished with value: 0.16929392945585828 and parameters: {'num_layers': 3, 'hidden_size': 27, 'learning_rate': 0.27, 'cell_type': 'GRU', 'clip': 0.8, 'skip': False, 'nonlinearity': 'relu', 'dropout_rate': 0.35000000000000003}. Best is trial 0 with value: 0.16929392945585828.\n",
      "[I 2024-02-11 09:13:53,019] Trial 1 finished with value: 0.16855239021507176 and parameters: {'num_layers': 6, 'hidden_size': 80, 'learning_rate': 0.19, 'cell_type': 'GRU', 'clip': 1.0, 'skip': False, 'nonlinearity': 'relu', 'dropout_rate': 0.25}. Best is trial 0 with value: 0.16929392945585828.\n",
      "[I 2024-02-11 09:14:55,897] Trial 2 finished with value: 0.1771072115410458 and parameters: {'num_layers': 5, 'hidden_size': 114, 'learning_rate': 0.17, 'cell_type': 'GRU', 'clip': 0.6, 'skip': True, 'nonlinearity': 'tanh', 'dropout_rate': 0.05}. Best is trial 2 with value: 0.1771072115410458.\n",
      "[I 2024-02-11 09:16:25,926] Trial 3 finished with value: 0.17285348903952222 and parameters: {'num_layers': 8, 'hidden_size': 114, 'learning_rate': 0.25, 'cell_type': 'GRU', 'clip': 1.0, 'skip': False, 'nonlinearity': 'tanh', 'dropout_rate': 0.2}. Best is trial 2 with value: 0.1771072115410458.\n",
      "[I 2024-02-11 09:17:54,927] Trial 4 finished with value: 0.16148202934048392 and parameters: {'num_layers': 10, 'hidden_size': 29, 'learning_rate': 0.11, 'cell_type': 'LSTM', 'clip': 0.8, 'skip': True, 'nonlinearity': 'relu', 'dropout_rate': 0.35000000000000003}. Best is trial 2 with value: 0.1771072115410458.\n",
      "[I 2024-02-11 09:19:03,341] Trial 5 finished with value: 0.17829415450493494 and parameters: {'num_layers': 6, 'hidden_size': 77, 'learning_rate': 0.01, 'cell_type': 'LSTM', 'clip': 0.5, 'skip': True, 'nonlinearity': 'tanh', 'dropout_rate': 0.1}. Best is trial 5 with value: 0.17829415450493494.\n",
      "[I 2024-02-11 09:20:54,634] Trial 6 finished with value: 0.165791098141309 and parameters: {'num_layers': 10, 'hidden_size': 125, 'learning_rate': 0.25, 'cell_type': 'GRU', 'clip': 0.7, 'skip': False, 'nonlinearity': 'tanh', 'dropout_rate': 0.15000000000000002}. Best is trial 5 with value: 0.17829415450493494.\n",
      "[I 2024-02-11 09:21:40,622] Trial 7 finished with value: 0.16966429510802933 and parameters: {'num_layers': 2, 'hidden_size': 62, 'learning_rate': 0.17, 'cell_type': 'GRU', 'clip': 0.7, 'skip': False, 'nonlinearity': 'tanh', 'dropout_rate': 0.25}. Best is trial 5 with value: 0.17829415450493494.\n",
      "[I 2024-02-11 09:22:37,721] Trial 8 finished with value: 0.16574111580848694 and parameters: {'num_layers': 4, 'hidden_size': 40, 'learning_rate': 0.13, 'cell_type': 'LSTM', 'clip': 0.9, 'skip': True, 'nonlinearity': 'tanh', 'dropout_rate': 0.05}. Best is trial 5 with value: 0.17829415450493494.\n",
      "[I 2024-02-11 09:23:39,891] Trial 9 finished with value: 0.1621977294033224 and parameters: {'num_layers': 5, 'hidden_size': 33, 'learning_rate': 0.21000000000000002, 'cell_type': 'GRU', 'clip': 1.0, 'skip': False, 'nonlinearity': 'tanh', 'dropout_rate': 0.35000000000000003}. Best is trial 5 with value: 0.17829415450493494.\n",
      "[I 2024-02-11 09:25:05,638] Trial 10 finished with value: 0.16208119904904655 and parameters: {'num_layers': 8, 'hidden_size': 89, 'learning_rate': 0.01, 'cell_type': 'LSTM', 'clip': 0.5, 'skip': True, 'nonlinearity': 'relu', 'dropout_rate': 0.15000000000000002}. Best is trial 5 with value: 0.17829415450493494.\n",
      "[I 2024-02-11 09:27:07,277] Trial 11 finished with value: 0.16238510292587857 and parameters: {'num_layers': 7, 'hidden_size': 102, 'learning_rate': 0.05, 'cell_type': 'LSTM', 'clip': 0.5, 'skip': True, 'nonlinearity': 'tanh', 'dropout_rate': 0.05}. Best is trial 5 with value: 0.17829415450493494.\n",
      "[I 2024-02-11 09:28:09,773] Trial 12 finished with value: 0.16872792103976914 and parameters: {'num_layers': 5, 'hidden_size': 61, 'learning_rate': 0.09, 'cell_type': 'LSTM', 'clip': 0.6, 'skip': True, 'nonlinearity': 'tanh', 'dropout_rate': 0.1}. Best is trial 5 with value: 0.17829415450493494.\n",
      "[I 2024-02-11 09:29:18,561] Trial 13 finished with value: 0.16933639121778082 and parameters: {'num_layers': 6, 'hidden_size': 85, 'learning_rate': 0.01, 'cell_type': 'LSTM', 'clip': 0.6, 'skip': True, 'nonlinearity': 'tanh', 'dropout_rate': 0.1}. Best is trial 5 with value: 0.17829415450493494.\n",
      "[I 2024-02-11 09:30:15,454] Trial 14 finished with value: 0.1657315817746249 and parameters: {'num_layers': 4, 'hidden_size': 2, 'learning_rate': 0.06999999999999999, 'cell_type': 'GRU', 'clip': 0.6, 'skip': True, 'nonlinearity': 'tanh', 'dropout_rate': 0.05}. Best is trial 5 with value: 0.17829415450493494.\n",
      "[I 2024-02-11 09:32:18,047] Trial 15 finished with value: 0.1689819750009161 and parameters: {'num_layers': 7, 'hidden_size': 104, 'learning_rate': 0.15000000000000002, 'cell_type': 'LSTM', 'clip': 0.5, 'skip': True, 'nonlinearity': 'tanh', 'dropout_rate': 0.15000000000000002}. Best is trial 5 with value: 0.17829415450493494.\n",
      "[I 2024-02-11 09:33:20,246] Trial 16 finished with value: 0.16217949715527621 and parameters: {'num_layers': 5, 'hidden_size': 52, 'learning_rate': 0.05, 'cell_type': 'GRU', 'clip': 0.6, 'skip': True, 'nonlinearity': 'tanh', 'dropout_rate': 0.1}. Best is trial 5 with value: 0.17829415450493494.\n",
      "[I 2024-02-11 09:35:47,414] Trial 17 finished with value: 0.1750036170988372 and parameters: {'num_layers': 8, 'hidden_size': 126, 'learning_rate': 0.21000000000000002, 'cell_type': 'LSTM', 'clip': 0.5, 'skip': True, 'nonlinearity': 'tanh', 'dropout_rate': 0.2}. Best is trial 5 with value: 0.17829415450493494.\n",
      "[I 2024-02-11 09:36:33,636] Trial 18 finished with value: 0.16954146573940912 and parameters: {'num_layers': 2, 'hidden_size': 74, 'learning_rate': 0.13, 'cell_type': 'GRU', 'clip': 0.7, 'skip': True, 'nonlinearity': 'relu', 'dropout_rate': 0.1}. Best is trial 5 with value: 0.17829415450493494.\n",
      "[I 2024-02-11 09:37:31,429] Trial 19 finished with value: 0.16611838498801895 and parameters: {'num_layers': 4, 'hidden_size': 93, 'learning_rate': 0.29, 'cell_type': 'LSTM', 'clip': 0.6, 'skip': True, 'nonlinearity': 'tanh', 'dropout_rate': 0.3}. Best is trial 5 with value: 0.17829415450493494.\n",
      "[I 2024-02-11 09:39:20,899] Trial 20 finished with value: 0.16230810975486581 and parameters: {'num_layers': 6, 'hidden_size': 112, 'learning_rate': 0.17, 'cell_type': 'LSTM', 'clip': 0.5, 'skip': True, 'nonlinearity': 'tanh', 'dropout_rate': 0.4}. Best is trial 5 with value: 0.17829415450493494.\n",
      "[I 2024-02-11 09:41:48,678] Trial 21 finished with value: 0.16606342961842363 and parameters: {'num_layers': 8, 'hidden_size': 127, 'learning_rate': 0.21000000000000002, 'cell_type': 'LSTM', 'clip': 0.5, 'skip': True, 'nonlinearity': 'tanh', 'dropout_rate': 0.2}. Best is trial 5 with value: 0.17829415450493494.\n",
      "[I 2024-02-11 09:44:26,004] Trial 22 finished with value: 0.16926974532279102 and parameters: {'num_layers': 9, 'hidden_size': 116, 'learning_rate': 0.23, 'cell_type': 'LSTM', 'clip': 0.5, 'skip': True, 'nonlinearity': 'tanh', 'dropout_rate': 0.05}. Best is trial 5 with value: 0.17829415450493494.\n",
      "[I 2024-02-11 09:46:27,069] Trial 23 finished with value: 0.1623247561581207 and parameters: {'num_layers': 7, 'hidden_size': 98, 'learning_rate': 0.19, 'cell_type': 'LSTM', 'clip': 0.6, 'skip': True, 'nonlinearity': 'tanh', 'dropout_rate': 0.15000000000000002}. Best is trial 5 with value: 0.17829415450493494.\n",
      "[I 2024-02-11 09:49:07,612] Trial 24 finished with value: 0.1613711372695186 and parameters: {'num_layers': 9, 'hidden_size': 128, 'learning_rate': 0.15000000000000002, 'cell_type': 'LSTM', 'clip': 0.5, 'skip': True, 'nonlinearity': 'tanh', 'dropout_rate': 0.2}. Best is trial 5 with value: 0.17829415450493494.\n",
      "[I 2024-02-11 09:51:11,773] Trial 25 finished with value: 0.16167618402025916 and parameters: {'num_layers': 7, 'hidden_size': 107, 'learning_rate': 0.23, 'cell_type': 'LSTM', 'clip': 0.6, 'skip': True, 'nonlinearity': 'tanh', 'dropout_rate': 0.1}. Best is trial 5 with value: 0.17829415450493494.\n",
      "[I 2024-02-11 09:52:14,173] Trial 26 finished with value: 0.1695920926603404 and parameters: {'num_layers': 5, 'hidden_size': 74, 'learning_rate': 0.11, 'cell_type': 'GRU', 'clip': 0.7, 'skip': True, 'nonlinearity': 'tanh', 'dropout_rate': 0.25}. Best is trial 5 with value: 0.17829415450493494.\n",
      "[I 2024-02-11 09:54:50,755] Trial 27 finished with value: 0.16516572214437253 and parameters: {'num_layers': 9, 'hidden_size': 115, 'learning_rate': 0.19, 'cell_type': 'LSTM', 'clip': 0.5, 'skip': True, 'nonlinearity': 'relu', 'dropout_rate': 0.05}. Best is trial 5 with value: 0.17829415450493494.\n",
      "[I 2024-02-11 09:55:42,454] Trial 28 finished with value: 0.16195924975203746 and parameters: {'num_layers': 3, 'hidden_size': 121, 'learning_rate': 0.17, 'cell_type': 'GRU', 'clip': 0.6, 'skip': True, 'nonlinearity': 'tanh', 'dropout_rate': 0.15000000000000002}. Best is trial 5 with value: 0.17829415450493494.\n",
      "[I 2024-02-11 09:56:49,790] Trial 29 finished with value: 0.1688947221546462 and parameters: {'num_layers': 6, 'hidden_size': 4, 'learning_rate': 0.29, 'cell_type': 'GRU', 'clip': 0.8, 'skip': False, 'nonlinearity': 'relu', 'dropout_rate': 0.1}. Best is trial 5 with value: 0.17829415450493494.\n",
      "[I 2024-02-11 09:58:08,231] Trial 30 finished with value: 0.16179876797127002 and parameters: {'num_layers': 8, 'hidden_size': 14, 'learning_rate': 0.03, 'cell_type': 'LSTM', 'clip': 0.9, 'skip': True, 'nonlinearity': 'tanh', 'dropout_rate': 0.3}. Best is trial 5 with value: 0.17829415450493494.\n",
      "[I 2024-02-11 09:59:38,391] Trial 31 finished with value: 0.16861707085009778 and parameters: {'num_layers': 8, 'hidden_size': 110, 'learning_rate': 0.25, 'cell_type': 'GRU', 'clip': 1.0, 'skip': False, 'nonlinearity': 'tanh', 'dropout_rate': 0.2}. Best is trial 5 with value: 0.17829415450493494.\n",
      "[I 2024-02-11 10:00:47,826] Trial 32 finished with value: 0.16209575725775777 and parameters: {'num_layers': 6, 'hidden_size': 96, 'learning_rate': 0.25, 'cell_type': 'GRU', 'clip': 0.9, 'skip': False, 'nonlinearity': 'tanh', 'dropout_rate': 0.2}. Best is trial 5 with value: 0.17829415450493494.\n",
      "[I 2024-02-11 10:02:10,917] Trial 33 finished with value: 0.16919661290717847 and parameters: {'num_layers': 7, 'hidden_size': 119, 'learning_rate': 0.27, 'cell_type': 'GRU', 'clip': 0.8, 'skip': False, 'nonlinearity': 'tanh', 'dropout_rate': 0.3}. Best is trial 5 with value: 0.17829415450493494.\n",
      "[I 2024-02-11 10:03:39,459] Trial 34 finished with value: 0.1657119540102554 and parameters: {'num_layers': 9, 'hidden_size': 82, 'learning_rate': 0.21000000000000002, 'cell_type': 'GRU', 'clip': 0.9, 'skip': False, 'nonlinearity': 'relu', 'dropout_rate': 0.25}. Best is trial 5 with value: 0.17829415450493494.\n",
      "[I 2024-02-11 10:05:13,555] Trial 35 finished with value: 0.1660275667002707 and parameters: {'num_layers': 10, 'hidden_size': 72, 'learning_rate': 0.23, 'cell_type': 'GRU', 'clip': 0.7, 'skip': False, 'nonlinearity': 'tanh', 'dropout_rate': 0.15000000000000002}. Best is trial 5 with value: 0.17829415450493494.\n",
      "[I 2024-02-11 10:06:31,866] Trial 36 finished with value: 0.1693429605978908 and parameters: {'num_layers': 8, 'hidden_size': 55, 'learning_rate': 0.19, 'cell_type': 'GRU', 'clip': 0.5, 'skip': False, 'nonlinearity': 'tanh', 'dropout_rate': 0.2}. Best is trial 5 with value: 0.17829415450493494.\n",
      "[I 2024-02-11 10:07:35,836] Trial 37 finished with value: 0.16231230623794324 and parameters: {'num_layers': 5, 'hidden_size': 121, 'learning_rate': 0.27, 'cell_type': 'GRU', 'clip': 1.0, 'skip': False, 'nonlinearity': 'tanh', 'dropout_rate': 0.25}. Best is trial 5 with value: 0.17829415450493494.\n",
      "[I 2024-02-11 10:10:24,902] Trial 38 finished with value: 0.16499086379101782 and parameters: {'num_layers': 10, 'hidden_size': 107, 'learning_rate': 0.11, 'cell_type': 'LSTM', 'clip': 0.7, 'skip': False, 'nonlinearity': 'relu', 'dropout_rate': 0.05}. Best is trial 5 with value: 0.17829415450493494.\n",
      "[I 2024-02-11 10:11:40,687] Trial 39 finished with value: 0.16224689849398352 and parameters: {'num_layers': 7, 'hidden_size': 89, 'learning_rate': 0.13, 'cell_type': 'GRU', 'clip': 0.5, 'skip': True, 'nonlinearity': 'tanh', 'dropout_rate': 0.15000000000000002}. Best is trial 5 with value: 0.17829415450493494.\n",
      "[I 2024-02-11 10:12:32,934] Trial 40 finished with value: 0.16578519321752316 and parameters: {'num_layers': 3, 'hidden_size': 44, 'learning_rate': 0.21000000000000002, 'cell_type': 'LSTM', 'clip': 0.8, 'skip': False, 'nonlinearity': 'tanh', 'dropout_rate': 0.25}. Best is trial 5 with value: 0.17829415450493494.\n",
      "[I 2024-02-11 10:13:19,355] Trial 41 finished with value: 0.16928189947749628 and parameters: {'num_layers': 2, 'hidden_size': 66, 'learning_rate': 0.17, 'cell_type': 'GRU', 'clip': 0.7, 'skip': False, 'nonlinearity': 'tanh', 'dropout_rate': 0.3}. Best is trial 5 with value: 0.17829415450493494.\n",
      "[I 2024-02-11 10:14:16,276] Trial 42 finished with value: 0.16912183955763327 and parameters: {'num_layers': 4, 'hidden_size': 61, 'learning_rate': 0.17, 'cell_type': 'GRU', 'clip': 0.6, 'skip': False, 'nonlinearity': 'tanh', 'dropout_rate': 0.25}. Best is trial 5 with value: 0.17829415450493494.\n",
      "[I 2024-02-11 10:15:24,120] Trial 43 finished with value: 0.1660164242441004 and parameters: {'num_layers': 6, 'hidden_size': 44, 'learning_rate': 0.19, 'cell_type': 'GRU', 'clip': 0.7, 'skip': False, 'nonlinearity': 'tanh', 'dropout_rate': 0.2}. Best is trial 5 with value: 0.17829415450493494.\n",
      "[I 2024-02-11 10:16:10,720] Trial 44 finished with value: 0.1620472441568519 and parameters: {'num_layers': 2, 'hidden_size': 102, 'learning_rate': 0.13, 'cell_type': 'GRU', 'clip': 0.6, 'skip': False, 'nonlinearity': 'tanh', 'dropout_rate': 0.05}. Best is trial 5 with value: 0.17829415450493494.\n",
      "[I 2024-02-11 10:17:02,089] Trial 45 finished with value: 0.16216483249357252 and parameters: {'num_layers': 3, 'hidden_size': 53, 'learning_rate': 0.15000000000000002, 'cell_type': 'GRU', 'clip': 0.5, 'skip': True, 'nonlinearity': 'tanh', 'dropout_rate': 0.35000000000000003}. Best is trial 5 with value: 0.17829415450493494.\n",
      "[I 2024-02-11 10:18:04,798] Trial 46 finished with value: 0.16891915825280276 and parameters: {'num_layers': 5, 'hidden_size': 28, 'learning_rate': 0.23, 'cell_type': 'LSTM', 'clip': 0.6, 'skip': True, 'nonlinearity': 'tanh', 'dropout_rate': 0.1}. Best is trial 5 with value: 0.17829415450493494.\n",
      "[I 2024-02-11 10:19:02,252] Trial 47 finished with value: 0.16228642359827505 and parameters: {'num_layers': 4, 'hidden_size': 122, 'learning_rate': 0.25, 'cell_type': 'GRU', 'clip': 0.7, 'skip': True, 'nonlinearity': 'relu', 'dropout_rate': 0.4}. Best is trial 5 with value: 0.17829415450493494.\n",
      "[I 2024-02-11 10:20:10,749] Trial 48 finished with value: 0.16247014994874145 and parameters: {'num_layers': 6, 'hidden_size': 69, 'learning_rate': 0.06999999999999999, 'cell_type': 'LSTM', 'clip': 0.6, 'skip': False, 'nonlinearity': 'tanh', 'dropout_rate': 0.25}. Best is trial 5 with value: 0.17829415450493494.\n",
      "[I 2024-02-11 10:21:31,260] Trial 49 finished with value: 0.16277040857257266 and parameters: {'num_layers': 8, 'hidden_size': 77, 'learning_rate': 0.09, 'cell_type': 'GRU', 'clip': 0.5, 'skip': True, 'nonlinearity': 'tanh', 'dropout_rate': 0.15000000000000002}. Best is trial 5 with value: 0.17829415450493494.\n"
     ]
    },
    {
     "name": "stdout",
     "output_type": "stream",
     "text": [
      "numbers of the finished trials: 50\n",
      "Trial with highest accuracy: \n",
      "the best params: {'num_layers': 6, 'hidden_size': 77, 'learning_rate': 0.01, 'cell_type': 'LSTM', 'clip': 0.5, 'skip': True, 'nonlinearity': 'tanh', 'dropout_rate': 0.1}\n",
      "the best value: 0.17829415450493494\n"
     ]
    }
   ],
   "source": [
    "#Optuna framework for hyperparameter tuning\n",
    "import optuna\n",
    "def suggest_hyperparameters(trial): #function to include the suggested hyperparameters\n",
    "    # Experimenting with different optimizers\n",
    "    #optimizer_name = trial.suggest_categorical(\"optimizer_name\", [\"Adam\", \"AdamW\",\"SGD\",\"Adagrad\", \"Adamax\", \"RMSprop\"])\n",
    "    #optimizer_name = trial.suggest_categorical(\"optimizer_name\", [\"Adam\", \"Adamax\",\"RMSprop\", \"NAdam\"])\n",
    "    \n",
    "    #activation_function = trial.suggest_categorical(\"activation_function\",[\"ReLU\",\n",
    "    #\"Sigmoid\",\"Tanh\", \"LeakyReLU\", \"Hardshrink\", \"GELU\", \"SiLU\"])\n",
    "    num_layers = trial.suggest_int('num_layers', 2,10)\n",
    "    hidden_size =  trial.suggest_int('hidden_size', 2,128)\n",
    "    learning_rate = trial.suggest_float(\"learning_rate\", 1e-2, 1e-1*3, log=False,step=0.02)\n",
    "    cell_type = trial.suggest_categorical('cell_type', ['LSTM', 'GRU'])\n",
    "    clip =  trial.suggest_float('clip', 0.5, 1.0, step=0.1)\n",
    "    skip = trial.suggest_categorical('skip', [True, False])\n",
    "    nonlinearity = trial.suggest_categorical('nonlinearity', ['tanh','relu'])\n",
    "    dropout_rate = trial.suggest_float(\"dropout_rate\", 0.05, 0.4, log=False,step=0.05)\n",
    "    #dropout_rate = trial.suggest_float(\"dropout_rate\", 0.05, 0.4, log=False,step=0.05)\n",
    "    #clip =  trial.suggest_float('clip', 0.1, 0.7, step=0.025)\n",
    "    #skip = trial.suggest_categorical('skip', [True, False])\n",
    "    #nonlinearity = trial.suggest_categorical('nonlinearity', ['tanh','relu'])\n",
    "    return num_layers, cell_type, hidden_size,learning_rate, clip,skip,nonlinearity,learning_rate,dropout_rate\n",
    "\n",
    "\n",
    "#Optuna sample\n",
    "def objective(trial):    \n",
    "    #Get hyperparameters\n",
    "    num_layers, cell_type, hidden_size,learning_rate, clip,skip,nonlinearity,learning_rate,dropout_rate = suggest_hyperparameters(trial)\n",
    "    device = torch.device('cuda' if torch.cuda.is_available() else 'cpu')\n",
    "    num_epochs = 25\n",
    "    criterion = nn.CrossEntropyLoss()\n",
    "    #Define input/output sizes\n",
    "    input_size = 100 #Word2Vec model with 100 weights, our choise \n",
    "    output_size = 3 #Neutral, Positive, Negative\n",
    "    \n",
    "\n",
    "    #Initialise model, loss, optimizer\n",
    "    model = RNN(cell_type,input_size, hidden_size, num_layers,nonlinearity,dropout_rate, device, num_classes).to(device)\n",
    "    criterion = nn.CrossEntropyLoss()\n",
    "    optimizer = torch.optim.Adam(model.parameters(), lr=learning_rate)\n",
    "    \n",
    "              \n",
    "    #Initialise dataloader\n",
    "    TrainDataset = torch.utils.data.TensorDataset(Xt, Yt)\n",
    "    TrainDataloader = torch.utils.data.DataLoader(TrainDataset, batch_size=64,shuffle=True)\n",
    "    \n",
    "    ValidDataset = torch.utils.data.TensorDataset(Xv, Yv)\n",
    "    ValidDataloader = torch.utils.data.DataLoader(ValidDataset, batch_size=64, shuffle=True)\n",
    "    \n",
    "    train_loss_history = []\n",
    "\n",
    "    for epoch in range(num_epochs):\n",
    "        train_loss = train(model,TrainDataloader, criterion, optimizer, device,clip)\n",
    "        train_loss_history.append(train_loss)\n",
    "    test_loss, test_accuracy, test_f1_score = test(model, ValidDataloader, criterion, device)\n",
    "    return test_f1_score\n",
    "\n",
    "#optuna_test = optuna.create_study(directions=[\"minimize\", \"maximize\"], study_name = 'lr-minim-sample')\n",
    "optuna_test = optuna.create_study(direction = 'maximize' , study_name = 'f1_score-maximize')\n",
    "optuna_test.optimize(objective, n_trials = 50) #the first parameter is the function that we want to optimise\n",
    "print('numbers of the finished trials:' , len(optuna_test.trials))\n",
    "#trial_with_highest_accuracy = max(optuna_test.best_trials, key=lambda t: t.values[1])\n",
    "print(f\"Trial with highest accuracy: \")\n",
    "#print(f\"\\tnumber: {trial_with_highest_accuracy.number}\")\n",
    "#print(f\"\\tparams: {trial_with_highest_accuracy.params}\")\n",
    "#print(f\"\\tvalues: {trial_with_highest_accuracy.values}\")\n",
    "print('the best params:' , optuna_test.best_trial.params)\n",
    "print('the best value:' , optuna_test.best_value)\n",
    "\n",
    "# Best number of trials appears to be 50 , as it gave me the best hyperparameters for my model."
   ]
  },
  {
   "cell_type": "markdown",
   "id": "7361ff6a",
   "metadata": {
    "papermill": {
     "duration": 0.082067,
     "end_time": "2024-02-11T10:21:31.423970",
     "exception": false,
     "start_time": "2024-02-11T10:21:31.341903",
     "status": "completed"
    },
    "tags": []
   },
   "source": [
    "numbers of the finished trials: 50\n",
    "Trial with highest accuracy: \n",
    "the best params: {'num_layers': 3, 'hidden_size': 19, 'learning_rate': 0.01, 'cell_type': 'LSTM', 'clip': 1.0, 'skip': True, 'nonlinearity': 'tanh', 'dropout_rate': 0.15000000000000002}\n",
    "the best value: 0.33164322489138803"
   ]
  },
  {
   "cell_type": "markdown",
   "id": "542657ad",
   "metadata": {
    "papermill": {
     "duration": 0.030993,
     "end_time": "2024-02-11T10:21:31.487983",
     "exception": false,
     "start_time": "2024-02-11T10:21:31.456990",
     "status": "completed"
    },
    "tags": []
   },
   "source": [
    "Plot and Tables from the hyperparameter tuning"
   ]
  },
  {
   "cell_type": "code",
   "execution_count": 15,
   "id": "507dcd3c",
   "metadata": {
    "execution": {
     "iopub.execute_input": "2024-02-11T10:21:31.552238Z",
     "iopub.status.busy": "2024-02-11T10:21:31.551381Z",
     "iopub.status.idle": "2024-02-11T10:21:33.450932Z",
     "shell.execute_reply": "2024-02-11T10:21:33.450014Z"
    },
    "papermill": {
     "duration": 1.93389,
     "end_time": "2024-02-11T10:21:33.452961",
     "exception": false,
     "start_time": "2024-02-11T10:21:31.519071",
     "status": "completed"
    },
    "tags": []
   },
   "outputs": [
    {
     "data": {
      "text/html": [
       "        <script type=\"text/javascript\">\n",
       "        window.PlotlyConfig = {MathJaxConfig: 'local'};\n",
       "        if (window.MathJax && window.MathJax.Hub && window.MathJax.Hub.Config) {window.MathJax.Hub.Config({SVG: {font: \"STIX-Web\"}});}\n",
       "        if (typeof require !== 'undefined') {\n",
       "        require.undef(\"plotly\");\n",
       "        requirejs.config({\n",
       "            paths: {\n",
       "                'plotly': ['https://cdn.plot.ly/plotly-2.25.2.min']\n",
       "            }\n",
       "        });\n",
       "        require(['plotly'], function(Plotly) {\n",
       "            window._Plotly = Plotly;\n",
       "        });\n",
       "        }\n",
       "        </script>\n",
       "        "
      ]
     },
     "metadata": {},
     "output_type": "display_data"
    },
    {
     "data": {
      "text/html": [
       "<div>                            <div id=\"8685ced5-04b3-424a-8779-9446c68c7bd4\" class=\"plotly-graph-div\" style=\"height:525px; width:100%;\"></div>            <script type=\"text/javascript\">                require([\"plotly\"], function(Plotly) {                    window.PLOTLYENV=window.PLOTLYENV || {};                                    if (document.getElementById(\"8685ced5-04b3-424a-8779-9446c68c7bd4\")) {                    Plotly.newPlot(                        \"8685ced5-04b3-424a-8779-9446c68c7bd4\",                        [{\"cliponaxis\":false,\"hovertemplate\":[\"nonlinearity (CategoricalDistribution): 0.0019148749567574096\\u003cextra\\u003e\\u003c\\u002fextra\\u003e\",\"skip (CategoricalDistribution): 0.003186768771580413\\u003cextra\\u003e\\u003c\\u002fextra\\u003e\",\"learning_rate (FloatDistribution): 0.003262569479432483\\u003cextra\\u003e\\u003c\\u002fextra\\u003e\",\"clip (FloatDistribution): 0.014601810276809927\\u003cextra\\u003e\\u003c\\u002fextra\\u003e\",\"cell_type (CategoricalDistribution): 0.019663285890271182\\u003cextra\\u003e\\u003c\\u002fextra\\u003e\",\"dropout_rate (FloatDistribution): 0.04265180457210701\\u003cextra\\u003e\\u003c\\u002fextra\\u003e\",\"hidden_size (IntDistribution): 0.1655934198214794\\u003cextra\\u003e\\u003c\\u002fextra\\u003e\",\"num_layers (IntDistribution): 0.7491254662315622\\u003cextra\\u003e\\u003c\\u002fextra\\u003e\"],\"name\":\"duration\",\"orientation\":\"h\",\"text\":[\"\\u003c0.01\",\"\\u003c0.01\",\"\\u003c0.01\",\"0.01\",\"0.02\",\"0.04\",\"0.17\",\"0.75\"],\"textposition\":\"outside\",\"x\":[0.0019148749567574096,0.003186768771580413,0.003262569479432483,0.014601810276809927,0.019663285890271182,0.04265180457210701,0.1655934198214794,0.7491254662315622],\"y\":[\"nonlinearity\",\"skip\",\"learning_rate\",\"clip\",\"cell_type\",\"dropout_rate\",\"hidden_size\",\"num_layers\"],\"type\":\"bar\"}],                        {\"title\":{\"text\":\"Hyperparameter Importances\"},\"xaxis\":{\"title\":{\"text\":\"Hyperparameter Importance\"}},\"yaxis\":{\"title\":{\"text\":\"Hyperparameter\"}},\"template\":{\"data\":{\"histogram2dcontour\":[{\"type\":\"histogram2dcontour\",\"colorbar\":{\"outlinewidth\":0,\"ticks\":\"\"},\"colorscale\":[[0.0,\"#0d0887\"],[0.1111111111111111,\"#46039f\"],[0.2222222222222222,\"#7201a8\"],[0.3333333333333333,\"#9c179e\"],[0.4444444444444444,\"#bd3786\"],[0.5555555555555556,\"#d8576b\"],[0.6666666666666666,\"#ed7953\"],[0.7777777777777778,\"#fb9f3a\"],[0.8888888888888888,\"#fdca26\"],[1.0,\"#f0f921\"]]}],\"choropleth\":[{\"type\":\"choropleth\",\"colorbar\":{\"outlinewidth\":0,\"ticks\":\"\"}}],\"histogram2d\":[{\"type\":\"histogram2d\",\"colorbar\":{\"outlinewidth\":0,\"ticks\":\"\"},\"colorscale\":[[0.0,\"#0d0887\"],[0.1111111111111111,\"#46039f\"],[0.2222222222222222,\"#7201a8\"],[0.3333333333333333,\"#9c179e\"],[0.4444444444444444,\"#bd3786\"],[0.5555555555555556,\"#d8576b\"],[0.6666666666666666,\"#ed7953\"],[0.7777777777777778,\"#fb9f3a\"],[0.8888888888888888,\"#fdca26\"],[1.0,\"#f0f921\"]]}],\"heatmap\":[{\"type\":\"heatmap\",\"colorbar\":{\"outlinewidth\":0,\"ticks\":\"\"},\"colorscale\":[[0.0,\"#0d0887\"],[0.1111111111111111,\"#46039f\"],[0.2222222222222222,\"#7201a8\"],[0.3333333333333333,\"#9c179e\"],[0.4444444444444444,\"#bd3786\"],[0.5555555555555556,\"#d8576b\"],[0.6666666666666666,\"#ed7953\"],[0.7777777777777778,\"#fb9f3a\"],[0.8888888888888888,\"#fdca26\"],[1.0,\"#f0f921\"]]}],\"heatmapgl\":[{\"type\":\"heatmapgl\",\"colorbar\":{\"outlinewidth\":0,\"ticks\":\"\"},\"colorscale\":[[0.0,\"#0d0887\"],[0.1111111111111111,\"#46039f\"],[0.2222222222222222,\"#7201a8\"],[0.3333333333333333,\"#9c179e\"],[0.4444444444444444,\"#bd3786\"],[0.5555555555555556,\"#d8576b\"],[0.6666666666666666,\"#ed7953\"],[0.7777777777777778,\"#fb9f3a\"],[0.8888888888888888,\"#fdca26\"],[1.0,\"#f0f921\"]]}],\"contourcarpet\":[{\"type\":\"contourcarpet\",\"colorbar\":{\"outlinewidth\":0,\"ticks\":\"\"}}],\"contour\":[{\"type\":\"contour\",\"colorbar\":{\"outlinewidth\":0,\"ticks\":\"\"},\"colorscale\":[[0.0,\"#0d0887\"],[0.1111111111111111,\"#46039f\"],[0.2222222222222222,\"#7201a8\"],[0.3333333333333333,\"#9c179e\"],[0.4444444444444444,\"#bd3786\"],[0.5555555555555556,\"#d8576b\"],[0.6666666666666666,\"#ed7953\"],[0.7777777777777778,\"#fb9f3a\"],[0.8888888888888888,\"#fdca26\"],[1.0,\"#f0f921\"]]}],\"surface\":[{\"type\":\"surface\",\"colorbar\":{\"outlinewidth\":0,\"ticks\":\"\"},\"colorscale\":[[0.0,\"#0d0887\"],[0.1111111111111111,\"#46039f\"],[0.2222222222222222,\"#7201a8\"],[0.3333333333333333,\"#9c179e\"],[0.4444444444444444,\"#bd3786\"],[0.5555555555555556,\"#d8576b\"],[0.6666666666666666,\"#ed7953\"],[0.7777777777777778,\"#fb9f3a\"],[0.8888888888888888,\"#fdca26\"],[1.0,\"#f0f921\"]]}],\"mesh3d\":[{\"type\":\"mesh3d\",\"colorbar\":{\"outlinewidth\":0,\"ticks\":\"\"}}],\"scatter\":[{\"fillpattern\":{\"fillmode\":\"overlay\",\"size\":10,\"solidity\":0.2},\"type\":\"scatter\"}],\"parcoords\":[{\"type\":\"parcoords\",\"line\":{\"colorbar\":{\"outlinewidth\":0,\"ticks\":\"\"}}}],\"scatterpolargl\":[{\"type\":\"scatterpolargl\",\"marker\":{\"colorbar\":{\"outlinewidth\":0,\"ticks\":\"\"}}}],\"bar\":[{\"error_x\":{\"color\":\"#2a3f5f\"},\"error_y\":{\"color\":\"#2a3f5f\"},\"marker\":{\"line\":{\"color\":\"#E5ECF6\",\"width\":0.5},\"pattern\":{\"fillmode\":\"overlay\",\"size\":10,\"solidity\":0.2}},\"type\":\"bar\"}],\"scattergeo\":[{\"type\":\"scattergeo\",\"marker\":{\"colorbar\":{\"outlinewidth\":0,\"ticks\":\"\"}}}],\"scatterpolar\":[{\"type\":\"scatterpolar\",\"marker\":{\"colorbar\":{\"outlinewidth\":0,\"ticks\":\"\"}}}],\"histogram\":[{\"marker\":{\"pattern\":{\"fillmode\":\"overlay\",\"size\":10,\"solidity\":0.2}},\"type\":\"histogram\"}],\"scattergl\":[{\"type\":\"scattergl\",\"marker\":{\"colorbar\":{\"outlinewidth\":0,\"ticks\":\"\"}}}],\"scatter3d\":[{\"type\":\"scatter3d\",\"line\":{\"colorbar\":{\"outlinewidth\":0,\"ticks\":\"\"}},\"marker\":{\"colorbar\":{\"outlinewidth\":0,\"ticks\":\"\"}}}],\"scattermapbox\":[{\"type\":\"scattermapbox\",\"marker\":{\"colorbar\":{\"outlinewidth\":0,\"ticks\":\"\"}}}],\"scatterternary\":[{\"type\":\"scatterternary\",\"marker\":{\"colorbar\":{\"outlinewidth\":0,\"ticks\":\"\"}}}],\"scattercarpet\":[{\"type\":\"scattercarpet\",\"marker\":{\"colorbar\":{\"outlinewidth\":0,\"ticks\":\"\"}}}],\"carpet\":[{\"aaxis\":{\"endlinecolor\":\"#2a3f5f\",\"gridcolor\":\"white\",\"linecolor\":\"white\",\"minorgridcolor\":\"white\",\"startlinecolor\":\"#2a3f5f\"},\"baxis\":{\"endlinecolor\":\"#2a3f5f\",\"gridcolor\":\"white\",\"linecolor\":\"white\",\"minorgridcolor\":\"white\",\"startlinecolor\":\"#2a3f5f\"},\"type\":\"carpet\"}],\"table\":[{\"cells\":{\"fill\":{\"color\":\"#EBF0F8\"},\"line\":{\"color\":\"white\"}},\"header\":{\"fill\":{\"color\":\"#C8D4E3\"},\"line\":{\"color\":\"white\"}},\"type\":\"table\"}],\"barpolar\":[{\"marker\":{\"line\":{\"color\":\"#E5ECF6\",\"width\":0.5},\"pattern\":{\"fillmode\":\"overlay\",\"size\":10,\"solidity\":0.2}},\"type\":\"barpolar\"}],\"pie\":[{\"automargin\":true,\"type\":\"pie\"}]},\"layout\":{\"autotypenumbers\":\"strict\",\"colorway\":[\"#636efa\",\"#EF553B\",\"#00cc96\",\"#ab63fa\",\"#FFA15A\",\"#19d3f3\",\"#FF6692\",\"#B6E880\",\"#FF97FF\",\"#FECB52\"],\"font\":{\"color\":\"#2a3f5f\"},\"hovermode\":\"closest\",\"hoverlabel\":{\"align\":\"left\"},\"paper_bgcolor\":\"white\",\"plot_bgcolor\":\"#E5ECF6\",\"polar\":{\"bgcolor\":\"#E5ECF6\",\"angularaxis\":{\"gridcolor\":\"white\",\"linecolor\":\"white\",\"ticks\":\"\"},\"radialaxis\":{\"gridcolor\":\"white\",\"linecolor\":\"white\",\"ticks\":\"\"}},\"ternary\":{\"bgcolor\":\"#E5ECF6\",\"aaxis\":{\"gridcolor\":\"white\",\"linecolor\":\"white\",\"ticks\":\"\"},\"baxis\":{\"gridcolor\":\"white\",\"linecolor\":\"white\",\"ticks\":\"\"},\"caxis\":{\"gridcolor\":\"white\",\"linecolor\":\"white\",\"ticks\":\"\"}},\"coloraxis\":{\"colorbar\":{\"outlinewidth\":0,\"ticks\":\"\"}},\"colorscale\":{\"sequential\":[[0.0,\"#0d0887\"],[0.1111111111111111,\"#46039f\"],[0.2222222222222222,\"#7201a8\"],[0.3333333333333333,\"#9c179e\"],[0.4444444444444444,\"#bd3786\"],[0.5555555555555556,\"#d8576b\"],[0.6666666666666666,\"#ed7953\"],[0.7777777777777778,\"#fb9f3a\"],[0.8888888888888888,\"#fdca26\"],[1.0,\"#f0f921\"]],\"sequentialminus\":[[0.0,\"#0d0887\"],[0.1111111111111111,\"#46039f\"],[0.2222222222222222,\"#7201a8\"],[0.3333333333333333,\"#9c179e\"],[0.4444444444444444,\"#bd3786\"],[0.5555555555555556,\"#d8576b\"],[0.6666666666666666,\"#ed7953\"],[0.7777777777777778,\"#fb9f3a\"],[0.8888888888888888,\"#fdca26\"],[1.0,\"#f0f921\"]],\"diverging\":[[0,\"#8e0152\"],[0.1,\"#c51b7d\"],[0.2,\"#de77ae\"],[0.3,\"#f1b6da\"],[0.4,\"#fde0ef\"],[0.5,\"#f7f7f7\"],[0.6,\"#e6f5d0\"],[0.7,\"#b8e186\"],[0.8,\"#7fbc41\"],[0.9,\"#4d9221\"],[1,\"#276419\"]]},\"xaxis\":{\"gridcolor\":\"white\",\"linecolor\":\"white\",\"ticks\":\"\",\"title\":{\"standoff\":15},\"zerolinecolor\":\"white\",\"automargin\":true,\"zerolinewidth\":2},\"yaxis\":{\"gridcolor\":\"white\",\"linecolor\":\"white\",\"ticks\":\"\",\"title\":{\"standoff\":15},\"zerolinecolor\":\"white\",\"automargin\":true,\"zerolinewidth\":2},\"scene\":{\"xaxis\":{\"backgroundcolor\":\"#E5ECF6\",\"gridcolor\":\"white\",\"linecolor\":\"white\",\"showbackground\":true,\"ticks\":\"\",\"zerolinecolor\":\"white\",\"gridwidth\":2},\"yaxis\":{\"backgroundcolor\":\"#E5ECF6\",\"gridcolor\":\"white\",\"linecolor\":\"white\",\"showbackground\":true,\"ticks\":\"\",\"zerolinecolor\":\"white\",\"gridwidth\":2},\"zaxis\":{\"backgroundcolor\":\"#E5ECF6\",\"gridcolor\":\"white\",\"linecolor\":\"white\",\"showbackground\":true,\"ticks\":\"\",\"zerolinecolor\":\"white\",\"gridwidth\":2}},\"shapedefaults\":{\"line\":{\"color\":\"#2a3f5f\"}},\"annotationdefaults\":{\"arrowcolor\":\"#2a3f5f\",\"arrowhead\":0,\"arrowwidth\":1},\"geo\":{\"bgcolor\":\"white\",\"landcolor\":\"#E5ECF6\",\"subunitcolor\":\"white\",\"showland\":true,\"showlakes\":true,\"lakecolor\":\"white\"},\"title\":{\"x\":0.05},\"mapbox\":{\"style\":\"light\"}}}},                        {\"responsive\": true}                    ).then(function(){\n",
       "                            \n",
       "var gd = document.getElementById('8685ced5-04b3-424a-8779-9446c68c7bd4');\n",
       "var x = new MutationObserver(function (mutations, observer) {{\n",
       "        var display = window.getComputedStyle(gd).display;\n",
       "        if (!display || display === 'none') {{\n",
       "            console.log([gd, 'removed!']);\n",
       "            Plotly.purge(gd);\n",
       "            observer.disconnect();\n",
       "        }}\n",
       "}});\n",
       "\n",
       "// Listen for the removal of the full notebook cells\n",
       "var notebookContainer = gd.closest('#notebook-container');\n",
       "if (notebookContainer) {{\n",
       "    x.observe(notebookContainer, {childList: true});\n",
       "}}\n",
       "\n",
       "// Listen for the clearing of the current output cell\n",
       "var outputEl = gd.closest('.output');\n",
       "if (outputEl) {{\n",
       "    x.observe(outputEl, {childList: true});\n",
       "}}\n",
       "\n",
       "                        })                };                });            </script>        </div>"
      ]
     },
     "metadata": {},
     "output_type": "display_data"
    }
   ],
   "source": [
    "from optuna.visualization import plot_contour\n",
    "from optuna.visualization import plot_edf\n",
    "from optuna.visualization import plot_intermediate_values\n",
    "from optuna.visualization import plot_optimization_history\n",
    "from optuna.visualization import plot_parallel_coordinate\n",
    "from optuna.visualization import plot_param_importances\n",
    "from optuna.visualization import plot_rank\n",
    "from optuna.visualization import plot_slice\n",
    "from optuna.visualization import plot_timeline\n",
    "\n",
    "#plotting hyperparameter importances regarding the duration of testing\n",
    "optuna.visualization.plot_param_importances(\n",
    "    optuna_test, target=lambda t: t.duration.total_seconds(), target_name=\"duration\"\n",
    ")\n"
   ]
  },
  {
   "cell_type": "markdown",
   "id": "fe684438",
   "metadata": {
    "papermill": {
     "duration": 0.032573,
     "end_time": "2024-02-11T10:21:33.518888",
     "exception": false,
     "start_time": "2024-02-11T10:21:33.486315",
     "status": "completed"
    },
    "tags": []
   },
   "source": [
    "Plot hyperparameter importances during testing"
   ]
  },
  {
   "cell_type": "code",
   "execution_count": 16,
   "id": "46ac6f0e",
   "metadata": {
    "execution": {
     "iopub.execute_input": "2024-02-11T10:21:33.584704Z",
     "iopub.status.busy": "2024-02-11T10:21:33.584356Z",
     "iopub.status.idle": "2024-02-11T10:21:34.516846Z",
     "shell.execute_reply": "2024-02-11T10:21:34.515740Z"
    },
    "papermill": {
     "duration": 0.967821,
     "end_time": "2024-02-11T10:21:34.519488",
     "exception": false,
     "start_time": "2024-02-11T10:21:33.551667",
     "status": "completed"
    },
    "tags": []
   },
   "outputs": [
    {
     "data": {
      "text/html": [
       "<div>                            <div id=\"cbe9a3d7-5e96-4523-b606-05c198fe6418\" class=\"plotly-graph-div\" style=\"height:525px; width:100%;\"></div>            <script type=\"text/javascript\">                require([\"plotly\"], function(Plotly) {                    window.PLOTLYENV=window.PLOTLYENV || {};                                    if (document.getElementById(\"cbe9a3d7-5e96-4523-b606-05c198fe6418\")) {                    Plotly.newPlot(                        \"cbe9a3d7-5e96-4523-b606-05c198fe6418\",                        [{\"cliponaxis\":false,\"hovertemplate\":[\"nonlinearity (CategoricalDistribution): 0.005935125685524103\\u003cextra\\u003e\\u003c\\u002fextra\\u003e\",\"skip (CategoricalDistribution): 0.033604659615118\\u003cextra\\u003e\\u003c\\u002fextra\\u003e\",\"cell_type (CategoricalDistribution): 0.046570212224180736\\u003cextra\\u003e\\u003c\\u002fextra\\u003e\",\"clip (FloatDistribution): 0.054024871816612856\\u003cextra\\u003e\\u003c\\u002fextra\\u003e\",\"num_layers (IntDistribution): 0.06789859415992792\\u003cextra\\u003e\\u003c\\u002fextra\\u003e\",\"hidden_size (IntDistribution): 0.22862979552824725\\u003cextra\\u003e\\u003c\\u002fextra\\u003e\",\"dropout_rate (FloatDistribution): 0.24107089237196916\\u003cextra\\u003e\\u003c\\u002fextra\\u003e\",\"learning_rate (FloatDistribution): 0.32226584859841995\\u003cextra\\u003e\\u003c\\u002fextra\\u003e\"],\"name\":\"Objective Value\",\"orientation\":\"h\",\"text\":[\"\\u003c0.01\",\"0.03\",\"0.05\",\"0.05\",\"0.07\",\"0.23\",\"0.24\",\"0.32\"],\"textposition\":\"outside\",\"x\":[0.005935125685524103,0.033604659615118,0.046570212224180736,0.054024871816612856,0.06789859415992792,0.22862979552824725,0.24107089237196916,0.32226584859841995],\"y\":[\"nonlinearity\",\"skip\",\"cell_type\",\"clip\",\"num_layers\",\"hidden_size\",\"dropout_rate\",\"learning_rate\"],\"type\":\"bar\"}],                        {\"title\":{\"text\":\"Hyperparameter Importances\"},\"xaxis\":{\"title\":{\"text\":\"Hyperparameter Importance\"}},\"yaxis\":{\"title\":{\"text\":\"Hyperparameter\"}},\"template\":{\"data\":{\"histogram2dcontour\":[{\"type\":\"histogram2dcontour\",\"colorbar\":{\"outlinewidth\":0,\"ticks\":\"\"},\"colorscale\":[[0.0,\"#0d0887\"],[0.1111111111111111,\"#46039f\"],[0.2222222222222222,\"#7201a8\"],[0.3333333333333333,\"#9c179e\"],[0.4444444444444444,\"#bd3786\"],[0.5555555555555556,\"#d8576b\"],[0.6666666666666666,\"#ed7953\"],[0.7777777777777778,\"#fb9f3a\"],[0.8888888888888888,\"#fdca26\"],[1.0,\"#f0f921\"]]}],\"choropleth\":[{\"type\":\"choropleth\",\"colorbar\":{\"outlinewidth\":0,\"ticks\":\"\"}}],\"histogram2d\":[{\"type\":\"histogram2d\",\"colorbar\":{\"outlinewidth\":0,\"ticks\":\"\"},\"colorscale\":[[0.0,\"#0d0887\"],[0.1111111111111111,\"#46039f\"],[0.2222222222222222,\"#7201a8\"],[0.3333333333333333,\"#9c179e\"],[0.4444444444444444,\"#bd3786\"],[0.5555555555555556,\"#d8576b\"],[0.6666666666666666,\"#ed7953\"],[0.7777777777777778,\"#fb9f3a\"],[0.8888888888888888,\"#fdca26\"],[1.0,\"#f0f921\"]]}],\"heatmap\":[{\"type\":\"heatmap\",\"colorbar\":{\"outlinewidth\":0,\"ticks\":\"\"},\"colorscale\":[[0.0,\"#0d0887\"],[0.1111111111111111,\"#46039f\"],[0.2222222222222222,\"#7201a8\"],[0.3333333333333333,\"#9c179e\"],[0.4444444444444444,\"#bd3786\"],[0.5555555555555556,\"#d8576b\"],[0.6666666666666666,\"#ed7953\"],[0.7777777777777778,\"#fb9f3a\"],[0.8888888888888888,\"#fdca26\"],[1.0,\"#f0f921\"]]}],\"heatmapgl\":[{\"type\":\"heatmapgl\",\"colorbar\":{\"outlinewidth\":0,\"ticks\":\"\"},\"colorscale\":[[0.0,\"#0d0887\"],[0.1111111111111111,\"#46039f\"],[0.2222222222222222,\"#7201a8\"],[0.3333333333333333,\"#9c179e\"],[0.4444444444444444,\"#bd3786\"],[0.5555555555555556,\"#d8576b\"],[0.6666666666666666,\"#ed7953\"],[0.7777777777777778,\"#fb9f3a\"],[0.8888888888888888,\"#fdca26\"],[1.0,\"#f0f921\"]]}],\"contourcarpet\":[{\"type\":\"contourcarpet\",\"colorbar\":{\"outlinewidth\":0,\"ticks\":\"\"}}],\"contour\":[{\"type\":\"contour\",\"colorbar\":{\"outlinewidth\":0,\"ticks\":\"\"},\"colorscale\":[[0.0,\"#0d0887\"],[0.1111111111111111,\"#46039f\"],[0.2222222222222222,\"#7201a8\"],[0.3333333333333333,\"#9c179e\"],[0.4444444444444444,\"#bd3786\"],[0.5555555555555556,\"#d8576b\"],[0.6666666666666666,\"#ed7953\"],[0.7777777777777778,\"#fb9f3a\"],[0.8888888888888888,\"#fdca26\"],[1.0,\"#f0f921\"]]}],\"surface\":[{\"type\":\"surface\",\"colorbar\":{\"outlinewidth\":0,\"ticks\":\"\"},\"colorscale\":[[0.0,\"#0d0887\"],[0.1111111111111111,\"#46039f\"],[0.2222222222222222,\"#7201a8\"],[0.3333333333333333,\"#9c179e\"],[0.4444444444444444,\"#bd3786\"],[0.5555555555555556,\"#d8576b\"],[0.6666666666666666,\"#ed7953\"],[0.7777777777777778,\"#fb9f3a\"],[0.8888888888888888,\"#fdca26\"],[1.0,\"#f0f921\"]]}],\"mesh3d\":[{\"type\":\"mesh3d\",\"colorbar\":{\"outlinewidth\":0,\"ticks\":\"\"}}],\"scatter\":[{\"fillpattern\":{\"fillmode\":\"overlay\",\"size\":10,\"solidity\":0.2},\"type\":\"scatter\"}],\"parcoords\":[{\"type\":\"parcoords\",\"line\":{\"colorbar\":{\"outlinewidth\":0,\"ticks\":\"\"}}}],\"scatterpolargl\":[{\"type\":\"scatterpolargl\",\"marker\":{\"colorbar\":{\"outlinewidth\":0,\"ticks\":\"\"}}}],\"bar\":[{\"error_x\":{\"color\":\"#2a3f5f\"},\"error_y\":{\"color\":\"#2a3f5f\"},\"marker\":{\"line\":{\"color\":\"#E5ECF6\",\"width\":0.5},\"pattern\":{\"fillmode\":\"overlay\",\"size\":10,\"solidity\":0.2}},\"type\":\"bar\"}],\"scattergeo\":[{\"type\":\"scattergeo\",\"marker\":{\"colorbar\":{\"outlinewidth\":0,\"ticks\":\"\"}}}],\"scatterpolar\":[{\"type\":\"scatterpolar\",\"marker\":{\"colorbar\":{\"outlinewidth\":0,\"ticks\":\"\"}}}],\"histogram\":[{\"marker\":{\"pattern\":{\"fillmode\":\"overlay\",\"size\":10,\"solidity\":0.2}},\"type\":\"histogram\"}],\"scattergl\":[{\"type\":\"scattergl\",\"marker\":{\"colorbar\":{\"outlinewidth\":0,\"ticks\":\"\"}}}],\"scatter3d\":[{\"type\":\"scatter3d\",\"line\":{\"colorbar\":{\"outlinewidth\":0,\"ticks\":\"\"}},\"marker\":{\"colorbar\":{\"outlinewidth\":0,\"ticks\":\"\"}}}],\"scattermapbox\":[{\"type\":\"scattermapbox\",\"marker\":{\"colorbar\":{\"outlinewidth\":0,\"ticks\":\"\"}}}],\"scatterternary\":[{\"type\":\"scatterternary\",\"marker\":{\"colorbar\":{\"outlinewidth\":0,\"ticks\":\"\"}}}],\"scattercarpet\":[{\"type\":\"scattercarpet\",\"marker\":{\"colorbar\":{\"outlinewidth\":0,\"ticks\":\"\"}}}],\"carpet\":[{\"aaxis\":{\"endlinecolor\":\"#2a3f5f\",\"gridcolor\":\"white\",\"linecolor\":\"white\",\"minorgridcolor\":\"white\",\"startlinecolor\":\"#2a3f5f\"},\"baxis\":{\"endlinecolor\":\"#2a3f5f\",\"gridcolor\":\"white\",\"linecolor\":\"white\",\"minorgridcolor\":\"white\",\"startlinecolor\":\"#2a3f5f\"},\"type\":\"carpet\"}],\"table\":[{\"cells\":{\"fill\":{\"color\":\"#EBF0F8\"},\"line\":{\"color\":\"white\"}},\"header\":{\"fill\":{\"color\":\"#C8D4E3\"},\"line\":{\"color\":\"white\"}},\"type\":\"table\"}],\"barpolar\":[{\"marker\":{\"line\":{\"color\":\"#E5ECF6\",\"width\":0.5},\"pattern\":{\"fillmode\":\"overlay\",\"size\":10,\"solidity\":0.2}},\"type\":\"barpolar\"}],\"pie\":[{\"automargin\":true,\"type\":\"pie\"}]},\"layout\":{\"autotypenumbers\":\"strict\",\"colorway\":[\"#636efa\",\"#EF553B\",\"#00cc96\",\"#ab63fa\",\"#FFA15A\",\"#19d3f3\",\"#FF6692\",\"#B6E880\",\"#FF97FF\",\"#FECB52\"],\"font\":{\"color\":\"#2a3f5f\"},\"hovermode\":\"closest\",\"hoverlabel\":{\"align\":\"left\"},\"paper_bgcolor\":\"white\",\"plot_bgcolor\":\"#E5ECF6\",\"polar\":{\"bgcolor\":\"#E5ECF6\",\"angularaxis\":{\"gridcolor\":\"white\",\"linecolor\":\"white\",\"ticks\":\"\"},\"radialaxis\":{\"gridcolor\":\"white\",\"linecolor\":\"white\",\"ticks\":\"\"}},\"ternary\":{\"bgcolor\":\"#E5ECF6\",\"aaxis\":{\"gridcolor\":\"white\",\"linecolor\":\"white\",\"ticks\":\"\"},\"baxis\":{\"gridcolor\":\"white\",\"linecolor\":\"white\",\"ticks\":\"\"},\"caxis\":{\"gridcolor\":\"white\",\"linecolor\":\"white\",\"ticks\":\"\"}},\"coloraxis\":{\"colorbar\":{\"outlinewidth\":0,\"ticks\":\"\"}},\"colorscale\":{\"sequential\":[[0.0,\"#0d0887\"],[0.1111111111111111,\"#46039f\"],[0.2222222222222222,\"#7201a8\"],[0.3333333333333333,\"#9c179e\"],[0.4444444444444444,\"#bd3786\"],[0.5555555555555556,\"#d8576b\"],[0.6666666666666666,\"#ed7953\"],[0.7777777777777778,\"#fb9f3a\"],[0.8888888888888888,\"#fdca26\"],[1.0,\"#f0f921\"]],\"sequentialminus\":[[0.0,\"#0d0887\"],[0.1111111111111111,\"#46039f\"],[0.2222222222222222,\"#7201a8\"],[0.3333333333333333,\"#9c179e\"],[0.4444444444444444,\"#bd3786\"],[0.5555555555555556,\"#d8576b\"],[0.6666666666666666,\"#ed7953\"],[0.7777777777777778,\"#fb9f3a\"],[0.8888888888888888,\"#fdca26\"],[1.0,\"#f0f921\"]],\"diverging\":[[0,\"#8e0152\"],[0.1,\"#c51b7d\"],[0.2,\"#de77ae\"],[0.3,\"#f1b6da\"],[0.4,\"#fde0ef\"],[0.5,\"#f7f7f7\"],[0.6,\"#e6f5d0\"],[0.7,\"#b8e186\"],[0.8,\"#7fbc41\"],[0.9,\"#4d9221\"],[1,\"#276419\"]]},\"xaxis\":{\"gridcolor\":\"white\",\"linecolor\":\"white\",\"ticks\":\"\",\"title\":{\"standoff\":15},\"zerolinecolor\":\"white\",\"automargin\":true,\"zerolinewidth\":2},\"yaxis\":{\"gridcolor\":\"white\",\"linecolor\":\"white\",\"ticks\":\"\",\"title\":{\"standoff\":15},\"zerolinecolor\":\"white\",\"automargin\":true,\"zerolinewidth\":2},\"scene\":{\"xaxis\":{\"backgroundcolor\":\"#E5ECF6\",\"gridcolor\":\"white\",\"linecolor\":\"white\",\"showbackground\":true,\"ticks\":\"\",\"zerolinecolor\":\"white\",\"gridwidth\":2},\"yaxis\":{\"backgroundcolor\":\"#E5ECF6\",\"gridcolor\":\"white\",\"linecolor\":\"white\",\"showbackground\":true,\"ticks\":\"\",\"zerolinecolor\":\"white\",\"gridwidth\":2},\"zaxis\":{\"backgroundcolor\":\"#E5ECF6\",\"gridcolor\":\"white\",\"linecolor\":\"white\",\"showbackground\":true,\"ticks\":\"\",\"zerolinecolor\":\"white\",\"gridwidth\":2}},\"shapedefaults\":{\"line\":{\"color\":\"#2a3f5f\"}},\"annotationdefaults\":{\"arrowcolor\":\"#2a3f5f\",\"arrowhead\":0,\"arrowwidth\":1},\"geo\":{\"bgcolor\":\"white\",\"landcolor\":\"#E5ECF6\",\"subunitcolor\":\"white\",\"showland\":true,\"showlakes\":true,\"lakecolor\":\"white\"},\"title\":{\"x\":0.05},\"mapbox\":{\"style\":\"light\"}}}},                        {\"responsive\": true}                    ).then(function(){\n",
       "                            \n",
       "var gd = document.getElementById('cbe9a3d7-5e96-4523-b606-05c198fe6418');\n",
       "var x = new MutationObserver(function (mutations, observer) {{\n",
       "        var display = window.getComputedStyle(gd).display;\n",
       "        if (!display || display === 'none') {{\n",
       "            console.log([gd, 'removed!']);\n",
       "            Plotly.purge(gd);\n",
       "            observer.disconnect();\n",
       "        }}\n",
       "}});\n",
       "\n",
       "// Listen for the removal of the full notebook cells\n",
       "var notebookContainer = gd.closest('#notebook-container');\n",
       "if (notebookContainer) {{\n",
       "    x.observe(notebookContainer, {childList: true});\n",
       "}}\n",
       "\n",
       "// Listen for the clearing of the current output cell\n",
       "var outputEl = gd.closest('.output');\n",
       "if (outputEl) {{\n",
       "    x.observe(outputEl, {childList: true});\n",
       "}}\n",
       "\n",
       "                        })                };                });            </script>        </div>"
      ]
     },
     "metadata": {},
     "output_type": "display_data"
    }
   ],
   "source": [
    "plot_param_importances(optuna_test)\n"
   ]
  },
  {
   "cell_type": "markdown",
   "id": "0f13c086",
   "metadata": {
    "papermill": {
     "duration": 0.033958,
     "end_time": "2024-02-11T10:21:34.589476",
     "exception": false,
     "start_time": "2024-02-11T10:21:34.555518",
     "status": "completed"
    },
    "tags": []
   },
   "source": [
    "Plot optimisation history"
   ]
  },
  {
   "cell_type": "code",
   "execution_count": 17,
   "id": "bb7828ef",
   "metadata": {
    "execution": {
     "iopub.execute_input": "2024-02-11T10:21:34.655184Z",
     "iopub.status.busy": "2024-02-11T10:21:34.654827Z",
     "iopub.status.idle": "2024-02-11T10:21:34.713827Z",
     "shell.execute_reply": "2024-02-11T10:21:34.712796Z"
    },
    "papermill": {
     "duration": 0.094289,
     "end_time": "2024-02-11T10:21:34.716373",
     "exception": false,
     "start_time": "2024-02-11T10:21:34.622084",
     "status": "completed"
    },
    "tags": []
   },
   "outputs": [
    {
     "data": {
      "text/html": [
       "<div>                            <div id=\"7a01a13a-c556-4e09-90aa-f549db4c15c5\" class=\"plotly-graph-div\" style=\"height:525px; width:100%;\"></div>            <script type=\"text/javascript\">                require([\"plotly\"], function(Plotly) {                    window.PLOTLYENV=window.PLOTLYENV || {};                                    if (document.getElementById(\"7a01a13a-c556-4e09-90aa-f549db4c15c5\")) {                    Plotly.newPlot(                        \"7a01a13a-c556-4e09-90aa-f549db4c15c5\",                        [{\"mode\":\"markers\",\"name\":\"Objective Value\",\"x\":[0,1,2,3,4,5,6,7,8,9,10,11,12,13,14,15,16,17,18,19,20,21,22,23,24,25,26,27,28,29,30,31,32,33,34,35,36,37,38,39,40,41,42,43,44,45,46,47,48,49],\"y\":[0.16929392945585828,0.16855239021507176,0.1771072115410458,0.17285348903952222,0.16148202934048392,0.17829415450493494,0.165791098141309,0.16966429510802933,0.16574111580848694,0.1621977294033224,0.16208119904904655,0.16238510292587857,0.16872792103976914,0.16933639121778082,0.1657315817746249,0.1689819750009161,0.16217949715527621,0.1750036170988372,0.16954146573940912,0.16611838498801895,0.16230810975486581,0.16606342961842363,0.16926974532279102,0.1623247561581207,0.1613711372695186,0.16167618402025916,0.1695920926603404,0.16516572214437253,0.16195924975203746,0.1688947221546462,0.16179876797127002,0.16861707085009778,0.16209575725775777,0.16919661290717847,0.1657119540102554,0.1660275667002707,0.1693429605978908,0.16231230623794324,0.16499086379101782,0.16224689849398352,0.16578519321752316,0.16928189947749628,0.16912183955763327,0.1660164242441004,0.1620472441568519,0.16216483249357252,0.16891915825280276,0.16228642359827505,0.16247014994874145,0.16277040857257266],\"type\":\"scatter\"},{\"mode\":\"lines\",\"name\":\"Best Value\",\"x\":[0,1,2,3,4,5,6,7,8,9,10,11,12,13,14,15,16,17,18,19,20,21,22,23,24,25,26,27,28,29,30,31,32,33,34,35,36,37,38,39,40,41,42,43,44,45,46,47,48,49],\"y\":[0.16929392945585828,0.16929392945585828,0.1771072115410458,0.1771072115410458,0.1771072115410458,0.17829415450493494,0.17829415450493494,0.17829415450493494,0.17829415450493494,0.17829415450493494,0.17829415450493494,0.17829415450493494,0.17829415450493494,0.17829415450493494,0.17829415450493494,0.17829415450493494,0.17829415450493494,0.17829415450493494,0.17829415450493494,0.17829415450493494,0.17829415450493494,0.17829415450493494,0.17829415450493494,0.17829415450493494,0.17829415450493494,0.17829415450493494,0.17829415450493494,0.17829415450493494,0.17829415450493494,0.17829415450493494,0.17829415450493494,0.17829415450493494,0.17829415450493494,0.17829415450493494,0.17829415450493494,0.17829415450493494,0.17829415450493494,0.17829415450493494,0.17829415450493494,0.17829415450493494,0.17829415450493494,0.17829415450493494,0.17829415450493494,0.17829415450493494,0.17829415450493494,0.17829415450493494,0.17829415450493494,0.17829415450493494,0.17829415450493494,0.17829415450493494],\"type\":\"scatter\"},{\"marker\":{\"color\":\"#cccccc\"},\"mode\":\"markers\",\"name\":\"Infeasible Trial\",\"showlegend\":false,\"x\":[],\"y\":[],\"type\":\"scatter\"}],                        {\"title\":{\"text\":\"Optimization History Plot\"},\"xaxis\":{\"title\":{\"text\":\"Trial\"}},\"yaxis\":{\"title\":{\"text\":\"Objective Value\"}},\"template\":{\"data\":{\"histogram2dcontour\":[{\"type\":\"histogram2dcontour\",\"colorbar\":{\"outlinewidth\":0,\"ticks\":\"\"},\"colorscale\":[[0.0,\"#0d0887\"],[0.1111111111111111,\"#46039f\"],[0.2222222222222222,\"#7201a8\"],[0.3333333333333333,\"#9c179e\"],[0.4444444444444444,\"#bd3786\"],[0.5555555555555556,\"#d8576b\"],[0.6666666666666666,\"#ed7953\"],[0.7777777777777778,\"#fb9f3a\"],[0.8888888888888888,\"#fdca26\"],[1.0,\"#f0f921\"]]}],\"choropleth\":[{\"type\":\"choropleth\",\"colorbar\":{\"outlinewidth\":0,\"ticks\":\"\"}}],\"histogram2d\":[{\"type\":\"histogram2d\",\"colorbar\":{\"outlinewidth\":0,\"ticks\":\"\"},\"colorscale\":[[0.0,\"#0d0887\"],[0.1111111111111111,\"#46039f\"],[0.2222222222222222,\"#7201a8\"],[0.3333333333333333,\"#9c179e\"],[0.4444444444444444,\"#bd3786\"],[0.5555555555555556,\"#d8576b\"],[0.6666666666666666,\"#ed7953\"],[0.7777777777777778,\"#fb9f3a\"],[0.8888888888888888,\"#fdca26\"],[1.0,\"#f0f921\"]]}],\"heatmap\":[{\"type\":\"heatmap\",\"colorbar\":{\"outlinewidth\":0,\"ticks\":\"\"},\"colorscale\":[[0.0,\"#0d0887\"],[0.1111111111111111,\"#46039f\"],[0.2222222222222222,\"#7201a8\"],[0.3333333333333333,\"#9c179e\"],[0.4444444444444444,\"#bd3786\"],[0.5555555555555556,\"#d8576b\"],[0.6666666666666666,\"#ed7953\"],[0.7777777777777778,\"#fb9f3a\"],[0.8888888888888888,\"#fdca26\"],[1.0,\"#f0f921\"]]}],\"heatmapgl\":[{\"type\":\"heatmapgl\",\"colorbar\":{\"outlinewidth\":0,\"ticks\":\"\"},\"colorscale\":[[0.0,\"#0d0887\"],[0.1111111111111111,\"#46039f\"],[0.2222222222222222,\"#7201a8\"],[0.3333333333333333,\"#9c179e\"],[0.4444444444444444,\"#bd3786\"],[0.5555555555555556,\"#d8576b\"],[0.6666666666666666,\"#ed7953\"],[0.7777777777777778,\"#fb9f3a\"],[0.8888888888888888,\"#fdca26\"],[1.0,\"#f0f921\"]]}],\"contourcarpet\":[{\"type\":\"contourcarpet\",\"colorbar\":{\"outlinewidth\":0,\"ticks\":\"\"}}],\"contour\":[{\"type\":\"contour\",\"colorbar\":{\"outlinewidth\":0,\"ticks\":\"\"},\"colorscale\":[[0.0,\"#0d0887\"],[0.1111111111111111,\"#46039f\"],[0.2222222222222222,\"#7201a8\"],[0.3333333333333333,\"#9c179e\"],[0.4444444444444444,\"#bd3786\"],[0.5555555555555556,\"#d8576b\"],[0.6666666666666666,\"#ed7953\"],[0.7777777777777778,\"#fb9f3a\"],[0.8888888888888888,\"#fdca26\"],[1.0,\"#f0f921\"]]}],\"surface\":[{\"type\":\"surface\",\"colorbar\":{\"outlinewidth\":0,\"ticks\":\"\"},\"colorscale\":[[0.0,\"#0d0887\"],[0.1111111111111111,\"#46039f\"],[0.2222222222222222,\"#7201a8\"],[0.3333333333333333,\"#9c179e\"],[0.4444444444444444,\"#bd3786\"],[0.5555555555555556,\"#d8576b\"],[0.6666666666666666,\"#ed7953\"],[0.7777777777777778,\"#fb9f3a\"],[0.8888888888888888,\"#fdca26\"],[1.0,\"#f0f921\"]]}],\"mesh3d\":[{\"type\":\"mesh3d\",\"colorbar\":{\"outlinewidth\":0,\"ticks\":\"\"}}],\"scatter\":[{\"fillpattern\":{\"fillmode\":\"overlay\",\"size\":10,\"solidity\":0.2},\"type\":\"scatter\"}],\"parcoords\":[{\"type\":\"parcoords\",\"line\":{\"colorbar\":{\"outlinewidth\":0,\"ticks\":\"\"}}}],\"scatterpolargl\":[{\"type\":\"scatterpolargl\",\"marker\":{\"colorbar\":{\"outlinewidth\":0,\"ticks\":\"\"}}}],\"bar\":[{\"error_x\":{\"color\":\"#2a3f5f\"},\"error_y\":{\"color\":\"#2a3f5f\"},\"marker\":{\"line\":{\"color\":\"#E5ECF6\",\"width\":0.5},\"pattern\":{\"fillmode\":\"overlay\",\"size\":10,\"solidity\":0.2}},\"type\":\"bar\"}],\"scattergeo\":[{\"type\":\"scattergeo\",\"marker\":{\"colorbar\":{\"outlinewidth\":0,\"ticks\":\"\"}}}],\"scatterpolar\":[{\"type\":\"scatterpolar\",\"marker\":{\"colorbar\":{\"outlinewidth\":0,\"ticks\":\"\"}}}],\"histogram\":[{\"marker\":{\"pattern\":{\"fillmode\":\"overlay\",\"size\":10,\"solidity\":0.2}},\"type\":\"histogram\"}],\"scattergl\":[{\"type\":\"scattergl\",\"marker\":{\"colorbar\":{\"outlinewidth\":0,\"ticks\":\"\"}}}],\"scatter3d\":[{\"type\":\"scatter3d\",\"line\":{\"colorbar\":{\"outlinewidth\":0,\"ticks\":\"\"}},\"marker\":{\"colorbar\":{\"outlinewidth\":0,\"ticks\":\"\"}}}],\"scattermapbox\":[{\"type\":\"scattermapbox\",\"marker\":{\"colorbar\":{\"outlinewidth\":0,\"ticks\":\"\"}}}],\"scatterternary\":[{\"type\":\"scatterternary\",\"marker\":{\"colorbar\":{\"outlinewidth\":0,\"ticks\":\"\"}}}],\"scattercarpet\":[{\"type\":\"scattercarpet\",\"marker\":{\"colorbar\":{\"outlinewidth\":0,\"ticks\":\"\"}}}],\"carpet\":[{\"aaxis\":{\"endlinecolor\":\"#2a3f5f\",\"gridcolor\":\"white\",\"linecolor\":\"white\",\"minorgridcolor\":\"white\",\"startlinecolor\":\"#2a3f5f\"},\"baxis\":{\"endlinecolor\":\"#2a3f5f\",\"gridcolor\":\"white\",\"linecolor\":\"white\",\"minorgridcolor\":\"white\",\"startlinecolor\":\"#2a3f5f\"},\"type\":\"carpet\"}],\"table\":[{\"cells\":{\"fill\":{\"color\":\"#EBF0F8\"},\"line\":{\"color\":\"white\"}},\"header\":{\"fill\":{\"color\":\"#C8D4E3\"},\"line\":{\"color\":\"white\"}},\"type\":\"table\"}],\"barpolar\":[{\"marker\":{\"line\":{\"color\":\"#E5ECF6\",\"width\":0.5},\"pattern\":{\"fillmode\":\"overlay\",\"size\":10,\"solidity\":0.2}},\"type\":\"barpolar\"}],\"pie\":[{\"automargin\":true,\"type\":\"pie\"}]},\"layout\":{\"autotypenumbers\":\"strict\",\"colorway\":[\"#636efa\",\"#EF553B\",\"#00cc96\",\"#ab63fa\",\"#FFA15A\",\"#19d3f3\",\"#FF6692\",\"#B6E880\",\"#FF97FF\",\"#FECB52\"],\"font\":{\"color\":\"#2a3f5f\"},\"hovermode\":\"closest\",\"hoverlabel\":{\"align\":\"left\"},\"paper_bgcolor\":\"white\",\"plot_bgcolor\":\"#E5ECF6\",\"polar\":{\"bgcolor\":\"#E5ECF6\",\"angularaxis\":{\"gridcolor\":\"white\",\"linecolor\":\"white\",\"ticks\":\"\"},\"radialaxis\":{\"gridcolor\":\"white\",\"linecolor\":\"white\",\"ticks\":\"\"}},\"ternary\":{\"bgcolor\":\"#E5ECF6\",\"aaxis\":{\"gridcolor\":\"white\",\"linecolor\":\"white\",\"ticks\":\"\"},\"baxis\":{\"gridcolor\":\"white\",\"linecolor\":\"white\",\"ticks\":\"\"},\"caxis\":{\"gridcolor\":\"white\",\"linecolor\":\"white\",\"ticks\":\"\"}},\"coloraxis\":{\"colorbar\":{\"outlinewidth\":0,\"ticks\":\"\"}},\"colorscale\":{\"sequential\":[[0.0,\"#0d0887\"],[0.1111111111111111,\"#46039f\"],[0.2222222222222222,\"#7201a8\"],[0.3333333333333333,\"#9c179e\"],[0.4444444444444444,\"#bd3786\"],[0.5555555555555556,\"#d8576b\"],[0.6666666666666666,\"#ed7953\"],[0.7777777777777778,\"#fb9f3a\"],[0.8888888888888888,\"#fdca26\"],[1.0,\"#f0f921\"]],\"sequentialminus\":[[0.0,\"#0d0887\"],[0.1111111111111111,\"#46039f\"],[0.2222222222222222,\"#7201a8\"],[0.3333333333333333,\"#9c179e\"],[0.4444444444444444,\"#bd3786\"],[0.5555555555555556,\"#d8576b\"],[0.6666666666666666,\"#ed7953\"],[0.7777777777777778,\"#fb9f3a\"],[0.8888888888888888,\"#fdca26\"],[1.0,\"#f0f921\"]],\"diverging\":[[0,\"#8e0152\"],[0.1,\"#c51b7d\"],[0.2,\"#de77ae\"],[0.3,\"#f1b6da\"],[0.4,\"#fde0ef\"],[0.5,\"#f7f7f7\"],[0.6,\"#e6f5d0\"],[0.7,\"#b8e186\"],[0.8,\"#7fbc41\"],[0.9,\"#4d9221\"],[1,\"#276419\"]]},\"xaxis\":{\"gridcolor\":\"white\",\"linecolor\":\"white\",\"ticks\":\"\",\"title\":{\"standoff\":15},\"zerolinecolor\":\"white\",\"automargin\":true,\"zerolinewidth\":2},\"yaxis\":{\"gridcolor\":\"white\",\"linecolor\":\"white\",\"ticks\":\"\",\"title\":{\"standoff\":15},\"zerolinecolor\":\"white\",\"automargin\":true,\"zerolinewidth\":2},\"scene\":{\"xaxis\":{\"backgroundcolor\":\"#E5ECF6\",\"gridcolor\":\"white\",\"linecolor\":\"white\",\"showbackground\":true,\"ticks\":\"\",\"zerolinecolor\":\"white\",\"gridwidth\":2},\"yaxis\":{\"backgroundcolor\":\"#E5ECF6\",\"gridcolor\":\"white\",\"linecolor\":\"white\",\"showbackground\":true,\"ticks\":\"\",\"zerolinecolor\":\"white\",\"gridwidth\":2},\"zaxis\":{\"backgroundcolor\":\"#E5ECF6\",\"gridcolor\":\"white\",\"linecolor\":\"white\",\"showbackground\":true,\"ticks\":\"\",\"zerolinecolor\":\"white\",\"gridwidth\":2}},\"shapedefaults\":{\"line\":{\"color\":\"#2a3f5f\"}},\"annotationdefaults\":{\"arrowcolor\":\"#2a3f5f\",\"arrowhead\":0,\"arrowwidth\":1},\"geo\":{\"bgcolor\":\"white\",\"landcolor\":\"#E5ECF6\",\"subunitcolor\":\"white\",\"showland\":true,\"showlakes\":true,\"lakecolor\":\"white\"},\"title\":{\"x\":0.05},\"mapbox\":{\"style\":\"light\"}}}},                        {\"responsive\": true}                    ).then(function(){\n",
       "                            \n",
       "var gd = document.getElementById('7a01a13a-c556-4e09-90aa-f549db4c15c5');\n",
       "var x = new MutationObserver(function (mutations, observer) {{\n",
       "        var display = window.getComputedStyle(gd).display;\n",
       "        if (!display || display === 'none') {{\n",
       "            console.log([gd, 'removed!']);\n",
       "            Plotly.purge(gd);\n",
       "            observer.disconnect();\n",
       "        }}\n",
       "}});\n",
       "\n",
       "// Listen for the removal of the full notebook cells\n",
       "var notebookContainer = gd.closest('#notebook-container');\n",
       "if (notebookContainer) {{\n",
       "    x.observe(notebookContainer, {childList: true});\n",
       "}}\n",
       "\n",
       "// Listen for the clearing of the current output cell\n",
       "var outputEl = gd.closest('.output');\n",
       "if (outputEl) {{\n",
       "    x.observe(outputEl, {childList: true});\n",
       "}}\n",
       "\n",
       "                        })                };                });            </script>        </div>"
      ]
     },
     "metadata": {},
     "output_type": "display_data"
    }
   ],
   "source": [
    "plot_optimization_history(optuna_test)\n"
   ]
  },
  {
   "cell_type": "markdown",
   "id": "154601ef",
   "metadata": {
    "editable": false,
    "papermill": {
     "duration": 0.034937,
     "end_time": "2024-02-11T10:21:34.789458",
     "exception": false,
     "start_time": "2024-02-11T10:21:34.754521",
     "status": "completed"
    },
    "tags": []
   },
   "source": [
    "Here we train and test the model with the best hyperparameters, using our test data from the initial split"
   ]
  },
  {
   "cell_type": "code",
   "execution_count": 18,
   "id": "f6f2de9e",
   "metadata": {
    "execution": {
     "iopub.execute_input": "2024-02-11T10:21:34.854337Z",
     "iopub.status.busy": "2024-02-11T10:21:34.853990Z",
     "iopub.status.idle": "2024-02-11T10:21:55.139398Z",
     "shell.execute_reply": "2024-02-11T10:21:55.138252Z"
    },
    "papermill": {
     "duration": 20.320372,
     "end_time": "2024-02-11T10:21:55.141535",
     "exception": false,
     "start_time": "2024-02-11T10:21:34.821163",
     "status": "completed"
    },
    "tags": []
   },
   "outputs": [
    {
     "name": "stdout",
     "output_type": "stream",
     "text": [
      "Epoch [1/25], Test Loss: 1.0998, Test Accuracy: 32.55%, Test F1_score: 0.16\n",
      "Epoch [2/25], Test Loss: 1.0984, Test Accuracy: 33.65%, Test F1_score: 0.17\n",
      "Epoch [3/25], Test Loss: 1.0976, Test Accuracy: 34.08%, Test F1_score: 0.19\n",
      "Epoch [4/25], Test Loss: 1.0917, Test Accuracy: 36.95%, Test F1_score: 0.29\n",
      "Epoch [5/25], Test Loss: 1.0871, Test Accuracy: 37.47%, Test F1_score: 0.33\n",
      "Epoch [6/25], Test Loss: 1.0869, Test Accuracy: 37.57%, Test F1_score: 0.31\n",
      "Epoch [7/25], Test Loss: 1.0821, Test Accuracy: 37.93%, Test F1_score: 0.30\n",
      "Epoch [8/25], Test Loss: 1.0782, Test Accuracy: 38.74%, Test F1_score: 0.35\n",
      "Epoch [9/25], Test Loss: 1.0753, Test Accuracy: 39.14%, Test F1_score: 0.36\n",
      "Epoch [10/25], Test Loss: 1.0702, Test Accuracy: 40.12%, Test F1_score: 0.39\n",
      "Epoch [11/25], Test Loss: 1.0670, Test Accuracy: 39.72%, Test F1_score: 0.36\n",
      "Epoch [12/25], Test Loss: 1.0662, Test Accuracy: 40.29%, Test F1_score: 0.35\n",
      "Epoch [13/25], Test Loss: 1.0685, Test Accuracy: 40.39%, Test F1_score: 0.39\n",
      "Epoch [14/25], Test Loss: 1.0632, Test Accuracy: 41.75%, Test F1_score: 0.40\n",
      "Epoch [15/25], Test Loss: 1.0636, Test Accuracy: 40.27%, Test F1_score: 0.39\n",
      "Epoch [16/25], Test Loss: 1.0660, Test Accuracy: 41.41%, Test F1_score: 0.40\n",
      "Epoch [17/25], Test Loss: 1.0647, Test Accuracy: 40.43%, Test F1_score: 0.37\n",
      "Epoch [18/25], Test Loss: 1.0626, Test Accuracy: 40.86%, Test F1_score: 0.39\n",
      "Epoch [19/25], Test Loss: 1.0627, Test Accuracy: 40.75%, Test F1_score: 0.40\n",
      "Epoch [20/25], Test Loss: 1.0626, Test Accuracy: 40.29%, Test F1_score: 0.40\n",
      "Epoch [21/25], Test Loss: 1.0620, Test Accuracy: 40.75%, Test F1_score: 0.39\n",
      "Epoch [22/25], Test Loss: 1.0612, Test Accuracy: 40.72%, Test F1_score: 0.39\n",
      "Epoch [23/25], Test Loss: 1.0662, Test Accuracy: 40.36%, Test F1_score: 0.38\n",
      "Epoch [24/25], Test Loss: 1.0609, Test Accuracy: 40.67%, Test F1_score: 0.39\n",
      "Epoch [25/25], Test Loss: 1.0614, Test Accuracy: 40.08%, Test F1_score: 0.39\n"
     ]
    }
   ],
   "source": [
    "#Testing model with best hyperparameters on test data\n",
    "device = torch.device('cuda' if torch.cuda.is_available() else 'cpu')\n",
    "input_size = 100 \n",
    "num_classes = 3\n",
    "num_layers = 3\n",
    "cell_type = 'LSTM'\n",
    "hidden_size = 19\n",
    "clip = 1.0\n",
    "skip = True\n",
    "nonlinearity = 'tanh'\n",
    "learning_rate = 0.01\n",
    "dropout_rate = 0.15\n",
    "num_epochs = 25\n",
    "    \n",
    "model = RNN(cell_type,input_size, hidden_size, num_layers,nonlinearity,dropout_rate, device, num_classes).to(device)\n",
    "criterion = nn.CrossEntropyLoss()\n",
    "optimizer = optim.Adam(model.parameters(), lr=learning_rate)\n",
    "\n",
    "train_loss_history = []\n",
    "test_loss_history = []\n",
    "test_accuracy_history = []\n",
    "test_f1_score_history = []\n",
    "\n",
    "for epoch in range(num_epochs):\n",
    "    train_loss = train(model,TrainDataloader, criterion, optimizer, device, clip)\n",
    "    test_loss, test_accuracy, test_f1_score = test(model, TestDataloader, criterion, device)\n",
    "\n",
    "    train_loss_history.append(train_loss)\n",
    "    test_loss_history.append(test_loss)\n",
    "    test_accuracy_history.append(test_accuracy)\n",
    "    test_f1_score_history.append(test_f1_score)\n",
    "\n",
    "    print(f\"Epoch [{epoch+1}/{num_epochs}], Test Loss: {test_loss:.4f}, Test Accuracy: {test_accuracy:.2f}%, Test F1_score: {test_f1_score:.2f}\")"
   ]
  },
  {
   "cell_type": "markdown",
   "id": "6d5f727e",
   "metadata": {
    "papermill": {
     "duration": 0.033371,
     "end_time": "2024-02-11T10:21:55.209516",
     "exception": false,
     "start_time": "2024-02-11T10:21:55.176145",
     "status": "completed"
    },
    "tags": []
   },
   "source": [
    "Plot the learning curve"
   ]
  },
  {
   "cell_type": "code",
   "execution_count": 19,
   "id": "9951944f",
   "metadata": {
    "execution": {
     "iopub.execute_input": "2024-02-11T10:21:55.277810Z",
     "iopub.status.busy": "2024-02-11T10:21:55.277518Z",
     "iopub.status.idle": "2024-02-11T10:28:27.225764Z",
     "shell.execute_reply": "2024-02-11T10:28:27.224818Z"
    },
    "papermill": {
     "duration": 392.019666,
     "end_time": "2024-02-11T10:28:27.262660",
     "exception": false,
     "start_time": "2024-02-11T10:21:55.242994",
     "status": "completed"
    },
    "tags": []
   },
   "outputs": [
    {
     "data": {
      "image/png": "[encoded data removed]",
      "text/plain": [
       "<Figure size 640x480 with 1 Axes>"
      ]
     },
     "metadata": {},
     "output_type": "display_data"
    }
   ],
   "source": [
    "device = torch.device('cuda' if torch.cuda.is_available() else 'cpu')\n",
    "input_size = 100 \n",
    "num_classes = 3\n",
    "num_layers = 5\n",
    "cell_type = 'LSTM'\n",
    "hidden_size = 95\n",
    "clip = 0.35\n",
    "skip = False \n",
    "nonlinearity = 'tanh'\n",
    "learning_rate = 0.29\n",
    "dropout_rate = 0.1\n",
    "num_epochs = 25\n",
    "\n",
    "Xtrain, X1 , Ytrain, Y1 = train_test_split(X, Y, test_size=0.2, random_state=69)\n",
    "Xval, Xtest , Yval, Ytest = train_test_split(X1, Y1, test_size=0.5, random_state=69)\n",
    "\n",
    "Xt = torch.tensor(Xtrain, dtype=torch.float, device=device)\n",
    "Yt = torch.tensor(Ytrain, device=device)\n",
    "\n",
    "Xv = torch.tensor(Xval, dtype=torch.float, device=device)\n",
    "Yv = torch.tensor(Yval, device=device)\n",
    "\n",
    "XT = torch.tensor(Xtest, dtype=torch.float, device=device)\n",
    "YT = torch.tensor(Ytest, device=device)\n",
    "\n",
    "Tscores = []\n",
    "Vscores = []\n",
    "for size in [3000,6000,9000,12000,15000,18000,21000,24000,27000,30000,33486,]:\n",
    "    TrainDataset = torch.utils.data.TensorDataset(Xt[:size], Yt[:size])\n",
    "    TrainDataloader = torch.utils.data.DataLoader(TrainDataset, batch_size=64,shuffle=True)\n",
    "     \n",
    "    model = RNN(cell_type,input_size, hidden_size, num_layers,nonlinearity,dropout_rate, device, num_classes).to(device)\n",
    "    criterion = nn.CrossEntropyLoss()\n",
    "    optimizer = optim.Adam(model.parameters(), lr=learning_rate)\n",
    "    for epoch in range(num_epochs):\n",
    "        train_loss = train(model,TrainDataloader, criterion, optimizer, device, clip) \n",
    "    _, Ptrain = torch.max(model(Xt[:size]), 1)\n",
    "    Ptrain = Ptrain.cpu()\n",
    "    Ptraintrue = Yt.cpu()\n",
    "    _, Ptest = torch.max(model(XT), 1)\n",
    "    Ptest = Ptest.cpu()\n",
    "    Ptesttrue = YT.cpu()\n",
    "    Tscores+= [skf1(Ptraintrue[:size], Ptrain, average=\"weighted\")]\n",
    "    Vscores += [skf1(Ptesttrue, Ptest, average=\"weighted\")]\n",
    "\n",
    "plt.grid()\n",
    "plt.plot([3000,6000,9000,12000,15000,18000,21000,24000,27000,30000,33486], Tscores, label=\"Train Score\")\n",
    "plt.plot([3000,6000,9000,12000,15000,18000,21000,24000,27000,30000,33486], Vscores, label=\"Test Score\")\n",
    "plt.show()\n",
    "\n"
   ]
  },
  {
   "cell_type": "markdown",
   "id": "dcd49f7b",
   "metadata": {
    "papermill": {
     "duration": 0.034174,
     "end_time": "2024-02-11T10:28:27.331292",
     "exception": false,
     "start_time": "2024-02-11T10:28:27.297118",
     "status": "completed"
    },
    "tags": []
   },
   "source": [
    "Vectorising Actual Test Data"
   ]
  },
  {
   "cell_type": "code",
   "execution_count": 20,
   "id": "c68e4aaa",
   "metadata": {
    "editable": false,
    "execution": {
     "iopub.execute_input": "2024-02-11T10:28:27.401771Z",
     "iopub.status.busy": "2024-02-11T10:28:27.401467Z",
     "iopub.status.idle": "2024-02-11T10:28:50.594591Z",
     "shell.execute_reply": "2024-02-11T10:28:50.593794Z"
    },
    "papermill": {
     "duration": 23.231207,
     "end_time": "2024-02-11T10:28:50.596955",
     "exception": false,
     "start_time": "2024-02-11T10:28:27.365748",
     "status": "completed"
    },
    "tags": []
   },
   "outputs": [],
   "source": [
    "#Vectorize Test_Set Data\n",
    "def vectorize_test(df, model_name):\n",
    "    X = []\n",
    "    model = Word2Vec.load(model_name) \n",
    "    for (i, tweet) in enumerate(df['Text'].values):\n",
    "        featureVec = np.zeros(100,dtype=\"float32\")\n",
    "        nwords = 0\n",
    "        #Converting Index2Word which is a list to a set for better speed in the execution.\n",
    "        index2word_set = set(model.wv.index_to_key)\n",
    "        for word in word_tokenize(tweet):\n",
    "            if word in index2word_set:\n",
    "                nwords = nwords + 1\n",
    "                featureVec = np.add(featureVec,model.wv[word])\n",
    "        # Dividing the result by number of words to get average\n",
    "        if(nwords > 0):\n",
    "            featureVec = np.divide(featureVec, nwords)\n",
    "        X.append(featureVec) #we keep the mean \n",
    "    return X\n",
    "X = vectorize_test(test_set,\"word2vec.model\")\n",
    "X = torch.tensor(X, requires_grad=True)\n"
   ]
  },
  {
   "cell_type": "markdown",
   "id": "6a3b3c6c",
   "metadata": {
    "editable": false,
    "papermill": {
     "duration": 0.034603,
     "end_time": "2024-02-11T10:28:50.667385",
     "exception": false,
     "start_time": "2024-02-11T10:28:50.632782",
     "status": "completed"
    },
    "tags": []
   },
   "source": [
    "Train model with best hyperparameters"
   ]
  },
  {
   "cell_type": "code",
   "execution_count": 21,
   "id": "dd3f56a2",
   "metadata": {
    "execution": {
     "iopub.execute_input": "2024-02-11T10:28:50.739342Z",
     "iopub.status.busy": "2024-02-11T10:28:50.738997Z",
     "iopub.status.idle": "2024-02-11T10:31:10.292112Z",
     "shell.execute_reply": "2024-02-11T10:31:10.291073Z"
    },
    "papermill": {
     "duration": 139.592841,
     "end_time": "2024-02-11T10:31:10.294643",
     "exception": false,
     "start_time": "2024-02-11T10:28:50.701802",
     "status": "completed"
    },
    "tags": []
   },
   "outputs": [],
   "source": [
    "device = torch.device('cpu')\n",
    "input_size = 100 \n",
    "num_classes = 3\n",
    "num_layers = 3\n",
    "cell_type = 'LSTM'\n",
    "hidden_size = 19\n",
    "clip = 1.0\n",
    "skip = True\n",
    "nonlinearity = 'tanh'\n",
    "learning_rate = 0.01\n",
    "dropout_rate = 0.15\n",
    "num_epochs = 30\n",
    "    \n",
    "model = RNN(cell_type,input_size, hidden_size, num_layers,nonlinearity,dropout_rate, device, num_classes).to(device)\n",
    "criterion = nn.CrossEntropyLoss()\n",
    "optimizer = optim.Adam(model.parameters(), lr=learning_rate)\n",
    "for epoch in range(num_epochs):\n",
    "    train_loss = train(model,TrainDataloader, criterion, optimizer, device, clip)"
   ]
  },
  {
   "cell_type": "markdown",
   "id": "915fdab4",
   "metadata": {
    "editable": false,
    "papermill": {
     "duration": 0.033814,
     "end_time": "2024-02-11T10:31:10.365252",
     "exception": false,
     "start_time": "2024-02-11T10:31:10.331438",
     "status": "completed"
    },
    "tags": []
   },
   "source": [
    "Predictions on Test_set and importing results to cvs file"
   ]
  },
  {
   "cell_type": "code",
   "execution_count": 22,
   "id": "6041b9d8",
   "metadata": {
    "editable": false,
    "execution": {
     "iopub.execute_input": "2024-02-11T10:31:10.434880Z",
     "iopub.status.busy": "2024-02-11T10:31:10.434581Z",
     "iopub.status.idle": "2024-02-11T10:31:10.574715Z",
     "shell.execute_reply": "2024-02-11T10:31:10.573874Z"
    },
    "papermill": {
     "duration": 0.177831,
     "end_time": "2024-02-11T10:31:10.577101",
     "exception": false,
     "start_time": "2024-02-11T10:31:10.399270",
     "status": "completed"
    },
    "tags": []
   },
   "outputs": [],
   "source": [
    "#Predictions on Test_set and importing results to cvs file\n",
    "model.eval()\n",
    "pred = model(X)\n",
    "_, predlabel = torch.max(pred.data, 1)\n",
    "predlabel = predlabel.tolist()\n",
    "\n",
    "predlabel = pd.DataFrame(predlabel)\n",
    "predlabel.index = np.arange(predlabel.shape[0]) + 1\n",
    "id = np.arange(predlabel.shape[0]) + 1\n",
    "id = pd.DataFrame(id)\n",
    "id.index = id.index + 1\n",
    "\n",
    "predlabel = pd.concat([id,predlabel], axis=1)\n",
    "predlabel.columns = [\"Id\", \"Predicted\"]\n",
    "predlabel['Predicted'] = predlabel.Predicted.map({\n",
    "    0:'POSITIVE',\n",
    "    1:'NEUTRAL',\n",
    "    2:'NEGATIVE'   \n",
    "})\n",
    "predlabel.to_csv('submission.csv', index= False)"
   ]
  },
  {
   "cell_type": "markdown",
   "id": "ed89d0ae",
   "metadata": {
    "editable": false,
    "papermill": {
     "duration": 0.035307,
     "end_time": "2024-02-11T10:31:10.648808",
     "exception": false,
     "start_time": "2024-02-11T10:31:10.613501",
     "status": "completed"
    },
    "tags": []
   },
   "source": [
    "Sources: \n",
    "https://pytorch.org/docs/stable/generated/torch.nn.RNN.html\n",
    "https://discuss.pytorch.org/t/implementing-rnn-with-short-skip-connections-in-pytorch/193893\n",
    "https://medium.com/swlh/a-simple-overview-of-rnn-lstm-and-attention-mechanism-9e844763d07b\n",
    "https://pytorch.org/docs/stable/generated/torch.nn.MultiheadAttention.html\n",
    "https://pytorch.org/docs/stable/generated/torch.nn.LSTM.html\n",
    "https://pytorch.org/docs/stable/generated/torch.nn.GRU.html\n",
    "https://optuna.org/\n",
    "https://pytorch.org/docs/stable/generated/torch.nn.utils.clip_grad_norm_.html\n",
    "\n",
    "\n",
    "\n",
    "\n",
    "\n",
    "\n",
    "\n",
    "https://github.com/sooftware/attentions"
   ]
  },
  {
   "cell_type": "markdown",
   "id": "88e0bf99",
   "metadata": {
    "papermill": {
     "duration": 0.035271,
     "end_time": "2024-02-11T10:31:10.719594",
     "exception": false,
     "start_time": "2024-02-11T10:31:10.684323",
     "status": "completed"
    },
    "tags": []
   },
   "source": [
    "https://deepai.org/machine-learning-glossary-and-terms/gradient-clipping"
   ]
  }
 ],
 "metadata": {
  "kaggle": {
   "accelerator": "nvidiaTeslaT4",
   "dataSources": [
    {
     "databundleVersionId": 7351814,
     "sourceId": 66593,
     "sourceType": "competition"
    },
    {
     "datasetId": 4357250,
     "sourceId": 7484739,
     "sourceType": "datasetVersion"
    },
    {
     "datasetId": 4375380,
     "sourceId": 7512149,
     "sourceType": "datasetVersion"
    }
   ],
   "dockerImageVersionId": 30635,
   "isGpuEnabled": true,
   "isInternetEnabled": true,
   "language": "python",
   "sourceType": "notebook"
  },
  "kernelspec": {
   "display_name": "Python 3",
   "language": "python",
   "name": "python3"
  },
  "language_info": {
   "codemirror_mode": {
    "name": "ipython",
    "version": 3
   },
   "file_extension": ".py",
   "mimetype": "text/x-python",
   "name": "python",
   "nbconvert_exporter": "python",
   "pygments_lexer": "ipython3",
   "version": "3.10.12"
  },
  "papermill": {
   "default_parameters": {},
   "duration": 5092.355547,
   "end_time": "2024-02-11T10:31:14.071331",
   "environment_variables": {},
   "exception": null,
   "input_path": "__notebook__.ipynb",
   "output_path": "__notebook__.ipynb",
   "parameters": {},
   "start_time": "2024-02-11T09:06:21.715784",
   "version": "2.4.0"
  }
 },
 "nbformat": 4,
 "nbformat_minor": 5
}
