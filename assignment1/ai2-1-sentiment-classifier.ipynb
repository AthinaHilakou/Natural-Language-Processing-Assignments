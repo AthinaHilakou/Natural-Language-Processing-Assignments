{
 "cells": [
  {
   "cell_type": "code",
   "execution_count": 1,
   "id": "80adb333",
   "metadata": {
    "_cell_guid": "b1076dfc-b9ad-4769-8c92-a6c4dae69d19",
    "_uuid": "8f2839f25d086af736a60e9eeb907d3b93b6e0e5",
    "execution": {
     "iopub.execute_input": "2023-11-21T19:55:11.048729Z",
     "iopub.status.busy": "2023-11-21T19:55:11.048350Z",
     "iopub.status.idle": "2023-11-21T19:56:21.125509Z",
     "shell.execute_reply": "2023-11-21T19:56:21.124058Z"
    },
    "papermill": {
     "duration": 70.092183,
     "end_time": "2023-11-21T19:56:21.127786",
     "exception": false,
     "start_time": "2023-11-21T19:55:11.035603",
     "status": "completed"
    },
    "tags": []
   },
   "outputs": [
    {
     "name": "stdout",
     "output_type": "stream",
     "text": [
      "/opt/conda/lib/python3.10/site-packages/scipy/__init__.py:146: UserWarning: A NumPy version >=1.16.5 and <1.23.0 is required for this version of SciPy (detected version 1.23.5\r\n",
      "  warnings.warn(f\"A NumPy version >={np_minversion} and <{np_maxversion}\"\r\n",
      "Collecting el-core-news-lg==3.6.0\r\n",
      "  Downloading https://github.com/explosion/spacy-models/releases/download/el_core_news_lg-3.6.0/el_core_news_lg-3.6.0-py3-none-any.whl (568.6 MB)\r\n",
      "\u001b[2K     \u001b[90m━━━━━━━━━━━━━━━━━━━━━━━━━━━━━━━━━━━━━━━\u001b[0m \u001b[32m568.6/568.6 MB\u001b[0m \u001b[31m2.0 MB/s\u001b[0m eta \u001b[36m0:00:00\u001b[0m\r\n",
      "\u001b[?25hRequirement already satisfied: spacy<3.7.0,>=3.6.0 in /opt/conda/lib/python3.10/site-packages (from el-core-news-lg==3.6.0) (3.6.1)\r\n",
      "Requirement already satisfied: spacy-legacy<3.1.0,>=3.0.11 in /opt/conda/lib/python3.10/site-packages (from spacy<3.7.0,>=3.6.0->el-core-news-lg==3.6.0) (3.0.12)\r\n",
      "Requirement already satisfied: spacy-loggers<2.0.0,>=1.0.0 in /opt/conda/lib/python3.10/site-packages (from spacy<3.7.0,>=3.6.0->el-core-news-lg==3.6.0) (1.0.4)\r\n",
      "Requirement already satisfied: murmurhash<1.1.0,>=0.28.0 in /opt/conda/lib/python3.10/site-packages (from spacy<3.7.0,>=3.6.0->el-core-news-lg==3.6.0) (1.0.9)\r\n",
      "Requirement already satisfied: cymem<2.1.0,>=2.0.2 in /opt/conda/lib/python3.10/site-packages (from spacy<3.7.0,>=3.6.0->el-core-news-lg==3.6.0) (2.0.7)\r\n",
      "Requirement already satisfied: preshed<3.1.0,>=3.0.2 in /opt/conda/lib/python3.10/site-packages (from spacy<3.7.0,>=3.6.0->el-core-news-lg==3.6.0) (3.0.8)\r\n",
      "Requirement already satisfied: thinc<8.2.0,>=8.1.8 in /opt/conda/lib/python3.10/site-packages (from spacy<3.7.0,>=3.6.0->el-core-news-lg==3.6.0) (8.1.12)\r\n",
      "Requirement already satisfied: wasabi<1.2.0,>=0.9.1 in /opt/conda/lib/python3.10/site-packages (from spacy<3.7.0,>=3.6.0->el-core-news-lg==3.6.0) (1.1.2)\r\n",
      "Requirement already satisfied: srsly<3.0.0,>=2.4.3 in /opt/conda/lib/python3.10/site-packages (from spacy<3.7.0,>=3.6.0->el-core-news-lg==3.6.0) (2.4.7)\r\n",
      "Requirement already satisfied: catalogue<2.1.0,>=2.0.6 in /opt/conda/lib/python3.10/site-packages (from spacy<3.7.0,>=3.6.0->el-core-news-lg==3.6.0) (2.0.9)\r\n",
      "Requirement already satisfied: typer<0.10.0,>=0.3.0 in /opt/conda/lib/python3.10/site-packages (from spacy<3.7.0,>=3.6.0->el-core-news-lg==3.6.0) (0.9.0)\r\n",
      "Requirement already satisfied: pathy>=0.10.0 in /opt/conda/lib/python3.10/site-packages (from spacy<3.7.0,>=3.6.0->el-core-news-lg==3.6.0) (0.10.1)\r\n",
      "Requirement already satisfied: smart-open<7.0.0,>=5.2.1 in /opt/conda/lib/python3.10/site-packages (from spacy<3.7.0,>=3.6.0->el-core-news-lg==3.6.0) (6.3.0)\r\n",
      "Requirement already satisfied: tqdm<5.0.0,>=4.38.0 in /opt/conda/lib/python3.10/site-packages (from spacy<3.7.0,>=3.6.0->el-core-news-lg==3.6.0) (4.66.1)\r\n",
      "Requirement already satisfied: numpy>=1.15.0 in /opt/conda/lib/python3.10/site-packages (from spacy<3.7.0,>=3.6.0->el-core-news-lg==3.6.0) (1.23.5)\r\n",
      "Requirement already satisfied: requests<3.0.0,>=2.13.0 in /opt/conda/lib/python3.10/site-packages (from spacy<3.7.0,>=3.6.0->el-core-news-lg==3.6.0) (2.31.0)\r\n",
      "Requirement already satisfied: pydantic!=1.8,!=1.8.1,<3.0.0,>=1.7.4 in /opt/conda/lib/python3.10/site-packages (from spacy<3.7.0,>=3.6.0->el-core-news-lg==3.6.0) (1.10.9)\r\n",
      "Requirement already satisfied: jinja2 in /opt/conda/lib/python3.10/site-packages (from spacy<3.7.0,>=3.6.0->el-core-news-lg==3.6.0) (3.1.2)\r\n",
      "Requirement already satisfied: setuptools in /opt/conda/lib/python3.10/site-packages (from spacy<3.7.0,>=3.6.0->el-core-news-lg==3.6.0) (68.0.0)\r\n",
      "Requirement already satisfied: packaging>=20.0 in /opt/conda/lib/python3.10/site-packages (from spacy<3.7.0,>=3.6.0->el-core-news-lg==3.6.0) (21.3)\r\n",
      "Requirement already satisfied: langcodes<4.0.0,>=3.2.0 in /opt/conda/lib/python3.10/site-packages (from spacy<3.7.0,>=3.6.0->el-core-news-lg==3.6.0) (3.3.0)\r\n",
      "Requirement already satisfied: pyparsing!=3.0.5,>=2.0.2 in /opt/conda/lib/python3.10/site-packages (from packaging>=20.0->spacy<3.7.0,>=3.6.0->el-core-news-lg==3.6.0) (3.0.9)\r\n",
      "Requirement already satisfied: typing-extensions>=4.2.0 in /opt/conda/lib/python3.10/site-packages (from pydantic!=1.8,!=1.8.1,<3.0.0,>=1.7.4->spacy<3.7.0,>=3.6.0->el-core-news-lg==3.6.0) (4.6.3)\r\n",
      "Requirement already satisfied: charset-normalizer<4,>=2 in /opt/conda/lib/python3.10/site-packages (from requests<3.0.0,>=2.13.0->spacy<3.7.0,>=3.6.0->el-core-news-lg==3.6.0) (3.1.0)\r\n",
      "Requirement already satisfied: idna<4,>=2.5 in /opt/conda/lib/python3.10/site-packages (from requests<3.0.0,>=2.13.0->spacy<3.7.0,>=3.6.0->el-core-news-lg==3.6.0) (3.4)\r\n",
      "Requirement already satisfied: urllib3<3,>=1.21.1 in /opt/conda/lib/python3.10/site-packages (from requests<3.0.0,>=2.13.0->spacy<3.7.0,>=3.6.0->el-core-news-lg==3.6.0) (1.26.15)\r\n",
      "Requirement already satisfied: certifi>=2017.4.17 in /opt/conda/lib/python3.10/site-packages (from requests<3.0.0,>=2.13.0->spacy<3.7.0,>=3.6.0->el-core-news-lg==3.6.0) (2023.7.22)\r\n",
      "Requirement already satisfied: blis<0.8.0,>=0.7.8 in /opt/conda/lib/python3.10/site-packages (from thinc<8.2.0,>=8.1.8->spacy<3.7.0,>=3.6.0->el-core-news-lg==3.6.0) (0.7.10)\r\n",
      "Requirement already satisfied: confection<1.0.0,>=0.0.1 in /opt/conda/lib/python3.10/site-packages (from thinc<8.2.0,>=8.1.8->spacy<3.7.0,>=3.6.0->el-core-news-lg==3.6.0) (0.1.1)\r\n",
      "Requirement already satisfied: click<9.0.0,>=7.1.1 in /opt/conda/lib/python3.10/site-packages (from typer<0.10.0,>=0.3.0->spacy<3.7.0,>=3.6.0->el-core-news-lg==3.6.0) (8.1.7)\r\n",
      "Requirement already satisfied: MarkupSafe>=2.0 in /opt/conda/lib/python3.10/site-packages (from jinja2->spacy<3.7.0,>=3.6.0->el-core-news-lg==3.6.0) (2.1.3)\r\n",
      "Installing collected packages: el-core-news-lg\r\n",
      "Successfully installed el-core-news-lg-3.6.0\r\n",
      "\u001b[38;5;2m✔ Download and installation successful\u001b[0m\r\n",
      "You can now load the package via spacy.load('el_core_news_lg')\r\n"
     ]
    },
    {
     "name": "stderr",
     "output_type": "stream",
     "text": [
      "/opt/conda/lib/python3.10/site-packages/scipy/__init__.py:146: UserWarning: A NumPy version >=1.16.5 and <1.23.0 is required for this version of SciPy (detected version 1.23.5\n",
      "  warnings.warn(f\"A NumPy version >={np_minversion} and <{np_maxversion}\"\n"
     ]
    },
    {
     "name": "stdout",
     "output_type": "stream",
     "text": [
      "Collecting greek-stemmer-pos\r\n",
      "  Downloading greek_stemmer_pos-1.1.2-py3-none-any.whl (19 kB)\r\n",
      "Requirement already satisfied: pytest in /opt/conda/lib/python3.10/site-packages (from greek-stemmer-pos) (7.4.1)\r\n",
      "Collecting pytest-cov (from greek-stemmer-pos)\r\n",
      "  Downloading pytest_cov-4.1.0-py3-none-any.whl (21 kB)\r\n",
      "Requirement already satisfied: iniconfig in /opt/conda/lib/python3.10/site-packages (from pytest->greek-stemmer-pos) (2.0.0)\r\n",
      "Requirement already satisfied: packaging in /opt/conda/lib/python3.10/site-packages (from pytest->greek-stemmer-pos) (21.3)\r\n",
      "Requirement already satisfied: pluggy<2.0,>=0.12 in /opt/conda/lib/python3.10/site-packages (from pytest->greek-stemmer-pos) (1.0.0)\r\n",
      "Requirement already satisfied: exceptiongroup>=1.0.0rc8 in /opt/conda/lib/python3.10/site-packages (from pytest->greek-stemmer-pos) (1.1.1)\r\n",
      "Requirement already satisfied: tomli>=1.0.0 in /opt/conda/lib/python3.10/site-packages (from pytest->greek-stemmer-pos) (2.0.1)\r\n",
      "Collecting coverage[toml]>=5.2.1 (from pytest-cov->greek-stemmer-pos)\r\n",
      "  Downloading coverage-7.3.2-cp310-cp310-manylinux_2_5_x86_64.manylinux1_x86_64.manylinux_2_17_x86_64.manylinux2014_x86_64.whl (227 kB)\r\n",
      "\u001b[2K     \u001b[90m━━━━━━━━━━━━━━━━━━━━━━━━━━━━━━━━━━━━━━\u001b[0m \u001b[32m227.5/227.5 kB\u001b[0m \u001b[31m15.4 MB/s\u001b[0m eta \u001b[36m0:00:00\u001b[0m\r\n",
      "\u001b[?25hRequirement already satisfied: pyparsing!=3.0.5,>=2.0.2 in /opt/conda/lib/python3.10/site-packages (from packaging->pytest->greek-stemmer-pos) (3.0.9)\r\n",
      "Installing collected packages: coverage, pytest-cov, greek-stemmer-pos\r\n",
      "Successfully installed coverage-7.3.2 greek-stemmer-pos-1.1.2 pytest-cov-4.1.0\r\n",
      "/kaggle/input/ys19-2023-assignment-1/sample_submission.csv\n",
      "/kaggle/input/ys19-2023-assignment-1/test_set.csv\n",
      "/kaggle/input/ys19-2023-assignment-1/valid_set.csv\n",
      "/kaggle/input/ys19-2023-assignment-1/train_set.csv\n",
      "/kaggle/input/json-files/lem.json\n",
      "/kaggle/input/json-files/lemstem.json\n",
      "/kaggle/input/json-files/stem.json\n",
      "/kaggle/input/greek-stop/Greek-Stopwords.txt\n"
     ]
    }
   ],
   "source": [
    "# This Python 3 environment comes with many helpful analytics libraries installed\n",
    "# It is defined by the kaggle/python Docker image: https://github.com/kaggle/docker-python\n",
    "# For example, here's several helpful packages to load\n",
    "\n",
    "import numpy as np # linear algebra\n",
    "import pandas as pd # data processing, CSV file I/O (e.g. pd.read_csv)\n",
    "!python -m spacy download el_core_news_lg\n",
    "import spacy as sp#tokeniser, parser tagger for greek language\n",
    "import sklearn as sk\n",
    "import re\n",
    "import unicodedata #character properties for all Unicode characters\n",
    "import nltk\n",
    "from nltk.corpus import stopwords\n",
    "#import demoji #translate emojis into words\n",
    "#demoji.download_codes()\n",
    "!pip install greek-stemmer-pos\n",
    "from greek_stemmer import stemmer\n",
    "from sklearn.pipeline import Pipeline\n",
    "from sklearn.feature_extraction.text import TfidfVectorizer\n",
    "from sklearn.linear_model import LogisticRegression\n",
    "#from sklearn.metrics import classification_report\n",
    "from sklearn.model_selection import cross_val_score\n",
    "# Input data files are available in the read-only \"../input/\" directory\n",
    "# For example, running this (by clicking run or pressing Shift+Enter) will list all files under the input directory\n",
    "\n",
    "import os\n",
    "for dirname, _, filenames in os.walk('/kaggle/input'):\n",
    "    for filename in filenames:\n",
    "        print(os.path.join(dirname, filename))\n",
    "# You can write up to 20GB to the current directory (/kaggle/working/) that gets preserved as output when you create a version using \"Save & Run All\" \n",
    "# You can also write temporary files to /kaggle/temp/, but they won't be saved outside of the current session"
   ]
  },
  {
   "cell_type": "markdown",
   "id": "557d308b",
   "metadata": {
    "papermill": {
     "duration": 0.026445,
     "end_time": "2023-11-21T19:56:21.180089",
     "exception": false,
     "start_time": "2023-11-21T19:56:21.153644",
     "status": "completed"
    },
    "tags": []
   },
   "source": [
    "Getting Data"
   ]
  },
  {
   "cell_type": "code",
   "execution_count": 2,
   "id": "3f470ed4",
   "metadata": {
    "execution": {
     "iopub.execute_input": "2023-11-21T19:56:21.234404Z",
     "iopub.status.busy": "2023-11-21T19:56:21.232817Z",
     "iopub.status.idle": "2023-11-21T19:56:21.743886Z",
     "shell.execute_reply": "2023-11-21T19:56:21.742628Z"
    },
    "papermill": {
     "duration": 0.539866,
     "end_time": "2023-11-21T19:56:21.746013",
     "exception": false,
     "start_time": "2023-11-21T19:56:21.206147",
     "status": "completed"
    },
    "tags": []
   },
   "outputs": [
    {
     "name": "stdout",
     "output_type": "stream",
     "text": [
      "Sentiment\n",
      "NEUTRAL     12210\n",
      "NEGATIVE    12210\n",
      "POSITIVE    12210\n",
      "Name: count, dtype: int64\n"
     ]
    }
   ],
   "source": [
    "path = '/kaggle/input/ys19-2023-assignment-1/test_set.csv'\n",
    "jsonpath1 = 'lem.json'\n",
    "jsonpath2 = 'stem.json'\n",
    "#jsonpath1 = '/kaggle/input/json-files/lem.json'\n",
    "#jsonpath2 = '/kaggle/input/json-files/stem.json'\n",
    "test_set = pd.read_csv(path) \n",
    "path = '/kaggle/input/ys19-2023-assignment-1/valid_set.csv'\n",
    "valid_set = pd.read_csv(path) #4 columns id, text, sentiment, party\n",
    "path = '/kaggle/input/ys19-2023-assignment-1/train_set.csv'\n",
    "train_set = pd.read_csv(path)\n",
    "#Making sure dataset is balanced\n",
    "counts = train_set['Sentiment'].value_counts()\n",
    "print(counts)"
   ]
  },
  {
   "cell_type": "markdown",
   "id": "60e11df3",
   "metadata": {
    "papermill": {
     "duration": 0.024914,
     "end_time": "2023-11-21T19:56:21.796330",
     "exception": false,
     "start_time": "2023-11-21T19:56:21.771416",
     "status": "completed"
    },
    "tags": []
   },
   "source": [
    "Pre-Processing of Data"
   ]
  },
  {
   "cell_type": "markdown",
   "id": "2923a730",
   "metadata": {
    "papermill": {
     "duration": 0.025036,
     "end_time": "2023-11-21T19:56:21.846904",
     "exception": false,
     "start_time": "2023-11-21T19:56:21.821868",
     "status": "completed"
    },
    "tags": []
   },
   "source": [
    "\n",
    "Note:Spacy library does not provide a stemming utility. Therefore, greek_stemmer\n",
    "was used to acquire a stem for each word. Our stemmer function matches a tag provided by the spacy library to a rough equivalent to be passed to greek_stemmer. Note that exact matching of tags is not possible due to the structural differences between the spacy tagging system and the ellogon tagging system used by greek_stemmer (which is better suited to the particularities of the greek language). \n",
    "For example spacy does not differenciate between femimin and masculin nouns, or singular and plural form. "
   ]
  },
  {
   "cell_type": "code",
   "execution_count": 3,
   "id": "5152c4d2",
   "metadata": {
    "_kg_hide-output": true,
    "execution": {
     "iopub.execute_input": "2023-11-21T19:56:21.899397Z",
     "iopub.status.busy": "2023-11-21T19:56:21.899026Z",
     "iopub.status.idle": "2023-11-21T19:57:07.384593Z",
     "shell.execute_reply": "2023-11-21T19:57:07.383761Z"
    },
    "papermill": {
     "duration": 45.514934,
     "end_time": "2023-11-21T19:57:07.387087",
     "exception": false,
     "start_time": "2023-11-21T19:56:21.872153",
     "status": "completed"
    },
    "tags": []
   },
   "outputs": [],
   "source": [
    "#Data Pre-Processing\n",
    "nlp = sp.load(\"el_core_news_lg\")\n",
    "\n",
    "#Load stop words\n",
    "def stopwords_list():\n",
    "    with open('/kaggle/input/greek-stop/Greek-Stopwords.txt') as f:\n",
    "        # return the split results, which is all the words in the file.\n",
    "        return f.read().split()\n",
    "    \n",
    "#Remove Stop Words Function\n",
    "def rem_stopwords(text):\n",
    "    stop_words = stopwords_list()\n",
    "    for word in stop_words: \n",
    "         word = word.replace('\\n', '')\n",
    "    tokens = text.split()\n",
    "    filtered_tokens = [token for token in tokens if token not in stop_words]\n",
    "    return ' '.join(filtered_tokens)\n",
    "\n",
    "\n",
    "\n",
    "#Lemmatisation\n",
    "def lemmatisation(text):\n",
    "    doc = nlp(text)\n",
    "    ret = []\n",
    "    for token in doc:\n",
    "        ret.append(token.lemma_)\n",
    "    return ' '.join(ret)\n",
    "\n",
    "\n",
    "#Stemming\n",
    "#transform spacy tagging to ellogon to apply greek stemmer\n",
    "spacytoellogon = {\n",
    "    \"ADJ\": \"JJM\",\n",
    "    \"ADP\": \"INP\",\n",
    "    \"ADV\": \"RB\",\n",
    "    \"AUX\": \"VB\", #auxiliaries are verbs in greek\n",
    "    \"CONJ\": \"NNPSN\",\n",
    "    \"CCONJ\": \"NNPSN\",\n",
    "    \"DET\": \"DDT\", #and IDT\n",
    "    \"INTJ\": \"NNPSN\",\n",
    "    \"NOUN\": \"NNM\",\n",
    "    \"NUM\": \"NNPSN\",\n",
    "    \"PART\": \"NNPSN\", #recognise ΄δεν' as an uncountable nouns\n",
    "    \"PRON\": \"PRP\",\n",
    "    \"PROPN\": \"NNPSN\", #recognise names as uncountable nouns\n",
    "    \"PUNCT\": \"SPACE\",\n",
    "    \"SCONJ\": \"NNPSN\",\n",
    "    \"SYM\": \"SPACE\",\n",
    "    \"VERB\": \"VB\",\n",
    "    \"X\": \"NNPSN\",\n",
    "    \"SPACE\": \"SPACE\" #we will ignore this in stemming \n",
    "    \n",
    "}\n",
    "\n",
    "\n",
    "\n",
    "def stemming(text):\n",
    "    ret = []\n",
    "    doc = nlp(text)\n",
    "    for token in doc:\n",
    "        if str(spacytoellogon[token.tag_]) == \"SPACE\":\n",
    "            ret.append(' ')\n",
    "        else:\n",
    "            ret.append(stemmer.stem_word(str(token),str(spacytoellogon[token.tag_])))\n",
    "    textlower = ' '.join(ret)\n",
    "    textlower = textlower.lower()\n",
    "    return textlower\n",
    "\n",
    "\n",
    "#Clean training data \n",
    "train_set['Text'] = train_set['Text'].apply(lambda r: re.sub(r'\\'', '', r))   #removing apostrophes\n",
    "train_set['Text'] = [r.lower() for r in train_set['Text'] ]   #making everything lowercase\n",
    "train_set['Text'] = [''.join([c for c in unicodedata.normalize('NFD', r) if not unicodedata.combining(c)]) for r in train_set['Text']] #removing accents\n",
    "train_set['Text'] = train_set['Text'].apply(lambda r: re.sub(r'@\\w+', '', r)) #remove mentions\n",
    "train_set['Text'] = train_set['Text'].apply(lambda r: re.sub(r'([^α-ωΑ-Ω\\s-])', ' ', r)) #only keeping greek letters, URLs are also removed this way\n",
    "train_set['Text'] = train_set['Text'].apply(rem_stopwords) #remove stopwords\n",
    "\n",
    "\n"
   ]
  },
  {
   "cell_type": "code",
   "execution_count": 4,
   "id": "a0ccd9a8",
   "metadata": {
    "execution": {
     "iopub.execute_input": "2023-11-21T19:57:07.440057Z",
     "iopub.status.busy": "2023-11-21T19:57:07.439344Z",
     "iopub.status.idle": "2023-11-21T20:06:47.208139Z",
     "shell.execute_reply": "2023-11-21T20:06:47.207079Z"
    },
    "papermill": {
     "duration": 579.797675,
     "end_time": "2023-11-21T20:06:47.210803",
     "exception": false,
     "start_time": "2023-11-21T19:57:07.413128",
     "status": "completed"
    },
    "tags": []
   },
   "outputs": [],
   "source": [
    "#Choose between lemmatisaiton and stemming \n",
    "lemmed = train_set.copy(deep=True)\n",
    "stemmed = train_set.copy(deep=True)\n",
    "\n",
    "lemmed['Text'] = lemmed['Text'].apply(lemmatisation)\n",
    "stemmed['Text'] = stemmed['Text'].apply(stemming)\n",
    "\n",
    "lemmed.to_json(jsonpath1)  #saving processed data as to not repeat this time consuming step\n",
    "stemmed.to_json(jsonpath2)\n"
   ]
  },
  {
   "cell_type": "markdown",
   "id": "67aead65",
   "metadata": {
    "papermill": {
     "duration": 0.02514,
     "end_time": "2023-11-21T20:06:47.261662",
     "exception": false,
     "start_time": "2023-11-21T20:06:47.236522",
     "status": "completed"
    },
    "tags": []
   },
   "source": [
    "Vectorisation of the data"
   ]
  },
  {
   "cell_type": "markdown",
   "id": "d914ae19",
   "metadata": {
    "papermill": {
     "duration": 0.025043,
     "end_time": "2023-11-21T20:06:47.311920",
     "exception": false,
     "start_time": "2023-11-21T20:06:47.286877",
     "status": "completed"
    },
    "tags": []
   },
   "source": [
    "df = pd.read_json(jsonpath3)  #loading processed data\n",
    "df.head()"
   ]
  },
  {
   "cell_type": "code",
   "execution_count": 5,
   "id": "4c35587f",
   "metadata": {
    "execution": {
     "iopub.execute_input": "2023-11-21T20:06:47.364981Z",
     "iopub.status.busy": "2023-11-21T20:06:47.364116Z",
     "iopub.status.idle": "2023-11-21T20:06:49.818808Z",
     "shell.execute_reply": "2023-11-21T20:06:49.817787Z"
    },
    "papermill": {
     "duration": 2.483921,
     "end_time": "2023-11-21T20:06:49.821289",
     "exception": false,
     "start_time": "2023-11-21T20:06:47.337368",
     "status": "completed"
    },
    "tags": []
   },
   "outputs": [],
   "source": [
    "#Loading Lemmatised Data \n",
    "\n",
    "df = pd.read_json(jsonpath1)  #loading processed data \n",
    "df['Sentiment_Num'] = df.Sentiment.map({\n",
    "    'POSITIVE':0,\n",
    "    'NEUTRAL':1,\n",
    "    'NEGATIVE':2\n",
    "    \n",
    "})\n",
    "Y = list(df['Sentiment_Num'])\n",
    "vectorizer = TfidfVectorizer(ngram_range=(1, 2), max_df=1.0, min_df=1, norm='l1')\n",
    "X = vectorizer.fit_transform(df['Text'])\n"
   ]
  },
  {
   "cell_type": "markdown",
   "id": "2ef13303",
   "metadata": {
    "papermill": {
     "duration": 0.024245,
     "end_time": "2023-11-21T20:06:49.872099",
     "exception": false,
     "start_time": "2023-11-21T20:06:49.847854",
     "status": "completed"
    },
    "tags": []
   },
   "source": [
    "Macro F1 score was chosen as an suitable evaluation metric, as our data set is class balanced."
   ]
  },
  {
   "cell_type": "code",
   "execution_count": 6,
   "id": "edd0c0ad",
   "metadata": {
    "execution": {
     "iopub.execute_input": "2023-11-21T20:06:49.922292Z",
     "iopub.status.busy": "2023-11-21T20:06:49.921600Z",
     "iopub.status.idle": "2023-11-21T20:12:32.606748Z",
     "shell.execute_reply": "2023-11-21T20:12:32.605572Z"
    },
    "papermill": {
     "duration": 342.74001,
     "end_time": "2023-11-21T20:12:32.636405",
     "exception": false,
     "start_time": "2023-11-21T20:06:49.896395",
     "status": "completed"
    },
    "tags": []
   },
   "outputs": [
    {
     "name": "stderr",
     "output_type": "stream",
     "text": [
      "/opt/conda/lib/python3.10/site-packages/scipy/__init__.py:146: UserWarning: A NumPy version >=1.16.5 and <1.23.0 is required for this version of SciPy (detected version 1.23.5\n",
      "  warnings.warn(f\"A NumPy version >={np_minversion} and <{np_maxversion}\"\n",
      "/opt/conda/lib/python3.10/site-packages/scipy/__init__.py:146: UserWarning: A NumPy version >=1.16.5 and <1.23.0 is required for this version of SciPy (detected version 1.23.5\n",
      "  warnings.warn(f\"A NumPy version >={np_minversion} and <{np_maxversion}\"\n",
      "/opt/conda/lib/python3.10/site-packages/scipy/__init__.py:146: UserWarning: A NumPy version >=1.16.5 and <1.23.0 is required for this version of SciPy (detected version 1.23.5\n",
      "  warnings.warn(f\"A NumPy version >={np_minversion} and <{np_maxversion}\"\n",
      "/opt/conda/lib/python3.10/site-packages/scipy/__init__.py:146: UserWarning: A NumPy version >=1.16.5 and <1.23.0 is required for this version of SciPy (detected version 1.23.5\n",
      "  warnings.warn(f\"A NumPy version >={np_minversion} and <{np_maxversion}\"\n"
     ]
    },
    {
     "name": "stdout",
     "output_type": "stream",
     "text": [
      "for tollerance = 0.1\n",
      "0.37977633799496335\n",
      "for tollerance = 0.01\n",
      "0.37979894711570006\n",
      "for tollerance = 0.001\n",
      "0.37979894711570006\n",
      "for tollerance = 0.0001\n",
      "0.37979894711570006\n",
      "for tollerance = 1e-05\n",
      "0.37979894711570006\n",
      "for tollerance = 1e-06\n",
      "0.37979894711570006\n",
      "for tollerance = 1e-07\n",
      "0.37979894711570006\n",
      "for tollerance = 1e-08\n",
      "0.37979894711570006\n",
      "for tollerance = 1e-09\n",
      "0.37979894711570006\n"
     ]
    }
   ],
   "source": [
    "# Testing logistic regression tolerance on lemmatised and stemmed data\n",
    "\n",
    "for t in [1e-1, 1e-2, 1e-3, 1e-4, 1e-5, 1e-6, 1e-7, 1e-8, 1e-9]:\n",
    "    model = LogisticRegression(tol=t, C=1.0, random_state=420, max_iter=500, multi_class='multinomial', n_jobs=-1)\n",
    "    scores = cross_val_score(model,X, Y, cv=5, n_jobs=-1, scoring='f1_macro')\n",
    "    print(f\"for tollerance = {t}\")\n",
    "    print(scores.mean())"
   ]
  },
  {
   "cell_type": "markdown",
   "id": "961ad533",
   "metadata": {
    "papermill": {
     "duration": 0.026072,
     "end_time": "2023-11-21T20:12:32.689313",
     "exception": false,
     "start_time": "2023-11-21T20:12:32.663241",
     "status": "completed"
    },
    "tags": []
   },
   "source": [
    "No effect after tollerance = 0.01, we will proceed with 0.01\n",
    "mean f1_score = 0.3798827101953515\n"
   ]
  },
  {
   "cell_type": "code",
   "execution_count": 7,
   "id": "ec0ab6b7",
   "metadata": {
    "execution": {
     "iopub.execute_input": "2023-11-21T20:12:32.745476Z",
     "iopub.status.busy": "2023-11-21T20:12:32.744703Z",
     "iopub.status.idle": "2023-11-21T20:23:50.642660Z",
     "shell.execute_reply": "2023-11-21T20:23:50.641660Z"
    },
    "papermill": {
     "duration": 677.954383,
     "end_time": "2023-11-21T20:23:50.671342",
     "exception": false,
     "start_time": "2023-11-21T20:12:32.716959",
     "status": "completed"
    },
    "tags": []
   },
   "outputs": [
    {
     "name": "stdout",
     "output_type": "stream",
     "text": [
      "for  Inverse of regularization strength = 8.0\n",
      "0.38288649821969034\n",
      "for  Inverse of regularization strength = 8.4\n",
      "0.382762429386163\n",
      "for  Inverse of regularization strength = 8.8\n",
      "0.38288570955481027\n",
      "for  Inverse of regularization strength = 9.200000000000001\n",
      "0.3828692533480475\n",
      "for  Inverse of regularization strength = 9.600000000000001\n",
      "0.38285032737534036\n"
     ]
    }
   ],
   "source": [
    "# Testing inverse regularisation strength on lemmatised data \n",
    "\n",
    "for c in [x * 0.1 for x in range(80, 100, 4)]:\n",
    "    model = LogisticRegression(C=c, random_state=420, max_iter=500, multi_class='multinomial', n_jobs=-1)\n",
    "    scores = cross_val_score(model,X, Y, cv=5, n_jobs=-1, scoring='f1_macro')\n",
    "    print(f\"for  Inverse of regularization strength = {c}\")\n",
    "    print(scores.mean())"
   ]
  },
  {
   "cell_type": "markdown",
   "id": "1bfc818c",
   "metadata": {
    "papermill": {
     "duration": 0.026135,
     "end_time": "2023-11-21T20:23:50.724478",
     "exception": false,
     "start_time": "2023-11-21T20:23:50.698343",
     "status": "completed"
    },
    "tags": []
   },
   "source": [
    "Best results for c = 9.2\n",
    "mean f1_score = 0.3829010013568715"
   ]
  },
  {
   "cell_type": "code",
   "execution_count": 8,
   "id": "f9d39794",
   "metadata": {
    "execution": {
     "iopub.execute_input": "2023-11-21T20:23:50.779942Z",
     "iopub.status.busy": "2023-11-21T20:23:50.779547Z",
     "iopub.status.idle": "2023-11-21T20:26:13.313002Z",
     "shell.execute_reply": "2023-11-21T20:26:13.311662Z"
    },
    "papermill": {
     "duration": 142.564141,
     "end_time": "2023-11-21T20:26:13.315253",
     "exception": false,
     "start_time": "2023-11-21T20:23:50.751112",
     "status": "completed"
    },
    "tags": []
   },
   "outputs": [
    {
     "name": "stdout",
     "output_type": "stream",
     "text": [
      "for  solver = newton-cg\n",
      "0.3831350328131248\n",
      "for  solver = lbfgs\n",
      "0.38295377785107754\n",
      "for  solver = sag\n",
      "0.3820463548476777\n",
      "for  solver = saga\n",
      "0.35696191538135347\n"
     ]
    }
   ],
   "source": [
    "# Testing different optimisation algorithms on lemmatised data \n",
    "\n",
    "for sol in ['newton-cg', 'lbfgs', 'sag', 'saga']:\n",
    "    model = LogisticRegression(penalty='l2',tol=0.1, C=10, random_state=420, solver=sol, max_iter=10000, multi_class='multinomial', n_jobs=-1)\n",
    "    scores = cross_val_score(model,X, Y, cv=5, n_jobs=-1, scoring='f1_macro')\n",
    "    print(f\"for  solver = {sol}\")\n",
    "    print(scores.mean())"
   ]
  },
  {
   "cell_type": "markdown",
   "id": "3b8d53a9",
   "metadata": {
    "papermill": {
     "duration": 0.026623,
     "end_time": "2023-11-21T20:26:13.368748",
     "exception": false,
     "start_time": "2023-11-21T20:26:13.342125",
     "status": "completed"
    },
    "tags": []
   },
   "source": [
    "Newton cg yeilds the best results for\n",
    "0.38318850806255417\n",
    "with lbfgs coming second\n",
    "0.38303987638405673\n"
   ]
  },
  {
   "cell_type": "code",
   "execution_count": 9,
   "id": "629a430c",
   "metadata": {
    "execution": {
     "iopub.execute_input": "2023-11-21T20:26:13.425797Z",
     "iopub.status.busy": "2023-11-21T20:26:13.424868Z",
     "iopub.status.idle": "2023-11-21T20:31:18.018371Z",
     "shell.execute_reply": "2023-11-21T20:31:18.017365Z"
    },
    "papermill": {
     "duration": 304.650505,
     "end_time": "2023-11-21T20:31:18.046841",
     "exception": false,
     "start_time": "2023-11-21T20:26:13.396336",
     "status": "completed"
    },
    "tags": []
   },
   "outputs": [
    {
     "name": "stdout",
     "output_type": "stream",
     "text": [
      "for  clas = auto\n",
      "0.38295377785107754\n",
      "for  clas = ovr\n",
      "0.38257490938142996\n",
      "for  clas = multinomial\n",
      "0.38295377785107754\n"
     ]
    }
   ],
   "source": [
    "# Testing class parameter on lemmatised data \n",
    "for clas in ['auto', 'ovr', 'multinomial']:\n",
    "    model = LogisticRegression(penalty='l2',tol=0.1, C=10, random_state=420, solver='lbfgs', max_iter=10000, multi_class=clas , n_jobs=-1)\n",
    "    scores = cross_val_score(model,X, Y, cv=5, n_jobs=-1, scoring='f1_macro')\n",
    "    print(f\"for  clas = {clas}\")\n",
    "    print(scores.mean())"
   ]
  },
  {
   "cell_type": "markdown",
   "id": "dee7f423",
   "metadata": {
    "papermill": {
     "duration": 0.026817,
     "end_time": "2023-11-21T20:31:18.100398",
     "exception": false,
     "start_time": "2023-11-21T20:31:18.073581",
     "status": "completed"
    },
    "tags": []
   },
   "source": [
    "Class multinomial yeilds the same results as auto \n",
    "f1_score = 0.38303987638405673\n"
   ]
  },
  {
   "cell_type": "code",
   "execution_count": 10,
   "id": "747fb87f",
   "metadata": {
    "execution": {
     "iopub.execute_input": "2023-11-21T20:31:18.155931Z",
     "iopub.status.busy": "2023-11-21T20:31:18.155556Z",
     "iopub.status.idle": "2023-11-21T20:36:08.691276Z",
     "shell.execute_reply": "2023-11-21T20:36:08.690127Z"
    },
    "papermill": {
     "duration": 290.594135,
     "end_time": "2023-11-21T20:36:08.721624",
     "exception": false,
     "start_time": "2023-11-21T20:31:18.127489",
     "status": "completed"
    },
    "tags": []
   },
   "outputs": [
    {
     "name": "stderr",
     "output_type": "stream",
     "text": [
      "/opt/conda/lib/python3.10/site-packages/sklearn/linear_model/_logistic.py:458: ConvergenceWarning: lbfgs failed to converge (status=1):\n",
      "STOP: TOTAL NO. of ITERATIONS REACHED LIMIT.\n",
      "\n",
      "Increase the number of iterations (max_iter) or scale the data as shown in:\n",
      "    https://scikit-learn.org/stable/modules/preprocessing.html\n",
      "Please also refer to the documentation for alternative solver options:\n",
      "    https://scikit-learn.org/stable/modules/linear_model.html#logistic-regression\n",
      "  n_iter_i = _check_optimize_result(\n",
      "/opt/conda/lib/python3.10/site-packages/sklearn/linear_model/_logistic.py:458: ConvergenceWarning: lbfgs failed to converge (status=1):\n",
      "STOP: TOTAL NO. of ITERATIONS REACHED LIMIT.\n",
      "\n",
      "Increase the number of iterations (max_iter) or scale the data as shown in:\n",
      "    https://scikit-learn.org/stable/modules/preprocessing.html\n",
      "Please also refer to the documentation for alternative solver options:\n",
      "    https://scikit-learn.org/stable/modules/linear_model.html#logistic-regression\n",
      "  n_iter_i = _check_optimize_result(\n",
      "/opt/conda/lib/python3.10/site-packages/sklearn/linear_model/_logistic.py:458: ConvergenceWarning: lbfgs failed to converge (status=1):\n",
      "STOP: TOTAL NO. of ITERATIONS REACHED LIMIT.\n",
      "\n",
      "Increase the number of iterations (max_iter) or scale the data as shown in:\n",
      "    https://scikit-learn.org/stable/modules/preprocessing.html\n",
      "Please also refer to the documentation for alternative solver options:\n",
      "    https://scikit-learn.org/stable/modules/linear_model.html#logistic-regression\n",
      "  n_iter_i = _check_optimize_result(\n",
      "/opt/conda/lib/python3.10/site-packages/sklearn/linear_model/_logistic.py:458: ConvergenceWarning: lbfgs failed to converge (status=1):\n",
      "STOP: TOTAL NO. of ITERATIONS REACHED LIMIT.\n",
      "\n",
      "Increase the number of iterations (max_iter) or scale the data as shown in:\n",
      "    https://scikit-learn.org/stable/modules/preprocessing.html\n",
      "Please also refer to the documentation for alternative solver options:\n",
      "    https://scikit-learn.org/stable/modules/linear_model.html#logistic-regression\n",
      "  n_iter_i = _check_optimize_result(\n",
      "/opt/conda/lib/python3.10/site-packages/sklearn/linear_model/_logistic.py:458: ConvergenceWarning: lbfgs failed to converge (status=1):\n",
      "STOP: TOTAL NO. of ITERATIONS REACHED LIMIT.\n",
      "\n",
      "Increase the number of iterations (max_iter) or scale the data as shown in:\n",
      "    https://scikit-learn.org/stable/modules/preprocessing.html\n",
      "Please also refer to the documentation for alternative solver options:\n",
      "    https://scikit-learn.org/stable/modules/linear_model.html#logistic-regression\n",
      "  n_iter_i = _check_optimize_result(\n"
     ]
    },
    {
     "name": "stdout",
     "output_type": "stream",
     "text": [
      "for  iterrations = 100\n",
      "0.3822675858177011\n",
      "for  iterrations = 1000\n",
      "0.38295377785107754\n",
      "for  iterrations = 10000\n",
      "0.38295377785107754\n"
     ]
    }
   ],
   "source": [
    "# Testing iterations number effect on convergence \n",
    "\n",
    "for iter in [100,1000,10000 ]:\n",
    "    model = LogisticRegression(penalty='l2',tol=0.1, C=10, random_state=420, solver='lbfgs', max_iter=iter, multi_class='multinomial' , n_jobs=-1)\n",
    "    scores = cross_val_score(model,X, Y, cv=5, n_jobs=-1, scoring='f1_macro')\n",
    "    print(f\"for  iterrations = {iter}\")\n",
    "    print(scores.mean())"
   ]
  },
  {
   "cell_type": "markdown",
   "id": "38900c37",
   "metadata": {
    "papermill": {
     "duration": 0.027621,
     "end_time": "2023-11-21T20:36:08.777007",
     "exception": false,
     "start_time": "2023-11-21T20:36:08.749386",
     "status": "completed"
    },
    "tags": []
   },
   "source": [
    "lemmatised iterations = 1000, 0.38303987638405673\n"
   ]
  },
  {
   "cell_type": "code",
   "execution_count": 11,
   "id": "ac73803d",
   "metadata": {
    "execution": {
     "iopub.execute_input": "2023-11-21T20:36:08.833579Z",
     "iopub.status.busy": "2023-11-21T20:36:08.833190Z",
     "iopub.status.idle": "2023-11-21T20:37:19.725183Z",
     "shell.execute_reply": "2023-11-21T20:37:19.724244Z"
    },
    "papermill": {
     "duration": 70.922868,
     "end_time": "2023-11-21T20:37:19.727378",
     "exception": false,
     "start_time": "2023-11-21T20:36:08.804510",
     "status": "completed"
    },
    "tags": []
   },
   "outputs": [
    {
     "name": "stdout",
     "output_type": "stream",
     "text": [
      "for  max  = 0.2 and min = 0.1\n",
      "0.35249795249795246\n",
      "for  max  = 0.3 and min = 0.1\n",
      "0.36606606606606606\n",
      "for  max  = 0.3 and min = 0.2\n",
      "0.3595686595686596\n",
      "for  max  = 0.4 and min = 0.1\n",
      "0.36606606606606606\n",
      "for  max  = 0.4 and min = 0.2\n",
      "0.3595686595686596\n",
      "Transforming process skipped\n",
      "for  max  = 0.5 and min = 0.1\n",
      "0.36606606606606606\n",
      "for  max  = 0.5 and min = 0.2\n",
      "0.3595686595686596\n",
      "Transforming process skipped\n",
      "Transforming process skipped\n",
      "for  max  = 0.6 and min = 0.1\n",
      "0.36606606606606606\n",
      "for  max  = 0.6 and min = 0.2\n",
      "0.3595686595686596\n",
      "Transforming process skipped\n",
      "Transforming process skipped\n",
      "Transforming process skipped\n",
      "for  max  = 0.7 and min = 0.1\n",
      "0.36606606606606606\n",
      "for  max  = 0.7 and min = 0.2\n",
      "0.3595686595686596\n",
      "Transforming process skipped\n",
      "Transforming process skipped\n",
      "Transforming process skipped\n",
      "Transforming process skipped\n",
      "for  max  = 0.8 and min = 0.1\n",
      "0.36606606606606606\n",
      "for  max  = 0.8 and min = 0.2\n",
      "0.3595686595686596\n",
      "Transforming process skipped\n",
      "Transforming process skipped\n",
      "Transforming process skipped\n",
      "Transforming process skipped\n",
      "Transforming process skipped\n",
      "for  max  = 0.9 and min = 0.1\n",
      "0.36606606606606606\n",
      "for  max  = 0.9 and min = 0.2\n",
      "0.3595686595686596\n",
      "Transforming process skipped\n",
      "Transforming process skipped\n",
      "Transforming process skipped\n",
      "Transforming process skipped\n",
      "Transforming process skipped\n",
      "Transforming process skipped\n",
      "for  max  = 1.0 and min = 0.1\n",
      "0.36606606606606606\n",
      "for  max  = 1.0 and min = 0.2\n",
      "0.3595686595686596\n",
      "Transforming process skipped\n",
      "Transforming process skipped\n",
      "Transforming process skipped\n",
      "Transforming process skipped\n",
      "Transforming process skipped\n",
      "Transforming process skipped\n",
      "Transforming process skipped\n"
     ]
    }
   ],
   "source": [
    "# Testing Vectoriser Parameters on lemmatised data \n",
    "for i in [0.1,0.2,0.3,0.4,0.5,0.6,0.7,0.8,0.9,1.0]:\n",
    "    for j in [0.1,0.2,0.3,0.4,0.5,0.6,0.7,0.8,0.9,1.0]:\n",
    "        if j < i:\n",
    "            vectorizer = TfidfVectorizer(ngram_range=(1, 2), max_df=i, min_df=j, norm='l1')\n",
    "            try:\n",
    "                X = vectorizer.fit_transform(df['Text'])\n",
    "            except ValueError:\n",
    "                print('Transforming process skipped')\n",
    "                continue  # go to the beginning of the for-loop to start the next iteration\n",
    "            model = LogisticRegression(penalty='l2',tol=0.1, C=10, random_state=420, solver='lbfgs', max_iter=1000, multi_class='multinomial' , n_jobs=-1)\n",
    "            scores = cross_val_score(model,X, Y, cv=5, n_jobs=-1 )\n",
    "            print(f\"for  max  = {i} and min = {j}\")\n",
    "            print(scores.mean())"
   ]
  },
  {
   "cell_type": "markdown",
   "id": "7a3eeee5",
   "metadata": {
    "papermill": {
     "duration": 0.030902,
     "end_time": "2023-11-21T20:37:19.789125",
     "exception": false,
     "start_time": "2023-11-21T20:37:19.758223",
     "status": "completed"
    },
    "tags": []
   },
   "source": [
    "did not get good results with this one, 0.36606606606606606\n",
    "stemmed 0.36655746655746657"
   ]
  },
  {
   "cell_type": "code",
   "execution_count": 12,
   "id": "81ceafae",
   "metadata": {
    "execution": {
     "iopub.execute_input": "2023-11-21T20:37:19.852474Z",
     "iopub.status.busy": "2023-11-21T20:37:19.852052Z",
     "iopub.status.idle": "2023-11-21T20:37:22.200374Z",
     "shell.execute_reply": "2023-11-21T20:37:22.199519Z"
    },
    "papermill": {
     "duration": 2.382863,
     "end_time": "2023-11-21T20:37:22.202831",
     "exception": false,
     "start_time": "2023-11-21T20:37:19.819968",
     "status": "completed"
    },
    "tags": []
   },
   "outputs": [],
   "source": [
    "#Loading Stemmed Data \n",
    "df = pd.read_json(jsonpath2)  #loading processed data \n",
    "df['Sentiment_Num'] = df.Sentiment.map({\n",
    "    'POSITIVE':0,\n",
    "    'NEUTRAL':1,\n",
    "    'NEGATIVE':2\n",
    "    \n",
    "})\n",
    "\n",
    "Y = list(df['Sentiment_Num'])\n",
    "vectorizer = TfidfVectorizer(ngram_range=(1, 2), max_df=1.0, min_df=1, norm='l1')\n",
    "X = vectorizer.fit_transform(df['Text'])"
   ]
  },
  {
   "cell_type": "code",
   "execution_count": 13,
   "id": "66867116",
   "metadata": {
    "execution": {
     "iopub.execute_input": "2023-11-21T20:37:22.268218Z",
     "iopub.status.busy": "2023-11-21T20:37:22.267342Z",
     "iopub.status.idle": "2023-11-21T20:41:40.211697Z",
     "shell.execute_reply": "2023-11-21T20:41:40.210361Z"
    },
    "papermill": {
     "duration": 257.978448,
     "end_time": "2023-11-21T20:41:40.213786",
     "exception": false,
     "start_time": "2023-11-21T20:37:22.235338",
     "status": "completed"
    },
    "tags": []
   },
   "outputs": [
    {
     "name": "stdout",
     "output_type": "stream",
     "text": [
      "for tollerance = 0.1\n",
      "0.3820687531488644\n",
      "for tollerance = 0.01\n",
      "0.3820687531488644\n",
      "for tollerance = 0.001\n",
      "0.3820687531488644\n",
      "for tollerance = 0.0001\n",
      "0.3820687531488644\n",
      "for tollerance = 1e-05\n",
      "0.3820687531488644\n",
      "for tollerance = 1e-06\n",
      "0.3820687531488644\n",
      "for tollerance = 1e-07\n",
      "0.3820687531488644\n",
      "for tollerance = 1e-08\n",
      "0.3820687531488644\n",
      "for tollerance = 1e-09\n",
      "0.3820687531488644\n"
     ]
    }
   ],
   "source": [
    "# Testing logistic regression tolerance on stemmed data\n",
    "\n",
    "for t in [1e-1, 1e-2, 1e-3, 1e-4, 1e-5, 1e-6, 1e-7, 1e-8, 1e-9]:\n",
    "    model = LogisticRegression(tol=t, C=1.0, random_state=420, max_iter=500, multi_class='multinomial', n_jobs=-1)\n",
    "    scores = cross_val_score(model,X, Y, cv=5, n_jobs=-1, scoring='f1_macro')\n",
    "    print(f\"for tollerance = {t}\")\n",
    "    print(scores.mean())"
   ]
  },
  {
   "cell_type": "markdown",
   "id": "d04e9593",
   "metadata": {
    "papermill": {
     "duration": 0.031556,
     "end_time": "2023-11-21T20:41:40.276964",
     "exception": false,
     "start_time": "2023-11-21T20:41:40.245408",
     "status": "completed"
    },
    "tags": []
   },
   "source": [
    "Stemmed data with tolerance 0.01 = 0.381930390664419"
   ]
  },
  {
   "cell_type": "code",
   "execution_count": 14,
   "id": "02c6c61c",
   "metadata": {
    "execution": {
     "iopub.execute_input": "2023-11-21T20:41:40.342531Z",
     "iopub.status.busy": "2023-11-21T20:41:40.341679Z",
     "iopub.status.idle": "2023-11-21T20:52:01.765333Z",
     "shell.execute_reply": "2023-11-21T20:52:01.764361Z"
    },
    "papermill": {
     "duration": 621.490179,
     "end_time": "2023-11-21T20:52:01.798936",
     "exception": false,
     "start_time": "2023-11-21T20:41:40.308757",
     "status": "completed"
    },
    "tags": []
   },
   "outputs": [
    {
     "name": "stdout",
     "output_type": "stream",
     "text": [
      "for  Inverse of regularization strength = 8.0\n",
      "0.3848630965884655\n",
      "for  Inverse of regularization strength = 8.4\n",
      "0.3849409366435481\n",
      "for  Inverse of regularization strength = 8.8\n",
      "0.38444676489007845\n",
      "for  Inverse of regularization strength = 9.200000000000001\n",
      "0.38460536376988996\n",
      "for  Inverse of regularization strength = 9.600000000000001\n",
      "0.3846205453745637\n"
     ]
    }
   ],
   "source": [
    "# Testing inverse regularisation strength on stemmed data \n",
    "\n",
    "for c in [x * 0.1 for x in range(80, 100, 4)]:\n",
    "    model = LogisticRegression(C=c, random_state=420, max_iter=500, multi_class='multinomial', n_jobs=-1)\n",
    "    scores = cross_val_score(model,X, Y, cv=5, n_jobs=-1, scoring='f1_macro')\n",
    "    print(f\"for  Inverse of regularization strength = {c}\")\n",
    "    print(scores.mean())"
   ]
  },
  {
   "cell_type": "markdown",
   "id": "5c196503",
   "metadata": {
    "papermill": {
     "duration": 0.032262,
     "end_time": "2023-11-21T20:52:01.862325",
     "exception": false,
     "start_time": "2023-11-21T20:52:01.830063",
     "status": "completed"
    },
    "tags": []
   },
   "source": [
    "for c = 8.4 f1_score = 0.38520589324070587"
   ]
  },
  {
   "cell_type": "markdown",
   "id": "660e2fb0",
   "metadata": {
    "papermill": {
     "duration": 0.031036,
     "end_time": "2023-11-21T20:52:01.924462",
     "exception": false,
     "start_time": "2023-11-21T20:52:01.893426",
     "status": "completed"
    },
    "tags": []
   },
   "source": [
    "No penalty took extremely long to run, didnt manage to execute it in time for the deadline\n"
   ]
  },
  {
   "cell_type": "code",
   "execution_count": 15,
   "id": "45ef0a4e",
   "metadata": {
    "execution": {
     "iopub.execute_input": "2023-11-21T20:52:01.988843Z",
     "iopub.status.busy": "2023-11-21T20:52:01.987714Z",
     "iopub.status.idle": "2023-11-21T20:54:25.204843Z",
     "shell.execute_reply": "2023-11-21T20:54:25.203694Z"
    },
    "papermill": {
     "duration": 143.251428,
     "end_time": "2023-11-21T20:54:25.206946",
     "exception": false,
     "start_time": "2023-11-21T20:52:01.955518",
     "status": "completed"
    },
    "tags": []
   },
   "outputs": [
    {
     "name": "stdout",
     "output_type": "stream",
     "text": [
      "for  solver = newton-cg\n",
      "0.384452913044771\n",
      "for  solver = lbfgs\n",
      "0.38443938858235904\n",
      "for  solver = sag\n",
      "0.38530097602058533\n",
      "for  solver = saga\n",
      "0.3740661428838507\n"
     ]
    }
   ],
   "source": [
    "# Testing different algorithms on stemmed data \n",
    "for sol in ['newton-cg', 'lbfgs', 'sag', 'saga']:\n",
    "    model = LogisticRegression(penalty='l2',tol=0.1, C=10, random_state=420, solver=sol, max_iter=10000, multi_class='multinomial', n_jobs=-1)\n",
    "    scores = cross_val_score(model,X, Y, cv=5, n_jobs=-1, scoring='f1_macro')\n",
    "    print(f\"for  solver = {sol}\")\n",
    "    print(scores.mean())"
   ]
  },
  {
   "cell_type": "markdown",
   "id": "9eb85675",
   "metadata": {
    "papermill": {
     "duration": 0.039931,
     "end_time": "2023-11-21T20:54:25.285008",
     "exception": false,
     "start_time": "2023-11-21T20:54:25.245077",
     "status": "completed"
    },
    "tags": []
   },
   "source": [
    "Best results for sag = 0.38530097602058533"
   ]
  },
  {
   "cell_type": "code",
   "execution_count": 16,
   "id": "5fc83fc2",
   "metadata": {
    "execution": {
     "iopub.execute_input": "2023-11-21T20:54:25.366014Z",
     "iopub.status.busy": "2023-11-21T20:54:25.365632Z",
     "iopub.status.idle": "2023-11-21T20:59:42.512580Z",
     "shell.execute_reply": "2023-11-21T20:59:42.511642Z"
    },
    "papermill": {
     "duration": 317.220846,
     "end_time": "2023-11-21T20:59:42.546802",
     "exception": false,
     "start_time": "2023-11-21T20:54:25.325956",
     "status": "completed"
    },
    "tags": []
   },
   "outputs": [
    {
     "name": "stdout",
     "output_type": "stream",
     "text": [
      "for  clas = auto\n",
      "0.38443938858235904\n",
      "for  clas = ovr\n",
      "0.3835922505225361\n",
      "for  clas = multinomial\n",
      "0.38443938858235904\n"
     ]
    }
   ],
   "source": [
    "# Testing class parameter on stemmed data \n",
    "for clas in ['auto', 'ovr', 'multinomial']:\n",
    "    model = LogisticRegression(penalty='l2',tol=0.1, C=10, random_state=420, solver='lbfgs', max_iter=10000, multi_class=clas , n_jobs=-1)\n",
    "    scores = cross_val_score(model,X, Y, cv=5, n_jobs=-1, scoring='f1_macro')\n",
    "    print(f\"for  clas = {clas}\")\n",
    "    print(scores.mean())"
   ]
  },
  {
   "cell_type": "markdown",
   "id": "c2e57e7f",
   "metadata": {
    "papermill": {
     "duration": 0.031704,
     "end_time": "2023-11-21T20:59:42.610774",
     "exception": false,
     "start_time": "2023-11-21T20:59:42.579070",
     "status": "completed"
    },
    "tags": []
   },
   "source": [
    "stemmed multinomial same as auto 0.38530097602058533"
   ]
  },
  {
   "cell_type": "code",
   "execution_count": 17,
   "id": "451f4095",
   "metadata": {
    "execution": {
     "iopub.execute_input": "2023-11-21T20:59:42.677202Z",
     "iopub.status.busy": "2023-11-21T20:59:42.676274Z",
     "iopub.status.idle": "2023-11-21T21:04:57.283828Z",
     "shell.execute_reply": "2023-11-21T21:04:57.282766Z"
    },
    "papermill": {
     "duration": 314.675928,
     "end_time": "2023-11-21T21:04:57.319244",
     "exception": false,
     "start_time": "2023-11-21T20:59:42.643316",
     "status": "completed"
    },
    "tags": []
   },
   "outputs": [
    {
     "name": "stderr",
     "output_type": "stream",
     "text": [
      "/opt/conda/lib/python3.10/site-packages/sklearn/linear_model/_logistic.py:458: ConvergenceWarning: lbfgs failed to converge (status=1):\n",
      "STOP: TOTAL NO. of ITERATIONS REACHED LIMIT.\n",
      "\n",
      "Increase the number of iterations (max_iter) or scale the data as shown in:\n",
      "    https://scikit-learn.org/stable/modules/preprocessing.html\n",
      "Please also refer to the documentation for alternative solver options:\n",
      "    https://scikit-learn.org/stable/modules/linear_model.html#logistic-regression\n",
      "  n_iter_i = _check_optimize_result(\n",
      "/opt/conda/lib/python3.10/site-packages/sklearn/linear_model/_logistic.py:458: ConvergenceWarning: lbfgs failed to converge (status=1):\n",
      "STOP: TOTAL NO. of ITERATIONS REACHED LIMIT.\n",
      "\n",
      "Increase the number of iterations (max_iter) or scale the data as shown in:\n",
      "    https://scikit-learn.org/stable/modules/preprocessing.html\n",
      "Please also refer to the documentation for alternative solver options:\n",
      "    https://scikit-learn.org/stable/modules/linear_model.html#logistic-regression\n",
      "  n_iter_i = _check_optimize_result(\n",
      "/opt/conda/lib/python3.10/site-packages/sklearn/linear_model/_logistic.py:458: ConvergenceWarning: lbfgs failed to converge (status=1):\n",
      "STOP: TOTAL NO. of ITERATIONS REACHED LIMIT.\n",
      "\n",
      "Increase the number of iterations (max_iter) or scale the data as shown in:\n",
      "    https://scikit-learn.org/stable/modules/preprocessing.html\n",
      "Please also refer to the documentation for alternative solver options:\n",
      "    https://scikit-learn.org/stable/modules/linear_model.html#logistic-regression\n",
      "  n_iter_i = _check_optimize_result(\n",
      "/opt/conda/lib/python3.10/site-packages/sklearn/linear_model/_logistic.py:458: ConvergenceWarning: lbfgs failed to converge (status=1):\n",
      "STOP: TOTAL NO. of ITERATIONS REACHED LIMIT.\n",
      "\n",
      "Increase the number of iterations (max_iter) or scale the data as shown in:\n",
      "    https://scikit-learn.org/stable/modules/preprocessing.html\n",
      "Please also refer to the documentation for alternative solver options:\n",
      "    https://scikit-learn.org/stable/modules/linear_model.html#logistic-regression\n",
      "  n_iter_i = _check_optimize_result(\n",
      "/opt/conda/lib/python3.10/site-packages/sklearn/linear_model/_logistic.py:458: ConvergenceWarning: lbfgs failed to converge (status=1):\n",
      "STOP: TOTAL NO. of ITERATIONS REACHED LIMIT.\n",
      "\n",
      "Increase the number of iterations (max_iter) or scale the data as shown in:\n",
      "    https://scikit-learn.org/stable/modules/preprocessing.html\n",
      "Please also refer to the documentation for alternative solver options:\n",
      "    https://scikit-learn.org/stable/modules/linear_model.html#logistic-regression\n",
      "  n_iter_i = _check_optimize_result(\n"
     ]
    },
    {
     "name": "stdout",
     "output_type": "stream",
     "text": [
      "for  iterrations = 10\n",
      "0.37523124446526224\n"
     ]
    },
    {
     "name": "stderr",
     "output_type": "stream",
     "text": [
      "/opt/conda/lib/python3.10/site-packages/sklearn/linear_model/_logistic.py:458: ConvergenceWarning: lbfgs failed to converge (status=1):\n",
      "STOP: TOTAL NO. of ITERATIONS REACHED LIMIT.\n",
      "\n",
      "Increase the number of iterations (max_iter) or scale the data as shown in:\n",
      "    https://scikit-learn.org/stable/modules/preprocessing.html\n",
      "Please also refer to the documentation for alternative solver options:\n",
      "    https://scikit-learn.org/stable/modules/linear_model.html#logistic-regression\n",
      "  n_iter_i = _check_optimize_result(\n",
      "/opt/conda/lib/python3.10/site-packages/sklearn/linear_model/_logistic.py:458: ConvergenceWarning: lbfgs failed to converge (status=1):\n",
      "STOP: TOTAL NO. of ITERATIONS REACHED LIMIT.\n",
      "\n",
      "Increase the number of iterations (max_iter) or scale the data as shown in:\n",
      "    https://scikit-learn.org/stable/modules/preprocessing.html\n",
      "Please also refer to the documentation for alternative solver options:\n",
      "    https://scikit-learn.org/stable/modules/linear_model.html#logistic-regression\n",
      "  n_iter_i = _check_optimize_result(\n",
      "/opt/conda/lib/python3.10/site-packages/sklearn/linear_model/_logistic.py:458: ConvergenceWarning: lbfgs failed to converge (status=1):\n",
      "STOP: TOTAL NO. of ITERATIONS REACHED LIMIT.\n",
      "\n",
      "Increase the number of iterations (max_iter) or scale the data as shown in:\n",
      "    https://scikit-learn.org/stable/modules/preprocessing.html\n",
      "Please also refer to the documentation for alternative solver options:\n",
      "    https://scikit-learn.org/stable/modules/linear_model.html#logistic-regression\n",
      "  n_iter_i = _check_optimize_result(\n",
      "/opt/conda/lib/python3.10/site-packages/sklearn/linear_model/_logistic.py:458: ConvergenceWarning: lbfgs failed to converge (status=1):\n",
      "STOP: TOTAL NO. of ITERATIONS REACHED LIMIT.\n",
      "\n",
      "Increase the number of iterations (max_iter) or scale the data as shown in:\n",
      "    https://scikit-learn.org/stable/modules/preprocessing.html\n",
      "Please also refer to the documentation for alternative solver options:\n",
      "    https://scikit-learn.org/stable/modules/linear_model.html#logistic-regression\n",
      "  n_iter_i = _check_optimize_result(\n",
      "/opt/conda/lib/python3.10/site-packages/sklearn/linear_model/_logistic.py:458: ConvergenceWarning: lbfgs failed to converge (status=1):\n",
      "STOP: TOTAL NO. of ITERATIONS REACHED LIMIT.\n",
      "\n",
      "Increase the number of iterations (max_iter) or scale the data as shown in:\n",
      "    https://scikit-learn.org/stable/modules/preprocessing.html\n",
      "Please also refer to the documentation for alternative solver options:\n",
      "    https://scikit-learn.org/stable/modules/linear_model.html#logistic-regression\n",
      "  n_iter_i = _check_optimize_result(\n"
     ]
    },
    {
     "name": "stdout",
     "output_type": "stream",
     "text": [
      "for  iterrations = 100\n",
      "0.38304458001561154\n"
     ]
    },
    {
     "name": "stderr",
     "output_type": "stream",
     "text": [
      "/opt/conda/lib/python3.10/site-packages/joblib/externals/loky/process_executor.py:752: UserWarning: A worker stopped while some jobs were given to the executor. This can be caused by a too short worker timeout or by a memory leak.\n",
      "  warnings.warn(\n",
      "/opt/conda/lib/python3.10/site-packages/scipy/__init__.py:146: UserWarning: A NumPy version >=1.16.5 and <1.23.0 is required for this version of SciPy (detected version 1.23.5\n",
      "  warnings.warn(f\"A NumPy version >={np_minversion} and <{np_maxversion}\"\n"
     ]
    },
    {
     "name": "stdout",
     "output_type": "stream",
     "text": [
      "for  iterrations = 1000\n",
      "0.38443938858235904\n",
      "for  iterrations = 10000\n",
      "0.38443938858235904\n"
     ]
    }
   ],
   "source": [
    "# Testing iterations number effect on convergence on stemmed data \n",
    "\n",
    "for iter in [10,100,1000,10000 ]:\n",
    "    model = LogisticRegression(penalty='l2',tol=0.1, C=10, random_state=420, solver='lbfgs', max_iter=iter, multi_class='multinomial' , n_jobs=-1)\n",
    "    scores = cross_val_score(model,X, Y, cv=5, n_jobs=-1, scoring='f1_macro')\n",
    "    print(f\"for  iterrations = {iter}\")\n",
    "    print(scores.mean())"
   ]
  },
  {
   "cell_type": "markdown",
   "id": "f7034a3a",
   "metadata": {
    "papermill": {
     "duration": 0.033207,
     "end_time": "2023-11-21T21:04:57.385693",
     "exception": false,
     "start_time": "2023-11-21T21:04:57.352486",
     "status": "completed"
    },
    "tags": []
   },
   "source": [
    "stemmed iterations = 1000, 0.38436928784447055"
   ]
  },
  {
   "cell_type": "code",
   "execution_count": 18,
   "id": "cf87e2a5",
   "metadata": {
    "execution": {
     "iopub.execute_input": "2023-11-21T21:04:57.455347Z",
     "iopub.status.busy": "2023-11-21T21:04:57.454955Z",
     "iopub.status.idle": "2023-11-21T21:06:02.244179Z",
     "shell.execute_reply": "2023-11-21T21:06:02.243059Z"
    },
    "papermill": {
     "duration": 64.826613,
     "end_time": "2023-11-21T21:06:02.246281",
     "exception": false,
     "start_time": "2023-11-21T21:04:57.419668",
     "status": "completed"
    },
    "tags": []
   },
   "outputs": [
    {
     "name": "stdout",
     "output_type": "stream",
     "text": [
      "for  max  = 0.2 and min = 0.1\n",
      "0.3628173628173628\n",
      "for  max  = 0.3 and min = 0.1\n",
      "0.36655746655746657\n",
      "for  max  = 0.3 and min = 0.2\n",
      "0.34346164346164343\n",
      "for  max  = 0.4 and min = 0.1\n",
      "0.36655746655746657\n",
      "for  max  = 0.4 and min = 0.2\n",
      "0.34346164346164343\n",
      "Transforming process skipped\n",
      "for  max  = 0.5 and min = 0.1\n",
      "0.36655746655746657\n",
      "for  max  = 0.5 and min = 0.2\n",
      "0.34346164346164343\n",
      "Transforming process skipped\n",
      "Transforming process skipped\n",
      "for  max  = 0.6 and min = 0.1\n",
      "0.36655746655746657\n",
      "for  max  = 0.6 and min = 0.2\n",
      "0.34346164346164343\n",
      "Transforming process skipped\n",
      "Transforming process skipped\n",
      "Transforming process skipped\n",
      "for  max  = 0.7 and min = 0.1\n",
      "0.36655746655746657\n",
      "for  max  = 0.7 and min = 0.2\n",
      "0.34346164346164343\n",
      "Transforming process skipped\n",
      "Transforming process skipped\n",
      "Transforming process skipped\n",
      "Transforming process skipped\n",
      "for  max  = 0.8 and min = 0.1\n",
      "0.36655746655746657\n",
      "for  max  = 0.8 and min = 0.2\n",
      "0.34346164346164343\n",
      "Transforming process skipped\n",
      "Transforming process skipped\n",
      "Transforming process skipped\n",
      "Transforming process skipped\n",
      "Transforming process skipped\n",
      "for  max  = 0.9 and min = 0.1\n",
      "0.36655746655746657\n",
      "for  max  = 0.9 and min = 0.2\n",
      "0.34346164346164343\n",
      "Transforming process skipped\n",
      "Transforming process skipped\n",
      "Transforming process skipped\n",
      "Transforming process skipped\n",
      "Transforming process skipped\n",
      "Transforming process skipped\n",
      "for  max  = 1.0 and min = 0.1\n",
      "0.36655746655746657\n",
      "for  max  = 1.0 and min = 0.2\n",
      "0.34346164346164343\n",
      "Transforming process skipped\n",
      "Transforming process skipped\n",
      "Transforming process skipped\n",
      "Transforming process skipped\n",
      "Transforming process skipped\n",
      "Transforming process skipped\n",
      "Transforming process skipped\n"
     ]
    }
   ],
   "source": [
    "# Testing Vectoriser Parameters on stemmed data \n",
    "for i in [0.1,0.2,0.3,0.4,0.5,0.6,0.7,0.8,0.9,1.0]:\n",
    "    for j in [0.1,0.2,0.3,0.4,0.5,0.6,0.7,0.8,0.9,1.0]:\n",
    "        if j < i:\n",
    "            vectorizer = TfidfVectorizer(ngram_range=(1, 2), max_df=i, min_df=j, norm='l1')\n",
    "            try:\n",
    "                X = vectorizer.fit_transform(df['Text'])\n",
    "            except ValueError:\n",
    "                print('Transforming process skipped')\n",
    "                continue  # go to the beginning of the for-loop to start the next iteration\n",
    "            model = LogisticRegression(penalty='l2',tol=0.1, C=10, random_state=420, solver='lbfgs', max_iter=1000, multi_class='multinomial' , n_jobs=-1)\n",
    "            scores = cross_val_score(model,X, Y, cv=5, n_jobs=-1 )\n",
    "            print(f\"for  max  = {i} and min = {j}\")\n",
    "            print(scores.mean())"
   ]
  },
  {
   "cell_type": "markdown",
   "id": "31033ea4",
   "metadata": {
    "papermill": {
     "duration": 0.037077,
     "end_time": "2023-11-21T21:06:02.320855",
     "exception": false,
     "start_time": "2023-11-21T21:06:02.283778",
     "status": "completed"
    },
    "tags": []
   },
   "source": [
    "This test did not yeild satisfactory results in general"
   ]
  },
  {
   "cell_type": "code",
   "execution_count": 19,
   "id": "8eff9b17",
   "metadata": {
    "execution": {
     "iopub.execute_input": "2023-11-21T21:06:02.396949Z",
     "iopub.status.busy": "2023-11-21T21:06:02.396050Z",
     "iopub.status.idle": "2023-11-21T21:06:50.166864Z",
     "shell.execute_reply": "2023-11-21T21:06:50.166020Z"
    },
    "papermill": {
     "duration": 47.811379,
     "end_time": "2023-11-21T21:06:50.169386",
     "exception": false,
     "start_time": "2023-11-21T21:06:02.358007",
     "status": "completed"
    },
    "tags": []
   },
   "outputs": [],
   "source": [
    "#Validation data pre-processing \n",
    "#Clean Validation data \n",
    "valid_set['Text'] = valid_set['Text'].apply(lambda r: re.sub(r'\\'', '', r))   #removing apostrophes\n",
    "valid_set['Text'] = [r.lower() for r in valid_set['Text'] ]   #making everything lowercase\n",
    "valid_set['Text'] = [''.join([c for c in unicodedata.normalize('NFD', r) if not unicodedata.combining(c)]) for r in valid_set['Text']] #removing accents\n",
    "valid_set['Text'] = valid_set['Text'].apply(lambda r: re.sub(r'@\\w+', '', r)) #remove mentions\n",
    "valid_set['Text'] = valid_set['Text'].apply(lambda r: re.sub(r'([^α-ωΑ-Ω\\s-])', ' ', r)) #only keeping greek letters, URLs are also removed this way\n",
    "valid_set['Text'] = valid_set['Text'].apply(rem_stopwords) #remove stopwords\n",
    "#Stemming\n",
    "valid_set['Text'] = valid_set['Text'].apply(stemming)\n",
    "#Mapping nums to sentiments for logistic regression\n",
    "valid_set['Sentiment_Num'] = valid_set.Sentiment.map({\n",
    "    'POSITIVE':0,\n",
    "    'NEUTRAL':1,\n",
    "    'NEGATIVE':2    \n",
    "})"
   ]
  },
  {
   "cell_type": "code",
   "execution_count": 20,
   "id": "352be45e",
   "metadata": {
    "execution": {
     "iopub.execute_input": "2023-11-21T21:06:50.245396Z",
     "iopub.status.busy": "2023-11-21T21:06:50.245036Z",
     "iopub.status.idle": "2023-11-21T21:06:53.690028Z",
     "shell.execute_reply": "2023-11-21T21:06:53.688861Z"
    },
    "papermill": {
     "duration": 3.485887,
     "end_time": "2023-11-21T21:06:53.692421",
     "exception": false,
     "start_time": "2023-11-21T21:06:50.206534",
     "status": "completed"
    },
    "tags": []
   },
   "outputs": [
    {
     "name": "stdout",
     "output_type": "stream",
     "text": [
      "              precision    recall  f1-score   support\n",
      "\n",
      "           0       0.41      0.40      0.41      1744\n",
      "           1       0.40      0.40      0.40      1744\n",
      "           2       0.38      0.40      0.39      1744\n",
      "\n",
      "    accuracy                           0.40      5232\n",
      "   macro avg       0.40      0.40      0.40      5232\n",
      "weighted avg       0.40      0.40      0.40      5232\n",
      "\n"
     ]
    }
   ],
   "source": [
    "# Testing on validation data \n",
    "from sklearn.metrics import classification_report\n",
    "df = pd.read_json(jsonpath2)\n",
    "df['Sentiment_Num'] = df.Sentiment.map({\n",
    "    'POSITIVE':0,\n",
    "    'NEUTRAL':1,\n",
    "    'NEGATIVE':2    \n",
    "})\n",
    "\n",
    "Ytrain = list(df['Sentiment_Num'])\n",
    "vectorizer = TfidfVectorizer(ngram_range=(1, 2) , max_df=1.0, min_df=1, norm='l1')\n",
    "Xtrain = vectorizer.fit_transform(df['Text'])\n",
    "\n",
    "Yval =  list(valid_set['Sentiment_Num'])\n",
    "Xval = vectorizer.transform(valid_set['Text'])\n",
    "\n",
    "model = LogisticRegression(penalty='l2', tol=0.01, C=8.4, random_state=420, solver='sag', max_iter=1000, multi_class='multinomial', n_jobs=-1)\n",
    "model.fit(Xtrain, Ytrain)\n",
    "\n",
    "prediction = model.predict(Xval)\n",
    "print(classification_report(Yval, prediction))"
   ]
  },
  {
   "cell_type": "code",
   "execution_count": 21,
   "id": "ed16c2f7",
   "metadata": {
    "_kg_hide-input": true,
    "execution": {
     "iopub.execute_input": "2023-11-21T21:06:53.821338Z",
     "iopub.status.busy": "2023-11-21T21:06:53.820614Z",
     "iopub.status.idle": "2023-11-21T21:06:59.537522Z",
     "shell.execute_reply": "2023-11-21T21:06:59.536587Z"
    },
    "papermill": {
     "duration": 5.756361,
     "end_time": "2023-11-21T21:06:59.539760",
     "exception": false,
     "start_time": "2023-11-21T21:06:53.783399",
     "status": "completed"
    },
    "tags": []
   },
   "outputs": [
    {
     "data": {
      "image/png": "[encoded data removed]",
      "text/plain": [
       "<Figure size 640x480 with 1 Axes>"
      ]
     },
     "metadata": {},
     "output_type": "display_data"
    }
   ],
   "source": [
    "#Plot learning curves\n",
    "import matplotlib.pyplot as plt\n",
    "from sklearn.model_selection import LearningCurveDisplay\n",
    "LearningCurveDisplay.from_estimator(model, Xtrain, Ytrain, cv = 5, score_type = \"both\", n_jobs = -1, score_name = \"Accuracy\")\n",
    "plt.grid()\n",
    "plt.show()\n"
   ]
  },
  {
   "cell_type": "code",
   "execution_count": 22,
   "id": "0843db4c",
   "metadata": {
    "execution": {
     "iopub.execute_input": "2023-11-21T21:06:59.615918Z",
     "iopub.status.busy": "2023-11-21T21:06:59.615044Z",
     "iopub.status.idle": "2023-11-21T21:06:59.619510Z",
     "shell.execute_reply": "2023-11-21T21:06:59.618576Z"
    },
    "papermill": {
     "duration": 0.044543,
     "end_time": "2023-11-21T21:06:59.621451",
     "exception": false,
     "start_time": "2023-11-21T21:06:59.576908",
     "status": "completed"
    },
    "tags": []
   },
   "outputs": [],
   "source": [
    "#from sklearn.metrics import roc_curve\n",
    "#lr_probs = model.predict_proba(Xval)\n",
    "#lr_probs = lr_probs[:, 1]\n",
    "#print(Yval)\n",
    "#lr_fpr, lr_tpr, _ = roc_curve(Yval, lr_probs)\n",
    "#plt.plot(lr_fpr, lr_tpr, marker='.', label='Logistic')\n",
    "#Did not implement a roc curve"
   ]
  },
  {
   "cell_type": "code",
   "execution_count": 23,
   "id": "b97fb6e7",
   "metadata": {
    "execution": {
     "iopub.execute_input": "2023-11-21T21:06:59.697692Z",
     "iopub.status.busy": "2023-11-21T21:06:59.696944Z",
     "iopub.status.idle": "2023-11-21T21:08:45.867113Z",
     "shell.execute_reply": "2023-11-21T21:08:45.866222Z"
    },
    "papermill": {
     "duration": 106.211005,
     "end_time": "2023-11-21T21:08:45.869769",
     "exception": false,
     "start_time": "2023-11-21T21:06:59.658764",
     "status": "completed"
    },
    "tags": []
   },
   "outputs": [],
   "source": [
    "#Test data pre-processing \n",
    "#Clean Test data \n",
    "test_set['Text'] = test_set['Text'].apply(lambda r: re.sub(r'\\'', '', r))   #removing apostrophes\n",
    "test_set['Text'] = [r.lower() for r in test_set['Text'] ]   #making everything lowercase\n",
    "test_set['Text'] = [''.join([c for c in unicodedata.normalize('NFD', r) if not unicodedata.combining(c)]) for r in test_set['Text']] #removing accents\n",
    "test_set['Text'] = test_set['Text'].apply(lambda r: re.sub(r'@\\w+', '', r)) #remove mentions\n",
    "test_set['Text'] = test_set['Text'].apply(lambda r: re.sub(r'([^α-ωΑ-Ω\\s-])', ' ', r)) #only keeping greek letters, URLs are also removed this way\n",
    "test_set['Text'] = test_set['Text'].apply(rem_stopwords) #remove stopwords\n",
    "#Stemming\n",
    "test_set['Text'] = test_set['Text'].apply(stemming)"
   ]
  },
  {
   "cell_type": "code",
   "execution_count": 24,
   "id": "15beaadd",
   "metadata": {
    "execution": {
     "iopub.execute_input": "2023-11-21T21:08:45.952858Z",
     "iopub.status.busy": "2023-11-21T21:08:45.952475Z",
     "iopub.status.idle": "2023-11-21T21:08:49.683885Z",
     "shell.execute_reply": "2023-11-21T21:08:49.682937Z"
    },
    "papermill": {
     "duration": 3.775919,
     "end_time": "2023-11-21T21:08:49.686300",
     "exception": false,
     "start_time": "2023-11-21T21:08:45.910381",
     "status": "completed"
    },
    "tags": []
   },
   "outputs": [],
   "source": [
    "#Test model\n",
    "from sklearn.metrics import classification_report\n",
    "df = pd.read_json(jsonpath2)\n",
    "df['Sentiment_Num'] = df.Sentiment.map({\n",
    "    'POSITIVE':0,\n",
    "    'NEUTRAL':1,\n",
    "    'NEGATIVE':2    \n",
    "})\n",
    "\n",
    "Ytrain = list(df['Sentiment_Num'])\n",
    "vectorizer = TfidfVectorizer(ngram_range=(1, 2) , max_df=1.0, min_df=1, norm='l1')\n",
    "Xtrain = vectorizer.fit_transform(df['Text'])\n",
    "\n",
    "Xtest = vectorizer.transform(test_set['Text'])\n",
    "\n",
    "model = LogisticRegression(penalty='l2', tol=0.01, C=8.4, random_state=420, solver='sag', max_iter=1000, multi_class='multinomial', n_jobs=-1)\n",
    "model.fit(Xtrain, Ytrain)\n",
    "\n",
    "predictions = model.predict(Xtest)\n",
    "ids = test_set['New_ID']\n",
    "list_of_tuples = list(zip(ids,predictions))\n",
    "test_results = pd.DataFrame(list_of_tuples,columns=['Id','predicted'])\n",
    "test_results['predicted'] = test_results.predicted.map({\n",
    "    0:'POSITIVE',\n",
    "    1:'NEUTRAL',\n",
    "    2:'NEGATIVE'   \n",
    "})\n",
    "\n",
    "test_results.to_csv('submission.csv', index=False)"
   ]
  },
  {
   "cell_type": "markdown",
   "id": "a5e36345",
   "metadata": {
    "papermill": {
     "duration": 0.036333,
     "end_time": "2023-11-21T21:08:49.759820",
     "exception": false,
     "start_time": "2023-11-21T21:08:49.723487",
     "status": "completed"
    },
    "tags": []
   },
   "source": [
    "Sources: \n",
    "Stemming and lemmatisation readings:\n",
    "https://nlp.stanford.edu/IR-book/html/htmledition/stemming-and-lemmatization-1.html\n",
    "https://www.analyticsvidhya.com/blog/2022/06/stemming-vs-lemmatization-in-nlp-must-know-differences/#h2_4\n",
    "https://databasecamp.de/en/data/stemming-lemmatization\n",
    "\n",
    "\n",
    "Stemmer: \n",
    "https://github.com/kpech21/Greek-Stemmer\n",
    "\n",
    "Spacy POS tags list:\n",
    "https://machinelearningknowledge.ai/tutorial-on-spacy-part-of-speech-pos-tagging/\n",
    "\n",
    "Cross-Validation:\n",
    "https://scikit-learn.org/stable/modules/cross_validation.html\n",
    "\n",
    "Logistic Regression\n",
    "https://scikit-learn.org/stable/modules/generated/sklearn.linear_model.LogisticRegression.html\n",
    "https://www.educative.io/answers/what-is-the-difference-between-micro-and-macro-averaging\n",
    "\n",
    "Scaling? \n",
    "https://datascience.stackexchange.com/questions/33730/should-i-rescale-tfidf-features\n",
    "\n",
    "Plots:\n",
    "https://scikit-learn.org/stable/auto_examples/model_selection/plot_learning_curve.html#sphx-glr-auto-examples-model-selection-plot-learning-curve-py\n",
    "\n",
    "f1_score:\n",
    "https://towardsdatascience.com/a-look-at-precision-recall-and-f1-score-36b5fd0dd3ec\n"
   ]
  }
 ],
 "metadata": {
  "kaggle": {
   "accelerator": "gpu",
   "dataSources": [
    {
     "databundleVersionId": 6886092,
     "sourceId": 62857,
     "sourceType": "competition"
    },
    {
     "datasetId": 3983780,
     "sourceId": 6937181,
     "sourceType": "datasetVersion"
    },
    {
     "datasetId": 4017322,
     "sourceId": 6989634,
     "sourceType": "datasetVersion"
    }
   ],
   "dockerImageVersionId": 30558,
   "isGpuEnabled": true,
   "isInternetEnabled": true,
   "language": "python",
   "sourceType": "notebook"
  },
  "kernelspec": {
   "display_name": "Python 3",
   "language": "python",
   "name": "python3"
  },
  "language_info": {
   "codemirror_mode": {
    "name": "ipython",
    "version": 3
   },
   "file_extension": ".py",
   "mimetype": "text/x-python",
   "name": "python",
   "nbconvert_exporter": "python",
   "pygments_lexer": "ipython3",
   "version": "3.10.12"
  },
  "papermill": {
   "default_parameters": {},
   "duration": 4425.036364,
   "end_time": "2023-11-21T21:08:52.524681",
   "environment_variables": {},
   "exception": null,
   "input_path": "__notebook__.ipynb",
   "output_path": "__notebook__.ipynb",
   "parameters": {},
   "start_time": "2023-11-21T19:55:07.488317",
   "version": "2.4.0"
  }
 },
 "nbformat": 4,
 "nbformat_minor": 5
}
