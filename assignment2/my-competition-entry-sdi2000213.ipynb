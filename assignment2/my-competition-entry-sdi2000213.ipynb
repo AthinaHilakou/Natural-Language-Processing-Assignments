{
 "cells": [
  {
   "cell_type": "code",
   "execution_count": 1,
   "id": "41a58323",
   "metadata": {
    "_cell_guid": "b1076dfc-b9ad-4769-8c92-a6c4dae69d19",
    "_uuid": "8f2839f25d086af736a60e9eeb907d3b93b6e0e5",
    "execution": {
     "iopub.execute_input": "2023-12-21T21:11:56.476244Z",
     "iopub.status.busy": "2023-12-21T21:11:56.474384Z",
     "iopub.status.idle": "2023-12-21T21:13:02.034853Z",
     "shell.execute_reply": "2023-12-21T21:13:02.033230Z"
    },
    "papermill": {
     "duration": 65.573534,
     "end_time": "2023-12-21T21:13:02.038365",
     "exception": false,
     "start_time": "2023-12-21T21:11:56.464831",
     "status": "completed"
    },
    "tags": []
   },
   "outputs": [
    {
     "name": "stdout",
     "output_type": "stream",
     "text": [
      "Collecting el-core-news-lg==3.7.0\r\n",
      "  Downloading https://github.com/explosion/spacy-models/releases/download/el_core_news_lg-3.7.0/el_core_news_lg-3.7.0-py3-none-any.whl (568.6 MB)\r\n",
      "\u001b[2K     \u001b[90m━━━━━━━━━━━━━━━━━━━━━━━━━━━━━━━━━━━━━━━\u001b[0m \u001b[32m568.6/568.6 MB\u001b[0m \u001b[31m2.5 MB/s\u001b[0m eta \u001b[36m0:00:00\u001b[0m\r\n",
      "\u001b[?25hRequirement already satisfied: spacy<3.8.0,>=3.7.0 in /opt/conda/lib/python3.10/site-packages (from el-core-news-lg==3.7.0) (3.7.2)\r\n",
      "Requirement already satisfied: spacy-legacy<3.1.0,>=3.0.11 in /opt/conda/lib/python3.10/site-packages (from spacy<3.8.0,>=3.7.0->el-core-news-lg==3.7.0) (3.0.12)\r\n",
      "Requirement already satisfied: spacy-loggers<2.0.0,>=1.0.0 in /opt/conda/lib/python3.10/site-packages (from spacy<3.8.0,>=3.7.0->el-core-news-lg==3.7.0) (1.0.5)\r\n",
      "Requirement already satisfied: murmurhash<1.1.0,>=0.28.0 in /opt/conda/lib/python3.10/site-packages (from spacy<3.8.0,>=3.7.0->el-core-news-lg==3.7.0) (1.0.10)\r\n",
      "Requirement already satisfied: cymem<2.1.0,>=2.0.2 in /opt/conda/lib/python3.10/site-packages (from spacy<3.8.0,>=3.7.0->el-core-news-lg==3.7.0) (2.0.8)\r\n",
      "Requirement already satisfied: preshed<3.1.0,>=3.0.2 in /opt/conda/lib/python3.10/site-packages (from spacy<3.8.0,>=3.7.0->el-core-news-lg==3.7.0) (3.0.9)\r\n",
      "Requirement already satisfied: thinc<8.3.0,>=8.1.8 in /opt/conda/lib/python3.10/site-packages (from spacy<3.8.0,>=3.7.0->el-core-news-lg==3.7.0) (8.2.1)\r\n",
      "Requirement already satisfied: wasabi<1.2.0,>=0.9.1 in /opt/conda/lib/python3.10/site-packages (from spacy<3.8.0,>=3.7.0->el-core-news-lg==3.7.0) (1.1.2)\r\n",
      "Requirement already satisfied: srsly<3.0.0,>=2.4.3 in /opt/conda/lib/python3.10/site-packages (from spacy<3.8.0,>=3.7.0->el-core-news-lg==3.7.0) (2.4.8)\r\n",
      "Requirement already satisfied: catalogue<2.1.0,>=2.0.6 in /opt/conda/lib/python3.10/site-packages (from spacy<3.8.0,>=3.7.0->el-core-news-lg==3.7.0) (2.0.10)\r\n",
      "Requirement already satisfied: weasel<0.4.0,>=0.1.0 in /opt/conda/lib/python3.10/site-packages (from spacy<3.8.0,>=3.7.0->el-core-news-lg==3.7.0) (0.3.4)\r\n",
      "Requirement already satisfied: typer<0.10.0,>=0.3.0 in /opt/conda/lib/python3.10/site-packages (from spacy<3.8.0,>=3.7.0->el-core-news-lg==3.7.0) (0.9.0)\r\n",
      "Requirement already satisfied: smart-open<7.0.0,>=5.2.1 in /opt/conda/lib/python3.10/site-packages (from spacy<3.8.0,>=3.7.0->el-core-news-lg==3.7.0) (6.3.0)\r\n",
      "Requirement already satisfied: tqdm<5.0.0,>=4.38.0 in /opt/conda/lib/python3.10/site-packages (from spacy<3.8.0,>=3.7.0->el-core-news-lg==3.7.0) (4.66.1)\r\n",
      "Requirement already satisfied: requests<3.0.0,>=2.13.0 in /opt/conda/lib/python3.10/site-packages (from spacy<3.8.0,>=3.7.0->el-core-news-lg==3.7.0) (2.31.0)\r\n",
      "Requirement already satisfied: pydantic!=1.8,!=1.8.1,<3.0.0,>=1.7.4 in /opt/conda/lib/python3.10/site-packages (from spacy<3.8.0,>=3.7.0->el-core-news-lg==3.7.0) (1.10.12)\r\n",
      "Requirement already satisfied: jinja2 in /opt/conda/lib/python3.10/site-packages (from spacy<3.8.0,>=3.7.0->el-core-news-lg==3.7.0) (3.1.2)\r\n",
      "Requirement already satisfied: setuptools in /opt/conda/lib/python3.10/site-packages (from spacy<3.8.0,>=3.7.0->el-core-news-lg==3.7.0) (68.1.2)\r\n",
      "Requirement already satisfied: packaging>=20.0 in /opt/conda/lib/python3.10/site-packages (from spacy<3.8.0,>=3.7.0->el-core-news-lg==3.7.0) (21.3)\r\n",
      "Requirement already satisfied: langcodes<4.0.0,>=3.2.0 in /opt/conda/lib/python3.10/site-packages (from spacy<3.8.0,>=3.7.0->el-core-news-lg==3.7.0) (3.3.0)\r\n",
      "Requirement already satisfied: numpy>=1.19.0 in /opt/conda/lib/python3.10/site-packages (from spacy<3.8.0,>=3.7.0->el-core-news-lg==3.7.0) (1.24.3)\r\n",
      "Requirement already satisfied: pyparsing!=3.0.5,>=2.0.2 in /opt/conda/lib/python3.10/site-packages (from packaging>=20.0->spacy<3.8.0,>=3.7.0->el-core-news-lg==3.7.0) (3.0.9)\r\n",
      "Requirement already satisfied: typing-extensions>=4.2.0 in /opt/conda/lib/python3.10/site-packages (from pydantic!=1.8,!=1.8.1,<3.0.0,>=1.7.4->spacy<3.8.0,>=3.7.0->el-core-news-lg==3.7.0) (4.5.0)\r\n",
      "Requirement already satisfied: charset-normalizer<4,>=2 in /opt/conda/lib/python3.10/site-packages (from requests<3.0.0,>=2.13.0->spacy<3.8.0,>=3.7.0->el-core-news-lg==3.7.0) (3.2.0)\r\n",
      "Requirement already satisfied: idna<4,>=2.5 in /opt/conda/lib/python3.10/site-packages (from requests<3.0.0,>=2.13.0->spacy<3.8.0,>=3.7.0->el-core-news-lg==3.7.0) (3.4)\r\n",
      "Requirement already satisfied: urllib3<3,>=1.21.1 in /opt/conda/lib/python3.10/site-packages (from requests<3.0.0,>=2.13.0->spacy<3.8.0,>=3.7.0->el-core-news-lg==3.7.0) (1.26.15)\r\n",
      "Requirement already satisfied: certifi>=2017.4.17 in /opt/conda/lib/python3.10/site-packages (from requests<3.0.0,>=2.13.0->spacy<3.8.0,>=3.7.0->el-core-news-lg==3.7.0) (2023.11.17)\r\n",
      "Requirement already satisfied: blis<0.8.0,>=0.7.8 in /opt/conda/lib/python3.10/site-packages (from thinc<8.3.0,>=8.1.8->spacy<3.8.0,>=3.7.0->el-core-news-lg==3.7.0) (0.7.11)\r\n",
      "Requirement already satisfied: confection<1.0.0,>=0.0.1 in /opt/conda/lib/python3.10/site-packages (from thinc<8.3.0,>=8.1.8->spacy<3.8.0,>=3.7.0->el-core-news-lg==3.7.0) (0.1.4)\r\n",
      "Requirement already satisfied: click<9.0.0,>=7.1.1 in /opt/conda/lib/python3.10/site-packages (from typer<0.10.0,>=0.3.0->spacy<3.8.0,>=3.7.0->el-core-news-lg==3.7.0) (8.1.7)\r\n",
      "Requirement already satisfied: cloudpathlib<0.17.0,>=0.7.0 in /opt/conda/lib/python3.10/site-packages (from weasel<0.4.0,>=0.1.0->spacy<3.8.0,>=3.7.0->el-core-news-lg==3.7.0) (0.16.0)\r\n",
      "Requirement already satisfied: MarkupSafe>=2.0 in /opt/conda/lib/python3.10/site-packages (from jinja2->spacy<3.8.0,>=3.7.0->el-core-news-lg==3.7.0) (2.1.3)\r\n",
      "Installing collected packages: el-core-news-lg\r\n",
      "Successfully installed el-core-news-lg-3.7.0\r\n",
      "\u001b[38;5;2m✔ Download and installation successful\u001b[0m\r\n",
      "You can now load the package via spacy.load('el_core_news_lg')\r\n",
      "[nltk_data] Downloading package punkt to /usr/share/nltk_data...\n",
      "[nltk_data]   Package punkt is already up-to-date!\n",
      "Collecting greek-stemmer-pos\r\n",
      "  Downloading greek_stemmer_pos-1.1.2-py3-none-any.whl (19 kB)\r\n",
      "Requirement already satisfied: pytest in /opt/conda/lib/python3.10/site-packages (from greek-stemmer-pos) (7.4.3)\r\n",
      "Collecting pytest-cov (from greek-stemmer-pos)\r\n",
      "  Obtaining dependency information for pytest-cov from https://files.pythonhosted.org/packages/a7/4b/8b78d126e275efa2379b1c2e09dc52cf70df16fc3b90613ef82531499d73/pytest_cov-4.1.0-py3-none-any.whl.metadata\r\n",
      "  Downloading pytest_cov-4.1.0-py3-none-any.whl.metadata (26 kB)\r\n",
      "Requirement already satisfied: iniconfig in /opt/conda/lib/python3.10/site-packages (from pytest->greek-stemmer-pos) (2.0.0)\r\n",
      "Requirement already satisfied: packaging in /opt/conda/lib/python3.10/site-packages (from pytest->greek-stemmer-pos) (21.3)\r\n",
      "Requirement already satisfied: pluggy<2.0,>=0.12 in /opt/conda/lib/python3.10/site-packages (from pytest->greek-stemmer-pos) (1.2.0)\r\n",
      "Requirement already satisfied: exceptiongroup>=1.0.0rc8 in /opt/conda/lib/python3.10/site-packages (from pytest->greek-stemmer-pos) (1.1.3)\r\n",
      "Requirement already satisfied: tomli>=1.0.0 in /opt/conda/lib/python3.10/site-packages (from pytest->greek-stemmer-pos) (2.0.1)\r\n",
      "Collecting coverage[toml]>=5.2.1 (from pytest-cov->greek-stemmer-pos)\r\n",
      "  Obtaining dependency information for coverage[toml]>=5.2.1 from https://files.pythonhosted.org/packages/94/1b/bd597a07755b233822760c9998d603218ca4b3151b6d5048e9fd0a5bf572/coverage-7.3.4-cp310-cp310-manylinux_2_5_x86_64.manylinux1_x86_64.manylinux_2_17_x86_64.manylinux2014_x86_64.whl.metadata\r\n",
      "  Downloading coverage-7.3.4-cp310-cp310-manylinux_2_5_x86_64.manylinux1_x86_64.manylinux_2_17_x86_64.manylinux2014_x86_64.whl.metadata (8.1 kB)\r\n",
      "Requirement already satisfied: pyparsing!=3.0.5,>=2.0.2 in /opt/conda/lib/python3.10/site-packages (from packaging->pytest->greek-stemmer-pos) (3.0.9)\r\n",
      "Downloading pytest_cov-4.1.0-py3-none-any.whl (21 kB)\r\n",
      "Downloading coverage-7.3.4-cp310-cp310-manylinux_2_5_x86_64.manylinux1_x86_64.manylinux_2_17_x86_64.manylinux2014_x86_64.whl (228 kB)\r\n",
      "\u001b[2K   \u001b[90m━━━━━━━━━━━━━━━━━━━━━━━━━━━━━━━━━━━━━━━━\u001b[0m \u001b[32m228.4/228.4 kB\u001b[0m \u001b[31m7.9 MB/s\u001b[0m eta \u001b[36m0:00:00\u001b[0m\r\n",
      "\u001b[?25hInstalling collected packages: coverage, pytest-cov, greek-stemmer-pos\r\n",
      "Successfully installed coverage-7.3.4 greek-stemmer-pos-1.1.2 pytest-cov-4.1.0\r\n"
     ]
    }
   ],
   "source": [
    "import numpy as np # linear algebra\n",
    "import pandas as pd # data processing, CSV file I/O (e.g. pd.read_csv)\n",
    "import re\n",
    "# !pip install -q wordcloud\n",
    "import wordcloud\n",
    "#Same as in assignment1, for preprocessing of text\n",
    "!python -m spacy download el_core_news_lg\n",
    "import spacy as sp#tokeniser, parser tagger for greek language\n",
    "import unicodedata #character properties for all Unicode characters\n",
    "import nltk\n",
    "from nltk.corpus import stopwords\n",
    "from nltk.tokenize import word_tokenize\n",
    "nltk.download('punkt')\n",
    "!pip install greek-stemmer-pos\n",
    "from greek_stemmer import stemmer\n",
    "#-------------------------------------------------------------------------------------------\n",
    "import torch\n",
    "import torch.nn as nn #Base class for all neural network modules.\n",
    "import torch.nn.functional as F\n",
    "import torch.optim as optim\n",
    "from torch.utils.data import DataLoader\n",
    "from torchvision import datasets \n",
    "from gensim.models import Word2Vec\n",
    "from sklearn.metrics import f1_score as skf1\n",
    "from torchmetrics.functional import f1_score\n",
    "#-------------------------------------------------------------------------------------------\n",
    "from sklearn.model_selection import train_test_split\n",
    "from matplotlib import pyplot as plt\n",
    "from IPython.core.display import Path\n",
    "import random\n",
    "import os\n",
    "os.environ['PYTHONHASHSEED'] = str(69)"
   ]
  },
  {
   "cell_type": "markdown",
   "id": "1523f91e",
   "metadata": {
    "papermill": {
     "duration": 0.016823,
     "end_time": "2023-12-21T21:13:02.073024",
     "exception": false,
     "start_time": "2023-12-21T21:13:02.056201",
     "status": "completed"
    },
    "tags": []
   },
   "source": [
    "Reinitialize seed for random functions\n"
   ]
  },
  {
   "cell_type": "code",
   "execution_count": 2,
   "id": "4891c579",
   "metadata": {
    "execution": {
     "iopub.execute_input": "2023-12-21T21:13:02.110279Z",
     "iopub.status.busy": "2023-12-21T21:13:02.109461Z",
     "iopub.status.idle": "2023-12-21T21:13:02.116139Z",
     "shell.execute_reply": "2023-12-21T21:13:02.114520Z"
    },
    "papermill": {
     "duration": 0.028582,
     "end_time": "2023-12-21T21:13:02.118929",
     "exception": false,
     "start_time": "2023-12-21T21:13:02.090347",
     "status": "completed"
    },
    "tags": []
   },
   "outputs": [],
   "source": [
    "#Reinitialize seed for random functions\n",
    "\n",
    "def randreset(s):  #making sure each run will yield consistent results\n",
    "    random.seed(s)\n",
    "    np.random.seed(s)\n",
    "    torch.manual_seed(s)\n",
    "    torch.backends.cudnn.deterministic = True\n",
    "    torch.backends.cudnn.benchmark = False\n",
    "    torch.cuda.manual_seed_all(s)\n",
    "\n"
   ]
  },
  {
   "cell_type": "markdown",
   "id": "c270766b",
   "metadata": {
    "papermill": {
     "duration": 0.016693,
     "end_time": "2023-12-21T21:13:02.153562",
     "exception": false,
     "start_time": "2023-12-21T21:13:02.136869",
     "status": "completed"
    },
    "tags": []
   },
   "source": [
    "Load comptetion files"
   ]
  },
  {
   "cell_type": "code",
   "execution_count": 3,
   "id": "6d1a2b0b",
   "metadata": {
    "execution": {
     "iopub.execute_input": "2023-12-21T21:13:02.190331Z",
     "iopub.status.busy": "2023-12-21T21:13:02.189900Z",
     "iopub.status.idle": "2023-12-21T21:13:02.710377Z",
     "shell.execute_reply": "2023-12-21T21:13:02.709580Z"
    },
    "papermill": {
     "duration": 0.541192,
     "end_time": "2023-12-21T21:13:02.712445",
     "exception": false,
     "start_time": "2023-12-21T21:13:02.171253",
     "status": "completed"
    },
    "tags": []
   },
   "outputs": [
    {
     "name": "stdout",
     "output_type": "stream",
     "text": [
      "Sentiment\n",
      "NEUTRAL     12210\n",
      "NEGATIVE    12210\n",
      "POSITIVE    12210\n",
      "Name: count, dtype: int64\n"
     ]
    }
   ],
   "source": [
    "#hello there my name is jimmy#jsonpath1 = 'lem.json'\n",
    "jsonpath2 = 'stem.json'\n",
    "#jsonpath1 = '/kaggle/input/json-files/lem.json'\n",
    "#jsonpath2 = '/kaggle/input/json-files/stem.json'\n",
    "path = '/kaggle/input/ys19-2023-assignment-2/test_set.csv'\n",
    "test_set = pd.read_csv(path) \n",
    "path = '/kaggle/input/ys19-2023-assignment-2/valid_set.csv'\n",
    "valid_set = pd.read_csv(path) #4 columns id, text, sentiment, party\n",
    "path = '/kaggle/input/ys19-2023-assignment-2/train_set.csv'\n",
    "train_set = pd.read_csv(path)\n",
    "#Making sure dataset is balanced\n",
    "counts = train_set['Sentiment'].value_counts()\n",
    "print(counts)\n"
   ]
  },
  {
   "cell_type": "markdown",
   "id": "cbd9f949",
   "metadata": {
    "papermill": {
     "duration": 0.016918,
     "end_time": "2023-12-21T21:13:02.751352",
     "exception": false,
     "start_time": "2023-12-21T21:13:02.734434",
     "status": "completed"
    },
    "tags": []
   },
   "source": [
    "Data pre-processing functions + concatenation of train and valid sets.\n",
    "We will split them later for training"
   ]
  },
  {
   "cell_type": "code",
   "execution_count": 4,
   "id": "c1f250fd",
   "metadata": {
    "execution": {
     "iopub.execute_input": "2023-12-21T21:13:02.792724Z",
     "iopub.status.busy": "2023-12-21T21:13:02.792303Z",
     "iopub.status.idle": "2023-12-21T21:13:05.178790Z",
     "shell.execute_reply": "2023-12-21T21:13:05.177982Z"
    },
    "papermill": {
     "duration": 2.408462,
     "end_time": "2023-12-21T21:13:05.180981",
     "exception": false,
     "start_time": "2023-12-21T21:13:02.772519",
     "status": "completed"
    },
    "tags": []
   },
   "outputs": [
    {
     "data": {
      "text/html": [
       "<div>\n",
       "<style scoped>\n",
       "    .dataframe tbody tr th:only-of-type {\n",
       "        vertical-align: middle;\n",
       "    }\n",
       "\n",
       "    .dataframe tbody tr th {\n",
       "        vertical-align: top;\n",
       "    }\n",
       "\n",
       "    .dataframe thead th {\n",
       "        text-align: right;\n",
       "    }\n",
       "</style>\n",
       "<table border=\"1\" class=\"dataframe\">\n",
       "  <thead>\n",
       "    <tr style=\"text-align: right;\">\n",
       "      <th></th>\n",
       "      <th>New_ID</th>\n",
       "      <th>Text</th>\n",
       "      <th>Sentiment</th>\n",
       "      <th>Party</th>\n",
       "    </tr>\n",
       "  </thead>\n",
       "  <tbody>\n",
       "    <tr>\n",
       "      <th>0</th>\n",
       "      <td>35027</td>\n",
       "      <td>#απολυμανση_κοριοι #απεντομωση_κοριος #απολυμα...</td>\n",
       "      <td>NEUTRAL</td>\n",
       "      <td>SYRIZA</td>\n",
       "    </tr>\n",
       "    <tr>\n",
       "      <th>1</th>\n",
       "      <td>9531</td>\n",
       "      <td>Έξι νέες επιστολές για τη Μακεδονία «καίνε» τη...</td>\n",
       "      <td>NEGATIVE</td>\n",
       "      <td>ND</td>\n",
       "    </tr>\n",
       "    <tr>\n",
       "      <th>2</th>\n",
       "      <td>14146</td>\n",
       "      <td>Ισχυρό ΚΚΕ, δύναμη του λαού στη Βουλή και στου...</td>\n",
       "      <td>POSITIVE</td>\n",
       "      <td>KKE</td>\n",
       "    </tr>\n",
       "    <tr>\n",
       "      <th>3</th>\n",
       "      <td>28716</td>\n",
       "      <td>@five2nds @anthi7vas Μνημονιακότατο το #ΜεΡΑ25...</td>\n",
       "      <td>NEUTRAL</td>\n",
       "      <td>KKE</td>\n",
       "    </tr>\n",
       "    <tr>\n",
       "      <th>4</th>\n",
       "      <td>32886</td>\n",
       "      <td>@ai_katerina Αυτό που είναι συγκλονιστικό είνα...</td>\n",
       "      <td>NEUTRAL</td>\n",
       "      <td>SYRIZA</td>\n",
       "    </tr>\n",
       "  </tbody>\n",
       "</table>\n",
       "</div>"
      ],
      "text/plain": [
       "   New_ID                                               Text Sentiment   Party\n",
       "0   35027  #απολυμανση_κοριοι #απεντομωση_κοριος #απολυμα...   NEUTRAL  SYRIZA\n",
       "1    9531  Έξι νέες επιστολές για τη Μακεδονία «καίνε» τη...  NEGATIVE      ND\n",
       "2   14146  Ισχυρό ΚΚΕ, δύναμη του λαού στη Βουλή και στου...  POSITIVE     KKE\n",
       "3   28716  @five2nds @anthi7vas Μνημονιακότατο το #ΜεΡΑ25...   NEUTRAL     KKE\n",
       "4   32886  @ai_katerina Αυτό που είναι συγκλονιστικό είνα...   NEUTRAL  SYRIZA"
      ]
     },
     "execution_count": 4,
     "metadata": {},
     "output_type": "execute_result"
    }
   ],
   "source": [
    "#Data Pre-Processing, same as in assignment1 \n",
    "nlp = sp.load(\"el_core_news_lg\")\n",
    "\n",
    "#Load stop words\n",
    "def stopwords_list():\n",
    "    with open('/kaggle/input/greek-stop-words/Greek-Stopwords.txt') as f:\n",
    "        # return the split results, which is all the words in the file.\n",
    "        return f.read().split()\n",
    "    \n",
    "#Remove Stop Words Function\n",
    "def rem_stopwords(text):\n",
    "    stop_words = stopwords_list()\n",
    "    for word in stop_words: \n",
    "         word = word.replace('\\n', '')\n",
    "    tokens = text.split()\n",
    "    filtered_tokens = [token for token in tokens if token not in stop_words]\n",
    "    return ' '.join(filtered_tokens)\n",
    "\n",
    "\n",
    "\n",
    "#Lemmatisation\n",
    "def lemmatisation(text):\n",
    "    doc = nlp(text)\n",
    "    ret = []\n",
    "    for token in doc:\n",
    "        ret.append(token.lemma_)\n",
    "    return ' '.join(ret)\n",
    "\n",
    "\n",
    "#Stemming\n",
    "#transform spacy tagging to ellogon to apply greek stemmer\n",
    "spacytoellogon = {\n",
    "    \"ADJ\": \"JJM\",\n",
    "    \"ADP\": \"INP\",\n",
    "    \"ADV\": \"RB\",\n",
    "    \"AUX\": \"VB\", #auxiliaries are verbs in greek\n",
    "    \"CONJ\": \"NNPSN\",\n",
    "    \"CCONJ\": \"NNPSN\",\n",
    "    \"DET\": \"DDT\", #and IDT\n",
    "    \"INTJ\": \"NNPSN\",\n",
    "    \"NOUN\": \"NNM\",\n",
    "    \"NUM\": \"NNPSN\",\n",
    "    \"PART\": \"NNPSN\", #recognise ΄δεν' as an uncountable nouns\n",
    "    \"PRON\": \"PRP\",\n",
    "    \"PROPN\": \"NNPSN\", #recognise names as uncountable nouns\n",
    "    \"PUNCT\": \"SPACE\",\n",
    "    \"SCONJ\": \"NNPSN\",\n",
    "    \"SYM\": \"SPACE\",\n",
    "    \"VERB\": \"VB\",\n",
    "    \"X\": \"NNPSN\",\n",
    "    \"SPACE\": \"SPACE\" #we will ignore this in stemming \n",
    "    \n",
    "}\n",
    "\n",
    "\n",
    "\n",
    "def stemming(text):\n",
    "    ret = []\n",
    "    doc = nlp(text)\n",
    "    for token in doc:\n",
    "        if str(spacytoellogon[token.tag_]) == \"SPACE\":\n",
    "            ret.append(' ')\n",
    "        else:\n",
    "            ret.append(stemmer.stem_word(str(token),str(spacytoellogon[token.tag_])))\n",
    "    textlower = ' '.join(ret)\n",
    "    textlower = textlower.lower()\n",
    "    return textlower\n",
    "\n",
    "\n",
    "#Concatenate sets\n",
    "frames = [train_set, valid_set]\n",
    "complete_train_set = pd.concat(frames).drop_duplicates().reset_index(drop=True)\n",
    "complete_train_set.head(5)"
   ]
  },
  {
   "cell_type": "markdown",
   "id": "0bec4d1c",
   "metadata": {
    "papermill": {
     "duration": 0.017642,
     "end_time": "2023-12-21T21:13:05.216119",
     "exception": false,
     "start_time": "2023-12-21T21:13:05.198477",
     "status": "completed"
    },
    "tags": []
   },
   "source": [
    "Data pre-processing, leave only greek words, no punctuation"
   ]
  },
  {
   "cell_type": "code",
   "execution_count": 5,
   "id": "d995097e",
   "metadata": {
    "execution": {
     "iopub.execute_input": "2023-12-21T21:13:05.254144Z",
     "iopub.status.busy": "2023-12-21T21:13:05.253788Z",
     "iopub.status.idle": "2023-12-21T21:14:01.574343Z",
     "shell.execute_reply": "2023-12-21T21:14:01.573233Z"
    },
    "papermill": {
     "duration": 56.357911,
     "end_time": "2023-12-21T21:14:01.592196",
     "exception": false,
     "start_time": "2023-12-21T21:13:05.234285",
     "status": "completed"
    },
    "tags": []
   },
   "outputs": [
    {
     "name": "stdout",
     "output_type": "stream",
     "text": [
      "Done\n"
     ]
    }
   ],
   "source": [
    "#Clean training data\n",
    "complete_train_set['Text'] = complete_train_set['Text'].apply(lambda r: re.sub(r'\\'', '', r))   #removing apostrophes\n",
    "complete_train_set['Text'] = [r.lower() for r in complete_train_set['Text'] ]   #making everything lowercase\n",
    "complete_train_set['Text'] = [''.join([c for c in unicodedata.normalize('NFD', r) if not unicodedata.combining(c)]) for r in complete_train_set['Text']] #removing accents\n",
    "complete_train_set['Text'] = complete_train_set['Text'].apply(lambda r: re.sub(r'@\\w+', '', r)) #remove mentions\n",
    "complete_train_set['Text'] = complete_train_set['Text'].apply(lambda r: re.sub(r'([^α-ωΑ-Ω\\s-])', ' ', r)) #only keeping greek letters, URLs are also removed this way\n",
    "complete_train_set['Text'] = complete_train_set['Text'].apply(lambda r: re.sub('-', '',r)) #remove - character\n",
    "complete_train_set['Text'] = complete_train_set['Text'].apply(rem_stopwords) #remove stopwords\n",
    "print(\"Done\")"
   ]
  },
  {
   "cell_type": "code",
   "execution_count": 6,
   "id": "27d9b886",
   "metadata": {
    "execution": {
     "iopub.execute_input": "2023-12-21T21:14:01.693140Z",
     "iopub.status.busy": "2023-12-21T21:14:01.692745Z",
     "iopub.status.idle": "2023-12-21T21:14:01.703139Z",
     "shell.execute_reply": "2023-12-21T21:14:01.701856Z"
    },
    "papermill": {
     "duration": 0.094699,
     "end_time": "2023-12-21T21:14:01.704966",
     "exception": false,
     "start_time": "2023-12-21T21:14:01.610267",
     "status": "completed"
    },
    "tags": []
   },
   "outputs": [
    {
     "data": {
      "text/html": [
       "<div>\n",
       "<style scoped>\n",
       "    .dataframe tbody tr th:only-of-type {\n",
       "        vertical-align: middle;\n",
       "    }\n",
       "\n",
       "    .dataframe tbody tr th {\n",
       "        vertical-align: top;\n",
       "    }\n",
       "\n",
       "    .dataframe thead th {\n",
       "        text-align: right;\n",
       "    }\n",
       "</style>\n",
       "<table border=\"1\" class=\"dataframe\">\n",
       "  <thead>\n",
       "    <tr style=\"text-align: right;\">\n",
       "      <th></th>\n",
       "      <th>New_ID</th>\n",
       "      <th>Text</th>\n",
       "      <th>Sentiment</th>\n",
       "      <th>Party</th>\n",
       "    </tr>\n",
       "  </thead>\n",
       "  <tbody>\n",
       "    <tr>\n",
       "      <th>0</th>\n",
       "      <td>35027</td>\n",
       "      <td>απολυμανση κοριοι απεντομωση κοριος απολυμανσε...</td>\n",
       "      <td>NEUTRAL</td>\n",
       "      <td>SYRIZA</td>\n",
       "    </tr>\n",
       "    <tr>\n",
       "      <th>1</th>\n",
       "      <td>9531</td>\n",
       "      <td>εξι νεες επιστολες μακεδονια καινε νδ μητσοτακ...</td>\n",
       "      <td>NEGATIVE</td>\n",
       "      <td>ND</td>\n",
       "    </tr>\n",
       "    <tr>\n",
       "      <th>2</th>\n",
       "      <td>14146</td>\n",
       "      <td>ισχυρο κκε δυναμη λαου βουλη καθημερινους αγωνες</td>\n",
       "      <td>POSITIVE</td>\n",
       "      <td>KKE</td>\n",
       "    </tr>\n",
       "    <tr>\n",
       "      <th>3</th>\n",
       "      <td>28716</td>\n",
       "      <td>μνημονιακοτατο μερα εκλογες κκε</td>\n",
       "      <td>NEUTRAL</td>\n",
       "      <td>KKE</td>\n",
       "    </tr>\n",
       "    <tr>\n",
       "      <th>4</th>\n",
       "      <td>32886</td>\n",
       "      <td>συγκλονιστικο ψυχασθενεια τσιπρα</td>\n",
       "      <td>NEUTRAL</td>\n",
       "      <td>SYRIZA</td>\n",
       "    </tr>\n",
       "  </tbody>\n",
       "</table>\n",
       "</div>"
      ],
      "text/plain": [
       "   New_ID                                               Text Sentiment   Party\n",
       "0   35027  απολυμανση κοριοι απεντομωση κοριος απολυμανσε...   NEUTRAL  SYRIZA\n",
       "1    9531  εξι νεες επιστολες μακεδονια καινε νδ μητσοτακ...  NEGATIVE      ND\n",
       "2   14146   ισχυρο κκε δυναμη λαου βουλη καθημερινους αγωνες  POSITIVE     KKE\n",
       "3   28716                    μνημονιακοτατο μερα εκλογες κκε   NEUTRAL     KKE\n",
       "4   32886                   συγκλονιστικο ψυχασθενεια τσιπρα   NEUTRAL  SYRIZA"
      ]
     },
     "execution_count": 6,
     "metadata": {},
     "output_type": "execute_result"
    }
   ],
   "source": [
    "complete_train_set.head(5)"
   ]
  },
  {
   "cell_type": "markdown",
   "id": "5a27e6f3",
   "metadata": {
    "papermill": {
     "duration": 0.01824,
     "end_time": "2023-12-21T21:14:01.741093",
     "exception": false,
     "start_time": "2023-12-21T21:14:01.722853",
     "status": "completed"
    },
    "tags": []
   },
   "source": [
    "Data stemming, to improve vectorization"
   ]
  },
  {
   "cell_type": "code",
   "execution_count": 7,
   "id": "8c6b585f",
   "metadata": {
    "execution": {
     "iopub.execute_input": "2023-12-21T21:14:01.779936Z",
     "iopub.status.busy": "2023-12-21T21:14:01.779525Z",
     "iopub.status.idle": "2023-12-21T21:18:57.051163Z",
     "shell.execute_reply": "2023-12-21T21:18:57.049941Z"
    },
    "papermill": {
     "duration": 295.294083,
     "end_time": "2023-12-21T21:18:57.053718",
     "exception": false,
     "start_time": "2023-12-21T21:14:01.759635",
     "status": "completed"
    },
    "tags": []
   },
   "outputs": [],
   "source": [
    "#Apply stemming on data \n",
    "stemmed = complete_train_set.copy(deep=True)\n",
    "stemmed['Text'] = stemmed['Text'].apply(stemming)\n",
    "stemmed.to_json(jsonpath2) #saving processed data as to not repeat this time consuming step"
   ]
  },
  {
   "cell_type": "markdown",
   "id": "0c3bd585",
   "metadata": {
    "papermill": {
     "duration": 0.017327,
     "end_time": "2023-12-21T21:18:57.089062",
     "exception": false,
     "start_time": "2023-12-21T21:18:57.071735",
     "status": "completed"
    },
    "tags": []
   },
   "source": [
    "Function to create a word2vec model"
   ]
  },
  {
   "cell_type": "code",
   "execution_count": 8,
   "id": "ca4d0a82",
   "metadata": {
    "execution": {
     "iopub.execute_input": "2023-12-21T21:18:57.127454Z",
     "iopub.status.busy": "2023-12-21T21:18:57.127079Z",
     "iopub.status.idle": "2023-12-21T21:18:57.134231Z",
     "shell.execute_reply": "2023-12-21T21:18:57.132671Z"
    },
    "papermill": {
     "duration": 0.029915,
     "end_time": "2023-12-21T21:18:57.136298",
     "exception": false,
     "start_time": "2023-12-21T21:18:57.106383",
     "status": "completed"
    },
    "tags": []
   },
   "outputs": [],
   "source": [
    "#Function to create a word2vec model for our dataset\n",
    "def create_word2vec_model(corpus):\n",
    "    data = []\n",
    "    for (i, tweet) in enumerate(corpus['Text'].values):\n",
    "        tokenized_text = []\n",
    "        for word in word_tokenize(tweet):\n",
    "            tokenized_text.append(word)\n",
    "        data.append(tokenized_text)\n",
    "    model = Word2Vec(data, min_count = 1, vector_size = 100, window = 5, sg = 1) #Create a word2vec model using skip grams\n",
    "    name = \"word2vec.model\"\n",
    "    model.save(name) #Save our model for later\n",
    "    return name\n",
    "#test prints\n",
    "#model_name = create_word2vec_model(train_set['Text'])\n",
    "#model = Word2Vec.load(model_name) \n",
    "#vector = model.wv \n",
    "#print(vector['απολυμανση'])\n",
    "#sims = model.wv.most_similar('απολυμανση', topn=10)  # get other similar words\n",
    "#print(sims)\n"
   ]
  },
  {
   "cell_type": "markdown",
   "id": "6f3bd393",
   "metadata": {
    "papermill": {
     "duration": 0.018271,
     "end_time": "2023-12-21T21:18:57.172852",
     "exception": false,
     "start_time": "2023-12-21T21:18:57.154581",
     "status": "completed"
    },
    "tags": []
   },
   "source": [
    "Transform out data into a list of (X,Y) = (word2vec vector, class) tuples"
   ]
  },
  {
   "cell_type": "code",
   "execution_count": 9,
   "id": "b335b745",
   "metadata": {
    "execution": {
     "iopub.execute_input": "2023-12-21T21:18:57.213723Z",
     "iopub.status.busy": "2023-12-21T21:18:57.213175Z",
     "iopub.status.idle": "2023-12-21T21:21:09.186756Z",
     "shell.execute_reply": "2023-12-21T21:21:09.184509Z"
    },
    "papermill": {
     "duration": 132.011237,
     "end_time": "2023-12-21T21:21:09.204342",
     "exception": false,
     "start_time": "2023-12-21T21:18:57.193105",
     "status": "completed"
    },
    "tags": []
   },
   "outputs": [
    {
     "name": "stdout",
     "output_type": "stream",
     "text": [
      "Done\n"
     ]
    }
   ],
   "source": [
    "#Function to vectorize the data for our model\n",
    "def vectorize(df):\n",
    "    X = []\n",
    "    Y = []\n",
    "    # Sentiments mapped to numbers \n",
    "    df['Sentiment_Num'] = df.Sentiment.map({\n",
    "    'POSITIVE':0,\n",
    "    'NEUTRAL':1,\n",
    "    'NEGATIVE':2\n",
    "    \n",
    "    })\n",
    "    \n",
    "    Sentiments = list(df['Sentiment_Num'])\n",
    "    \n",
    "    model_name = create_word2vec_model(df)\n",
    "    model = Word2Vec.load(model_name) \n",
    "    for (i, tweet) in enumerate(df['Text'].values):\n",
    "        featureVec = np.zeros(100,dtype=\"float32\")\n",
    "        nwords = 0\n",
    "        #Converting Index2Word which is a list to a set for better speed in the execution.\n",
    "        index2word_set = set(model.wv.index_to_key)\n",
    "        for word in word_tokenize(tweet):\n",
    "            if word in index2word_set:\n",
    "                nwords = nwords + 1\n",
    "                featureVec = np.add(featureVec,model.wv[word])\n",
    "        # Dividing the result by number of words to get average\n",
    "        if(nwords > 0):\n",
    "            featureVec = np.divide(featureVec, nwords)\n",
    "        X.append(featureVec) #we keep the mean \n",
    "        Y.append(Sentiments[i])         \n",
    "    return(X,Y)\n",
    "\n",
    "#Loading processed data and vectorization\n",
    "stemmed = pd.read_json(jsonpath2)   \n",
    "(X,Y) = vectorize(stemmed)\n",
    "print(\"Done\")"
   ]
  },
  {
   "cell_type": "markdown",
   "id": "cd0b75d7",
   "metadata": {
    "papermill": {
     "duration": 0.018313,
     "end_time": "2023-12-21T21:21:09.241004",
     "exception": false,
     "start_time": "2023-12-21T21:21:09.222691",
     "status": "completed"
    },
    "tags": []
   },
   "source": [
    "Split data for training and testing, we will not use k-fold cross validation this time.\n",
    "Create dataloader iterables."
   ]
  },
  {
   "cell_type": "code",
   "execution_count": 10,
   "id": "ecc55c9a",
   "metadata": {
    "execution": {
     "iopub.execute_input": "2023-12-21T21:21:09.282276Z",
     "iopub.status.busy": "2023-12-21T21:21:09.281844Z",
     "iopub.status.idle": "2023-12-21T21:21:09.932538Z",
     "shell.execute_reply": "2023-12-21T21:21:09.931171Z"
    },
    "papermill": {
     "duration": 0.674386,
     "end_time": "2023-12-21T21:21:09.934549",
     "exception": false,
     "start_time": "2023-12-21T21:21:09.260163",
     "status": "completed"
    },
    "tags": []
   },
   "outputs": [
    {
     "name": "stdout",
     "output_type": "stream",
     "text": [
      "torch.Size([33489, 100]) torch.Size([33489])\n",
      "torch.Size([4186, 100]) torch.Size([4186])\n",
      "torch.Size([4187, 100]) torch.Size([4187])\n"
     ]
    },
    {
     "name": "stderr",
     "output_type": "stream",
     "text": [
      "/tmp/ipykernel_19/3353417069.py:6: UserWarning: Creating a tensor from a list of numpy.ndarrays is extremely slow. Please consider converting the list to a single numpy.ndarray with numpy.array() before converting to a tensor. (Triggered internally at ../torch/csrc/utils/tensor_new.cpp:245.)\n",
      "  Xt = torch.tensor(Xtrain, dtype=torch.float, device=device)\n"
     ]
    }
   ],
   "source": [
    "device = torch.device('cuda' if torch.cuda.is_available() else 'cpu')\n",
    "randreset(666)\n",
    "Xtrain, X1 , Ytrain, Y1 = train_test_split(X, Y, test_size=0.2, random_state=69)\n",
    "Xval, Xtest , Yval, Ytest = train_test_split(X1, Y1, test_size=0.5, random_state=69)\n",
    "\n",
    "Xt = torch.tensor(Xtrain, dtype=torch.float, device=device)\n",
    "Yt = torch.tensor(Ytrain, device=device)\n",
    "print(Xt.shape, Yt.shape)\n",
    "\n",
    "Xv = torch.tensor(Xval, dtype=torch.float, device=device)\n",
    "Yv = torch.tensor(Yval,device=device)\n",
    "print(Xv.shape, Yv.shape)\n",
    "\n",
    "XT = torch.tensor(Xtest, dtype=torch.float, device=device)\n",
    "YT = torch.tensor(Ytest, device=device)\n",
    "print(XT.shape, YT.shape)\n",
    "\n",
    "TrainDataset = torch.utils.data.TensorDataset(Xt, Yt)\n",
    "TrainDataloader = torch.utils.data.DataLoader(TrainDataset, batch_size=64,shuffle=True)\n",
    "\n",
    "ValidDataset = torch.utils.data.TensorDataset(Xv, Yv)\n",
    "ValidDataloader = torch.utils.data.DataLoader(ValidDataset, batch_size=64, shuffle=True)\n",
    "\n",
    "TestDataset = torch.utils.data.TensorDataset(XT, YT)\n",
    "TestDataloader = torch.utils.data.DataLoader(TestDataset, batch_size=64, shuffle=True)"
   ]
  },
  {
   "cell_type": "markdown",
   "id": "cdcf224f",
   "metadata": {
    "papermill": {
     "duration": 0.018585,
     "end_time": "2023-12-21T21:21:09.971332",
     "exception": false,
     "start_time": "2023-12-21T21:21:09.952747",
     "status": "completed"
    },
    "tags": []
   },
   "source": [
    "Our Neural Network, with 2 hidden layers. Implements batch normalisation, dropout and can be trained and tested with different activation functions. We can also change the size of the hidden layers, for tuning."
   ]
  },
  {
   "cell_type": "code",
   "execution_count": 11,
   "id": "5e7d5744",
   "metadata": {
    "execution": {
     "iopub.execute_input": "2023-12-21T21:21:10.011371Z",
     "iopub.status.busy": "2023-12-21T21:21:10.010528Z",
     "iopub.status.idle": "2023-12-21T21:21:10.019400Z",
     "shell.execute_reply": "2023-12-21T21:21:10.017948Z"
    },
    "papermill": {
     "duration": 0.032926,
     "end_time": "2023-12-21T21:21:10.022501",
     "exception": false,
     "start_time": "2023-12-21T21:21:09.989575",
     "status": "completed"
    },
    "tags": []
   },
   "outputs": [],
   "source": [
    "\n",
    "class NeuralNetwork(nn.Module):\n",
    "    def __init__(self, input_size, hidden_size, num_classes,activation_function,drop=0.0):\n",
    "        super(NeuralNetwork, self).__init__()\n",
    "        #self.layer1 = nn.Linear(input_size, hidden_size)\n",
    "        #self.layer2 = nn.Linear(hidden_size, hidden_size)\n",
    "        #self.layer3 = nn.Linear(hidden_size, num_classes)\n",
    "        #self.dropout = nn.Dropout(drop)\n",
    "        #self.activation_function = activation_function\n",
    "        self.linear_relu_stack = nn.Sequential(\n",
    "          nn.Linear(input_size, hidden_size, device=device),\n",
    "             nn.Dropout(p=drop), activation_function(), nn.BatchNorm1d(hidden_size),\n",
    "          nn.Linear(hidden_size,hidden_size, device=device),\n",
    "             nn.Dropout(p=drop),activation_function(), nn.BatchNorm1d(hidden_size),\n",
    "          nn.Linear(hidden_size,num_classes, device=device)\n",
    "         )\n",
    "        \n",
    "\n",
    "    def forward(self, x):\n",
    "        #x = self.dropout(x)\n",
    "        #x = self.activation_function(self.layer1(x))\n",
    "        #x = self.dropout(x)\n",
    "        #x = self.activation_function(self.layer2(x))\n",
    "        #x = self.layer3(x)\n",
    "        logits = self.linear_relu_stack(x)\n",
    "        return logits"
   ]
  },
  {
   "cell_type": "markdown",
   "id": "76551104",
   "metadata": {
    "papermill": {
     "duration": 0.018542,
     "end_time": "2023-12-21T21:21:10.059800",
     "exception": false,
     "start_time": "2023-12-21T21:21:10.041258",
     "status": "completed"
    },
    "tags": []
   },
   "source": [
    "Training and Testing functions for our neural network. The model is evaluated with loss for training.\n",
    "During testing, we also calculate the f1 score, as it is the parameter we will optimize later."
   ]
  },
  {
   "cell_type": "code",
   "execution_count": 12,
   "id": "75c1df02",
   "metadata": {
    "execution": {
     "iopub.execute_input": "2023-12-21T21:21:10.098115Z",
     "iopub.status.busy": "2023-12-21T21:21:10.097696Z",
     "iopub.status.idle": "2023-12-21T21:21:20.873082Z",
     "shell.execute_reply": "2023-12-21T21:21:20.871744Z"
    },
    "papermill": {
     "duration": 10.797881,
     "end_time": "2023-12-21T21:21:20.876197",
     "exception": false,
     "start_time": "2023-12-21T21:21:10.078316",
     "status": "completed"
    },
    "tags": []
   },
   "outputs": [
    {
     "name": "stdout",
     "output_type": "stream",
     "text": [
      "Collecting torcheval\r\n",
      "  Obtaining dependency information for torcheval from https://files.pythonhosted.org/packages/e4/de/e7abc784b00de9d05999657d29187f1f7a3406ed10ecaf164de06482608f/torcheval-0.0.7-py3-none-any.whl.metadata\r\n",
      "  Downloading torcheval-0.0.7-py3-none-any.whl.metadata (8.6 kB)\r\n",
      "Requirement already satisfied: typing-extensions in /opt/conda/lib/python3.10/site-packages (from torcheval) (4.5.0)\r\n",
      "Downloading torcheval-0.0.7-py3-none-any.whl (179 kB)\r\n",
      "\u001b[2K   \u001b[90m━━━━━━━━━━━━━━━━━━━━━━━━━━━━━━━━━━━━━━━━\u001b[0m \u001b[32m179.2/179.2 kB\u001b[0m \u001b[31m3.5 MB/s\u001b[0m eta \u001b[36m0:00:00\u001b[0m\r\n",
      "\u001b[?25hInstalling collected packages: torcheval\r\n",
      "Successfully installed torcheval-0.0.7\r\n"
     ]
    }
   ],
   "source": [
    "!pip install torcheval\n",
    "from torcheval.metrics.functional import multiclass_f1_score as mul_f1_score\n",
    "\n",
    "#Turn list of lists to single list, helper function we didn't end up using this one\n",
    "#def to_single_list(list_of_lists): \n",
    "    #return [item for row in list_of_lists for item in row]\n",
    "\n",
    "#Training Function for our Network\n",
    "def train(network, data_loader, criterion, optimizer, device):\n",
    "    network.train()\n",
    "    running_loss = 0.0\n",
    "    for data, target in data_loader:\n",
    "        data, target = data.to(device), target.to(device)\n",
    "        optimizer.zero_grad()\n",
    "        output = network(data)\n",
    "        loss = criterion(output, target)\n",
    "        loss.backward()\n",
    "        optimizer.step()\n",
    "\n",
    "        running_loss += loss.item() * data.size(0)\n",
    "    return running_loss / len(data_loader.dataset)\n",
    "\n",
    "#Testing Function for our Network\n",
    "def test(network, data_loader, criterion, device):\n",
    "    network.eval()\n",
    "    correct = 0\n",
    "    total = 0\n",
    "    test_loss = 0.0\n",
    "    f1_scores = []\n",
    "    with torch.no_grad():\n",
    "        for data, target in data_loader:\n",
    "            data, target = data.to(device), target.to(device)\n",
    "            output = network(data)\n",
    "            loss = criterion(output, target)\n",
    "            test_loss += loss.item() * data.size(0)\n",
    "            _, predicted = torch.max(output.data, 1)\n",
    "            total += target.size(0)\n",
    "            correct += (predicted == target).sum().item()\n",
    "            score = mul_f1_score(output, target, num_classes=3, average=\"macro\")\n",
    "            f1_scores.append(score.item())\n",
    "    f1_score = np.average(f1_scores)\n",
    "    return test_loss / len(data_loader.dataset), 100 * correct / total, f1_score"
   ]
  },
  {
   "cell_type": "markdown",
   "id": "c0643a27",
   "metadata": {
    "papermill": {
     "duration": 0.017982,
     "end_time": "2023-12-21T21:21:20.913321",
     "exception": false,
     "start_time": "2023-12-21T21:21:20.895339",
     "status": "completed"
    },
    "tags": []
   },
   "source": [
    "Testing Different Activation Functions to make sure everything works well, and get an initial idea of the accuracy of our model. We noticed that both accuracy and f1 score flactuate with every epoch. We speculate that this might be due to our model getting in and out of local optima."
   ]
  },
  {
   "cell_type": "code",
   "execution_count": 13,
   "id": "4c7eb6a3",
   "metadata": {
    "execution": {
     "iopub.execute_input": "2023-12-21T21:21:20.954724Z",
     "iopub.status.busy": "2023-12-21T21:21:20.954342Z",
     "iopub.status.idle": "2023-12-21T21:22:07.482192Z",
     "shell.execute_reply": "2023-12-21T21:22:07.480736Z"
    },
    "papermill": {
     "duration": 46.551929,
     "end_time": "2023-12-21T21:22:07.484042",
     "exception": false,
     "start_time": "2023-12-21T21:21:20.932113",
     "status": "completed"
    },
    "tags": []
   },
   "outputs": [
    {
     "name": "stdout",
     "output_type": "stream",
     "text": [
      "Training with ReLU activation function...\n",
      "Epoch [1/10], Test Loss: 1.0822, Test Accuracy: 40.04%, Test F1_score: 0.37\n",
      "Epoch [2/10], Test Loss: 1.0813, Test Accuracy: 40.23%, Test F1_score: 0.38\n",
      "Epoch [3/10], Test Loss: 1.0824, Test Accuracy: 39.32%, Test F1_score: 0.37\n",
      "Epoch [4/10], Test Loss: 1.0809, Test Accuracy: 39.32%, Test F1_score: 0.37\n",
      "Epoch [5/10], Test Loss: 1.0818, Test Accuracy: 39.03%, Test F1_score: 0.35\n",
      "Epoch [6/10], Test Loss: 1.0790, Test Accuracy: 39.87%, Test F1_score: 0.37\n",
      "Epoch [7/10], Test Loss: 1.0920, Test Accuracy: 39.68%, Test F1_score: 0.37\n",
      "Epoch [8/10], Test Loss: 1.1201, Test Accuracy: 39.82%, Test F1_score: 0.38\n",
      "Epoch [9/10], Test Loss: 1.1849, Test Accuracy: 39.42%, Test F1_score: 0.35\n",
      "Epoch [10/10], Test Loss: 1.0867, Test Accuracy: 40.75%, Test F1_score: 0.38\n",
      "Training with Sigmoid activation function...\n",
      "Epoch [1/10], Test Loss: 1.0883, Test Accuracy: 37.86%, Test F1_score: 0.36\n",
      "Epoch [2/10], Test Loss: 1.0874, Test Accuracy: 38.82%, Test F1_score: 0.36\n",
      "Epoch [3/10], Test Loss: 1.0857, Test Accuracy: 39.73%, Test F1_score: 0.38\n",
      "Epoch [4/10], Test Loss: 1.0888, Test Accuracy: 39.46%, Test F1_score: 0.38\n",
      "Epoch [5/10], Test Loss: 1.0883, Test Accuracy: 38.84%, Test F1_score: 0.38\n",
      "Epoch [6/10], Test Loss: 1.0849, Test Accuracy: 40.11%, Test F1_score: 0.39\n",
      "Epoch [7/10], Test Loss: 1.0877, Test Accuracy: 39.18%, Test F1_score: 0.37\n",
      "Epoch [8/10], Test Loss: 1.0819, Test Accuracy: 40.01%, Test F1_score: 0.38\n",
      "Epoch [9/10], Test Loss: 1.0832, Test Accuracy: 40.18%, Test F1_score: 0.39\n",
      "Epoch [10/10], Test Loss: 1.0859, Test Accuracy: 40.49%, Test F1_score: 0.39\n",
      "Training with Tanh activation function...\n",
      "Epoch [1/10], Test Loss: 1.1036, Test Accuracy: 37.08%, Test F1_score: 0.35\n",
      "Epoch [2/10], Test Loss: 1.0898, Test Accuracy: 39.63%, Test F1_score: 0.38\n",
      "Epoch [3/10], Test Loss: 1.0882, Test Accuracy: 40.35%, Test F1_score: 0.39\n",
      "Epoch [4/10], Test Loss: 1.0854, Test Accuracy: 39.39%, Test F1_score: 0.37\n",
      "Epoch [5/10], Test Loss: 1.0820, Test Accuracy: 39.61%, Test F1_score: 0.37\n",
      "Epoch [6/10], Test Loss: 1.0814, Test Accuracy: 38.72%, Test F1_score: 0.37\n",
      "Epoch [7/10], Test Loss: 1.0822, Test Accuracy: 38.68%, Test F1_score: 0.38\n",
      "Epoch [8/10], Test Loss: 1.0814, Test Accuracy: 39.80%, Test F1_score: 0.38\n",
      "Epoch [9/10], Test Loss: 1.0800, Test Accuracy: 40.66%, Test F1_score: 0.38\n",
      "Epoch [10/10], Test Loss: 1.0830, Test Accuracy: 39.39%, Test F1_score: 0.37\n",
      "Training with LeakyReLU activation function...\n",
      "Epoch [1/10], Test Loss: 1.0839, Test Accuracy: 38.70%, Test F1_score: 0.37\n",
      "Epoch [2/10], Test Loss: 1.0824, Test Accuracy: 39.56%, Test F1_score: 0.37\n",
      "Epoch [3/10], Test Loss: 1.0792, Test Accuracy: 39.35%, Test F1_score: 0.35\n",
      "Epoch [4/10], Test Loss: 1.0796, Test Accuracy: 39.42%, Test F1_score: 0.34\n",
      "Epoch [5/10], Test Loss: 1.0792, Test Accuracy: 39.42%, Test F1_score: 0.36\n",
      "Epoch [6/10], Test Loss: 1.0851, Test Accuracy: 39.61%, Test F1_score: 0.38\n",
      "Epoch [7/10], Test Loss: 1.0825, Test Accuracy: 39.63%, Test F1_score: 0.35\n",
      "Epoch [8/10], Test Loss: 1.0780, Test Accuracy: 40.01%, Test F1_score: 0.37\n",
      "Epoch [9/10], Test Loss: 1.0761, Test Accuracy: 39.87%, Test F1_score: 0.36\n",
      "Epoch [10/10], Test Loss: 1.0769, Test Accuracy: 39.30%, Test F1_score: 0.37\n"
     ]
    }
   ],
   "source": [
    "device = torch.device('cuda' if torch.cuda.is_available() else 'cpu')\n",
    "input_size = 100\n",
    "hidden_size = 128\n",
    "num_classes = 3 #Neutral, Positive, Negative\n",
    "num_epochs = 10\n",
    "learning_rate = 1e-3\n",
    "dropout_rate = 0.25\n",
    "\n",
    "activation_functions = {\n",
    "    'ReLU': nn.ReLU,\n",
    "    'Sigmoid': nn.Sigmoid,\n",
    "    'Tanh': nn.Tanh,\n",
    "    'LeakyReLU': nn.LeakyReLU\n",
    "}\n",
    "\n",
    "\n",
    "\n",
    "# Train and test the model with different activation functions\n",
    "for name, func in activation_functions.items():\n",
    "    print(f\"Training with {name} activation function...\")\n",
    "    model = NeuralNetwork(input_size, hidden_size, num_classes,func, dropout_rate).to(device)\n",
    "    criterion = nn.CrossEntropyLoss()\n",
    "    optimizer = optim.NAdam(model.parameters(), lr=learning_rate)\n",
    "\n",
    "    train_loss_history = []\n",
    "    test_loss_history = []\n",
    "    test_accuracy_history = []\n",
    "    test_f1_score_history = []\n",
    "\n",
    "    for epoch in range(num_epochs):\n",
    "        train_loss = train(model,TrainDataloader, criterion, optimizer, device)\n",
    "        test_loss, test_accuracy, test_f1_score = test(model, ValidDataloader, criterion, device)\n",
    "\n",
    "        train_loss_history.append(train_loss)\n",
    "        test_loss_history.append(test_loss)\n",
    "        test_accuracy_history.append(test_accuracy)\n",
    "        test_f1_score_history.append(test_f1_score)\n",
    "\n",
    "        print(f\"Epoch [{epoch+1}/{num_epochs}], Test Loss: {test_loss:.4f}, Test Accuracy: {test_accuracy:.2f}%, Test F1_score: {test_f1_score:.2f}\")\n",
    "\n"
   ]
  },
  {
   "cell_type": "markdown",
   "id": "740c039a",
   "metadata": {
    "papermill": {
     "duration": 0.020534,
     "end_time": "2023-12-21T21:22:07.525753",
     "exception": false,
     "start_time": "2023-12-21T21:22:07.505219",
     "status": "completed"
    },
    "tags": []
   },
   "source": [
    "In this step we will tunr the hyperparameters of our model using the Optuna framework. We have chosen\n",
    "optimizer algorithm, activation function, hidden layer size, learning rate and dropout rate as our parameters. We chose to experiment only with functions and numbers that were expected to yeild the best results according the lecture slides, and some testing we did ourselves."
   ]
  },
  {
   "cell_type": "code",
   "execution_count": 14,
   "id": "b1e7af15",
   "metadata": {
    "execution": {
     "iopub.execute_input": "2023-12-21T21:22:07.569848Z",
     "iopub.status.busy": "2023-12-21T21:22:07.569437Z",
     "iopub.status.idle": "2023-12-21T21:51:24.403603Z",
     "shell.execute_reply": "2023-12-21T21:51:24.402000Z"
    },
    "papermill": {
     "duration": 1756.877486,
     "end_time": "2023-12-21T21:51:24.424424",
     "exception": false,
     "start_time": "2023-12-21T21:22:07.546938",
     "status": "completed"
    },
    "tags": []
   },
   "outputs": [
    {
     "name": "stderr",
     "output_type": "stream",
     "text": [
      "[I 2023-12-21 21:22:09,118] A new study created in memory with name: f1_score-maximize\n",
      "/opt/conda/lib/python3.10/site-packages/optuna/distributions.py:685: UserWarning: The distribution is specified by [0.01, 0.30000000000000004] and step=0.02, but the range is not divisible by `step`. It will be replaced by [0.01, 0.29].\n",
      "  warnings.warn(\n",
      "[I 2023-12-21 21:22:43,498] Trial 0 finished with value: 0.1857123850195697 and parameters: {'optimizer_name': 'Adamax', 'activation_function': 'ReLU', 'neuron_size': 324, 'learning_rate': 0.27, 'dropout_rate': 0.3}. Best is trial 0 with value: 0.1857123850195697.\n",
      "[I 2023-12-21 21:23:19,196] Trial 1 finished with value: 0.20243696890997165 and parameters: {'optimizer_name': 'Adamax', 'activation_function': 'SELU', 'neuron_size': 321, 'learning_rate': 0.25, 'dropout_rate': 0.35000000000000003}. Best is trial 1 with value: 0.20243696890997165.\n",
      "[I 2023-12-21 21:24:17,880] Trial 2 finished with value: 0.17594711538968663 and parameters: {'optimizer_name': 'RMSprop', 'activation_function': 'ReLU', 'neuron_size': 491, 'learning_rate': 0.19, 'dropout_rate': 0.15000000000000002}. Best is trial 1 with value: 0.20243696890997165.\n",
      "[I 2023-12-21 21:24:59,653] Trial 3 finished with value: 0.17067366285306035 and parameters: {'optimizer_name': 'Adam', 'activation_function': 'ReLU', 'neuron_size': 472, 'learning_rate': 0.15000000000000002, 'dropout_rate': 0.15000000000000002}. Best is trial 1 with value: 0.20243696890997165.\n",
      "[I 2023-12-21 21:25:35,404] Trial 4 finished with value: 0.2797805034753048 and parameters: {'optimizer_name': 'RMSprop', 'activation_function': 'ReLU', 'neuron_size': 350, 'learning_rate': 0.01, 'dropout_rate': 0.15000000000000002}. Best is trial 4 with value: 0.2797805034753048.\n",
      "[I 2023-12-21 21:26:09,540] Trial 5 finished with value: 0.24387629239848166 and parameters: {'optimizer_name': 'NAdam', 'activation_function': 'ReLU', 'neuron_size': 329, 'learning_rate': 0.23, 'dropout_rate': 0.2}. Best is trial 4 with value: 0.2797805034753048.\n",
      "[I 2023-12-21 21:26:32,022] Trial 6 finished with value: 0.2903472415425561 and parameters: {'optimizer_name': 'Adam', 'activation_function': 'SELU', 'neuron_size': 134, 'learning_rate': 0.06999999999999999, 'dropout_rate': 0.15000000000000002}. Best is trial 6 with value: 0.2903472415425561.\n",
      "[I 2023-12-21 21:27:04,915] Trial 7 finished with value: 0.1653684370897033 and parameters: {'optimizer_name': 'NAdam', 'activation_function': 'ELU', 'neuron_size': 284, 'learning_rate': 0.13, 'dropout_rate': 0.2}. Best is trial 6 with value: 0.2903472415425561.\n",
      "[I 2023-12-21 21:27:34,347] Trial 8 finished with value: 0.19163164214202852 and parameters: {'optimizer_name': 'RMSprop', 'activation_function': 'LeakyReLU', 'neuron_size': 337, 'learning_rate': 0.21000000000000002, 'dropout_rate': 0.2}. Best is trial 6 with value: 0.2903472415425561.\n",
      "[I 2023-12-21 21:28:15,952] Trial 9 finished with value: 0.17575648133501862 and parameters: {'optimizer_name': 'RMSprop', 'activation_function': 'ReLU', 'neuron_size': 463, 'learning_rate': 0.21000000000000002, 'dropout_rate': 0.4}. Best is trial 6 with value: 0.2903472415425561.\n",
      "[I 2023-12-21 21:28:38,470] Trial 10 finished with value: 0.2083734068455118 and parameters: {'optimizer_name': 'Adam', 'activation_function': 'SELU', 'neuron_size': 140, 'learning_rate': 0.05, 'dropout_rate': 0.05}. Best is trial 6 with value: 0.2903472415425561.\n",
      "[I 2023-12-21 21:29:01,587] Trial 11 finished with value: 0.33122602985663846 and parameters: {'optimizer_name': 'Adam', 'activation_function': 'SELU', 'neuron_size': 139, 'learning_rate': 0.01, 'dropout_rate': 0.05}. Best is trial 11 with value: 0.33122602985663846.\n",
      "[I 2023-12-21 21:29:24,836] Trial 12 finished with value: 0.3415415959827828 and parameters: {'optimizer_name': 'Adam', 'activation_function': 'SELU', 'neuron_size': 152, 'learning_rate': 0.06999999999999999, 'dropout_rate': 0.05}. Best is trial 12 with value: 0.3415415959827828.\n",
      "[I 2023-12-21 21:29:50,930] Trial 13 finished with value: 0.3382726406509226 and parameters: {'optimizer_name': 'Adam', 'activation_function': 'SELU', 'neuron_size': 210, 'learning_rate': 0.01, 'dropout_rate': 0.05}. Best is trial 12 with value: 0.3415415959827828.\n",
      "[I 2023-12-21 21:30:18,721] Trial 14 finished with value: 0.18170102550224823 and parameters: {'optimizer_name': 'Adam', 'activation_function': 'SELU', 'neuron_size': 215, 'learning_rate': 0.09, 'dropout_rate': 0.05}. Best is trial 12 with value: 0.3415415959827828.\n",
      "[I 2023-12-21 21:30:46,083] Trial 15 finished with value: 0.2650151632048867 and parameters: {'optimizer_name': 'Adam', 'activation_function': 'ELU', 'neuron_size': 210, 'learning_rate': 0.05, 'dropout_rate': 0.1}. Best is trial 12 with value: 0.3415415959827828.\n",
      "[I 2023-12-21 21:31:11,501] Trial 16 finished with value: 0.20125777658187982 and parameters: {'optimizer_name': 'Adam', 'activation_function': 'LeakyReLU', 'neuron_size': 208, 'learning_rate': 0.11, 'dropout_rate': 0.1}. Best is trial 12 with value: 0.3415415959827828.\n",
      "[I 2023-12-21 21:31:42,214] Trial 17 finished with value: 0.2711110589179126 and parameters: {'optimizer_name': 'Adam', 'activation_function': 'SELU', 'neuron_size': 275, 'learning_rate': 0.03, 'dropout_rate': 0.3}. Best is trial 12 with value: 0.3415415959827828.\n",
      "[I 2023-12-21 21:32:08,725] Trial 18 finished with value: 0.32732232998717914 and parameters: {'optimizer_name': 'Adamax', 'activation_function': 'SELU', 'neuron_size': 184, 'learning_rate': 0.15000000000000002, 'dropout_rate': 0.1}. Best is trial 12 with value: 0.3415415959827828.\n",
      "[I 2023-12-21 21:32:39,046] Trial 19 finished with value: 0.1988791056880445 and parameters: {'optimizer_name': 'NAdam', 'activation_function': 'SELU', 'neuron_size': 258, 'learning_rate': 0.09, 'dropout_rate': 0.25}. Best is trial 12 with value: 0.3415415959827828.\n",
      "[I 2023-12-21 21:33:14,409] Trial 20 finished with value: 0.2825991947090987 and parameters: {'optimizer_name': 'Adam', 'activation_function': 'LeakyReLU', 'neuron_size': 391, 'learning_rate': 0.05, 'dropout_rate': 0.05}. Best is trial 12 with value: 0.3415415959827828.\n",
      "[I 2023-12-21 21:33:38,226] Trial 21 finished with value: 0.2669990270426779 and parameters: {'optimizer_name': 'Adam', 'activation_function': 'SELU', 'neuron_size': 161, 'learning_rate': 0.01, 'dropout_rate': 0.05}. Best is trial 12 with value: 0.3415415959827828.\n",
      "[I 2023-12-21 21:34:03,376] Trial 22 finished with value: 0.318767802056038 and parameters: {'optimizer_name': 'Adam', 'activation_function': 'SELU', 'neuron_size': 172, 'learning_rate': 0.01, 'dropout_rate': 0.1}. Best is trial 12 with value: 0.3415415959827828.\n",
      "[I 2023-12-21 21:34:32,828] Trial 23 finished with value: 0.17116028578443962 and parameters: {'optimizer_name': 'Adam', 'activation_function': 'SELU', 'neuron_size': 243, 'learning_rate': 0.03, 'dropout_rate': 0.05}. Best is trial 12 with value: 0.3415415959827828.\n",
      "[I 2023-12-21 21:34:57,573] Trial 24 finished with value: 0.3559971677534508 and parameters: {'optimizer_name': 'Adam', 'activation_function': 'ELU', 'neuron_size': 162, 'learning_rate': 0.03, 'dropout_rate': 0.1}. Best is trial 24 with value: 0.3559971677534508.\n",
      "[I 2023-12-21 21:35:23,550] Trial 25 finished with value: 0.26526322757655924 and parameters: {'optimizer_name': 'Adam', 'activation_function': 'ELU', 'neuron_size': 189, 'learning_rate': 0.06999999999999999, 'dropout_rate': 0.1}. Best is trial 24 with value: 0.3559971677534508.\n",
      "[I 2023-12-21 21:35:52,252] Trial 26 finished with value: 0.17207282996087364 and parameters: {'optimizer_name': 'Adam', 'activation_function': 'ELU', 'neuron_size': 236, 'learning_rate': 0.09, 'dropout_rate': 0.1}. Best is trial 24 with value: 0.3559971677534508.\n",
      "[I 2023-12-21 21:36:17,260] Trial 27 finished with value: 0.3875675860679511 and parameters: {'optimizer_name': 'Adamax', 'activation_function': 'ELU', 'neuron_size': 158, 'learning_rate': 0.03, 'dropout_rate': 0.05}. Best is trial 27 with value: 0.3875675860679511.\n",
      "[I 2023-12-21 21:36:42,752] Trial 28 finished with value: 0.3469041847821438 and parameters: {'optimizer_name': 'Adamax', 'activation_function': 'ELU', 'neuron_size': 162, 'learning_rate': 0.06999999999999999, 'dropout_rate': 0.15000000000000002}. Best is trial 27 with value: 0.3875675860679511.\n",
      "[I 2023-12-21 21:37:24,086] Trial 29 finished with value: 0.3478832703196641 and parameters: {'optimizer_name': 'Adamax', 'activation_function': 'ELU', 'neuron_size': 386, 'learning_rate': 0.13, 'dropout_rate': 0.15000000000000002}. Best is trial 27 with value: 0.3875675860679511.\n",
      "[I 2023-12-21 21:38:06,619] Trial 30 finished with value: 0.21808360426714926 and parameters: {'optimizer_name': 'Adamax', 'activation_function': 'ELU', 'neuron_size': 409, 'learning_rate': 0.17, 'dropout_rate': 0.25}. Best is trial 27 with value: 0.3875675860679511.\n",
      "[I 2023-12-21 21:38:46,934] Trial 31 finished with value: 0.24988152086734772 and parameters: {'optimizer_name': 'Adamax', 'activation_function': 'ELU', 'neuron_size': 387, 'learning_rate': 0.11, 'dropout_rate': 0.15000000000000002}. Best is trial 27 with value: 0.3875675860679511.\n",
      "[I 2023-12-21 21:39:19,855] Trial 32 finished with value: 0.35309933667833154 and parameters: {'optimizer_name': 'Adamax', 'activation_function': 'ELU', 'neuron_size': 304, 'learning_rate': 0.03, 'dropout_rate': 0.15000000000000002}. Best is trial 27 with value: 0.3875675860679511.\n",
      "[I 2023-12-21 21:39:54,190] Trial 33 finished with value: 0.2169463916709929 and parameters: {'optimizer_name': 'Adamax', 'activation_function': 'ELU', 'neuron_size': 297, 'learning_rate': 0.29, 'dropout_rate': 0.1}. Best is trial 27 with value: 0.3875675860679511.\n",
      "[I 2023-12-21 21:40:39,019] Trial 34 finished with value: 0.38825561738375464 and parameters: {'optimizer_name': 'Adamax', 'activation_function': 'ELU', 'neuron_size': 430, 'learning_rate': 0.03, 'dropout_rate': 0.15000000000000002}. Best is trial 34 with value: 0.38825561738375464.\n",
      "[I 2023-12-21 21:41:25,136] Trial 35 finished with value: 0.29523519787824515 and parameters: {'optimizer_name': 'Adamax', 'activation_function': 'ELU', 'neuron_size': 441, 'learning_rate': 0.03, 'dropout_rate': 0.2}. Best is trial 34 with value: 0.38825561738375464.\n",
      "[I 2023-12-21 21:42:15,039] Trial 36 finished with value: 0.32513429698618973 and parameters: {'optimizer_name': 'Adamax', 'activation_function': 'ELU', 'neuron_size': 512, 'learning_rate': 0.03, 'dropout_rate': 0.15000000000000002}. Best is trial 34 with value: 0.38825561738375464.\n",
      "[I 2023-12-21 21:42:53,994] Trial 37 finished with value: 0.34545327339208487 and parameters: {'optimizer_name': 'Adamax', 'activation_function': 'ELU', 'neuron_size': 357, 'learning_rate': 0.05, 'dropout_rate': 0.25}. Best is trial 34 with value: 0.38825561738375464.\n",
      "[I 2023-12-21 21:43:31,653] Trial 38 finished with value: 0.35605108986298245 and parameters: {'optimizer_name': 'Adamax', 'activation_function': 'ELU', 'neuron_size': 364, 'learning_rate': 0.03, 'dropout_rate': 0.2}. Best is trial 34 with value: 0.38825561738375464.\n",
      "[I 2023-12-21 21:44:17,683] Trial 39 finished with value: 0.3303910292910807 and parameters: {'optimizer_name': 'Adamax', 'activation_function': 'ELU', 'neuron_size': 447, 'learning_rate': 0.05, 'dropout_rate': 0.3}. Best is trial 34 with value: 0.38825561738375464.\n",
      "[I 2023-12-21 21:44:52,504] Trial 40 finished with value: 0.16819910817977154 and parameters: {'optimizer_name': 'NAdam', 'activation_function': 'ReLU', 'neuron_size': 353, 'learning_rate': 0.11, 'dropout_rate': 0.2}. Best is trial 34 with value: 0.38825561738375464.\n",
      "[I 2023-12-21 21:45:26,613] Trial 41 finished with value: 0.3351053566192136 and parameters: {'optimizer_name': 'Adamax', 'activation_function': 'ELU', 'neuron_size': 311, 'learning_rate': 0.03, 'dropout_rate': 0.15000000000000002}. Best is trial 34 with value: 0.38825561738375464.\n",
      "[I 2023-12-21 21:46:08,063] Trial 42 finished with value: 0.356972708169258 and parameters: {'optimizer_name': 'Adamax', 'activation_function': 'ELU', 'neuron_size': 424, 'learning_rate': 0.03, 'dropout_rate': 0.2}. Best is trial 34 with value: 0.38825561738375464.\n",
      "[I 2023-12-21 21:46:44,911] Trial 43 finished with value: 0.29035401276566764 and parameters: {'optimizer_name': 'RMSprop', 'activation_function': 'ELU', 'neuron_size': 421, 'learning_rate': 0.01, 'dropout_rate': 0.2}. Best is trial 34 with value: 0.38825561738375464.\n",
      "[I 2023-12-21 21:47:27,759] Trial 44 finished with value: 0.31991937711383356 and parameters: {'optimizer_name': 'Adamax', 'activation_function': 'ELU', 'neuron_size': 417, 'learning_rate': 0.06999999999999999, 'dropout_rate': 0.2}. Best is trial 34 with value: 0.38825561738375464.\n",
      "[I 2023-12-21 21:48:17,475] Trial 45 finished with value: 0.38271554627201776 and parameters: {'optimizer_name': 'Adamax', 'activation_function': 'ELU', 'neuron_size': 481, 'learning_rate': 0.05, 'dropout_rate': 0.25}. Best is trial 34 with value: 0.38825561738375464.\n",
      "[I 2023-12-21 21:49:04,259] Trial 46 finished with value: 0.3518619469620965 and parameters: {'optimizer_name': 'Adamax', 'activation_function': 'LeakyReLU', 'neuron_size': 483, 'learning_rate': 0.05, 'dropout_rate': 0.25}. Best is trial 34 with value: 0.38825561738375464.\n",
      "[I 2023-12-21 21:49:49,351] Trial 47 finished with value: 0.20863130474180885 and parameters: {'optimizer_name': 'Adamax', 'activation_function': 'ReLU', 'neuron_size': 462, 'learning_rate': 0.25, 'dropout_rate': 0.35000000000000003}. Best is trial 34 with value: 0.38825561738375464.\n",
      "[I 2023-12-21 21:50:39,160] Trial 48 finished with value: 0.370450942579544 and parameters: {'optimizer_name': 'Adamax', 'activation_function': 'ELU', 'neuron_size': 492, 'learning_rate': 0.01, 'dropout_rate': 0.25}. Best is trial 34 with value: 0.38825561738375464.\n",
      "[I 2023-12-21 21:51:24,391] Trial 49 finished with value: 0.3153574453158812 and parameters: {'optimizer_name': 'RMSprop', 'activation_function': 'ELU', 'neuron_size': 509, 'learning_rate': 0.01, 'dropout_rate': 0.3}. Best is trial 34 with value: 0.38825561738375464.\n"
     ]
    },
    {
     "name": "stdout",
     "output_type": "stream",
     "text": [
      "numbers of the finished trials: 50\n",
      "Trial with highest accuracy: \n",
      "the best params: {'optimizer_name': 'Adamax', 'activation_function': 'ELU', 'neuron_size': 430, 'learning_rate': 0.03, 'dropout_rate': 0.15000000000000002}\n",
      "the best value: 0.38825561738375464\n"
     ]
    }
   ],
   "source": [
    "#Optuna framework for hyperparameter tuning\n",
    "import optuna\n",
    "def suggest_hyperparameters(trial): #function to include the suggested hyperparameters\n",
    "    # Experimenting with different optimizers\n",
    "    #optimizer_name = trial.suggest_categorical(\"optimizer_name\", [\"Adam\", \"AdamW\",\"SGD\",\"Adagrad\", \"Adamax\", \"RMSprop\"])\n",
    "    optimizer_name = trial.suggest_categorical(\"optimizer_name\", [\"Adam\", \"Adamax\",\"RMSprop\", \"NAdam\"])\n",
    "    \n",
    "    #activation_function = trial.suggest_categorical(\"activation_function\",[\"ReLU\",\n",
    "    #\"Sigmoid\",\"Tanh\", \"LeakyReLU\", \"Hardshrink\", \"GELU\", \"SiLU\"])\n",
    "    \n",
    "    activation_function = trial.suggest_categorical(\"activation_function\",[\"ReLU\", \"ELU\",\"SELU\", \"LeakyReLU\"])\n",
    "    neuron_size = trial.suggest_int(\"neuron_size\",128,512)\n",
    "    learning_rate = trial.suggest_float(\"learning_rate\", 1e-2, 1e-1*3, log=False,step=0.02)\n",
    "    dropout_rate = trial.suggest_float(\"dropout_rate\", 0.05, 0.4, log=False,step=0.05)\n",
    "    return optimizer_name, activation_function, neuron_size, learning_rate, dropout_rate\n",
    "\n",
    "\n",
    "#Optuna sample\n",
    "def objective(trial):    \n",
    "    #Get hyperparameters\n",
    "    optimizer_name, activ_func, hidden_size, learning_rate, dropout_rate = suggest_hyperparameters(trial)\n",
    "    device = torch.device('cuda' if torch.cuda.is_available() else 'cpu')\n",
    "    num_epochs = 20\n",
    "    \n",
    "    #Define input/output sizes\n",
    "    input_size = 100 #Word2Vec model with 100 weights, our choise \n",
    "    num_classes = 3 #Neutral, Positive, Negative\n",
    "\n",
    "    \n",
    "    #Activation Functions Mapping\n",
    "    activation_functions={\n",
    "    'ReLU': nn.ReLU,\n",
    "    'Sigmoid': nn.Sigmoid,\n",
    "    'Tanh': nn.Tanh,\n",
    "    'LeakyReLU': nn.LeakyReLU,\n",
    "    'Hardshrink': nn.Hardshrink,\n",
    "    'GELU': nn.GELU,\n",
    "    'SiLU': nn.SiLU,\n",
    "    'SELU': nn.SELU,\n",
    "    'ELU': nn.ELU\n",
    "    }\n",
    "    \n",
    "\n",
    "    #Initialise model, loss, optimizer\n",
    "    model = NeuralNetwork(input_size, hidden_size, num_classes, activation_functions[activ_func], dropout_rate).to(device)\n",
    "    criterion = nn.CrossEntropyLoss()\n",
    "    \n",
    "    if optimizer_name == \"Adam\":\n",
    "        optimizer = torch.optim.Adam(model.parameters(), lr=learning_rate)\n",
    "    elif optimizer_name == \"AdamW\":\n",
    "        optimizer = torch.optim.AdamW(model.parameters(), lr=learning_rate)\n",
    "    elif optimizer_name == \"SGD\":\n",
    "        optimizer = torch.optim.SGD(model.parameters(), lr=learning_rate) # You can also try Adam and AdamW\n",
    "    elif optimizer_name == \"Adagrad\":\n",
    "        optimizer = torch.optim.Adagrad(model.parameters(),lr=learning_rate)\n",
    "    elif optimizer_name == \"Adamax\":\n",
    "        optimizer = torch.optim.Adamax(model.parameters(),lr=learning_rate)\n",
    "    elif optimizer_name == \"RMSprop\": \n",
    "         optimizer = torch.optim.RMSprop(model.parameters(),lr=learning_rate)\n",
    "    elif optimizer_name == \"NAdam\":\n",
    "         optimizer = torch.optim.NAdam(model.parameters(), lr=learning_rate)\n",
    "              \n",
    "    #Initialise dataloader\n",
    "    TrainDataset = torch.utils.data.TensorDataset(Xt, Yt)\n",
    "    TrainDataloader = torch.utils.data.DataLoader(TrainDataset, batch_size=64,shuffle=True)\n",
    "    \n",
    "    ValidDataset = torch.utils.data.TensorDataset(Xv, Yv)\n",
    "    ValidDataloader = torch.utils.data.DataLoader(ValidDataset, batch_size=64, shuffle=True)\n",
    "    \n",
    "    train_loss_history = []\n",
    "\n",
    "    for epoch in range(num_epochs):\n",
    "        train_loss = train(model,TrainDataloader, criterion, optimizer, device)\n",
    "        train_loss_history.append(train_loss)\n",
    "    test_loss, test_accuracy, test_f1_score = test(model, ValidDataloader, criterion, device)\n",
    "    return test_f1_score\n",
    "\n",
    "#optuna_test = optuna.create_study(directions=[\"minimize\", \"maximize\"], study_name = 'lr-minim-sample')\n",
    "optuna_test = optuna.create_study(direction = 'maximize' , study_name = 'f1_score-maximize')\n",
    "optuna_test.optimize(objective, n_trials = 50) #the first parameter is the function that we want to optimise\n",
    "print('numbers of the finished trials:' , len(optuna_test.trials))\n",
    "#trial_with_highest_accuracy = max(optuna_test.best_trials, key=lambda t: t.values[1])\n",
    "print(f\"Trial with highest accuracy: \")\n",
    "#print(f\"\\tnumber: {trial_with_highest_accuracy.number}\")\n",
    "#print(f\"\\tparams: {trial_with_highest_accuracy.params}\")\n",
    "#print(f\"\\tvalues: {trial_with_highest_accuracy.values}\")\n",
    "print('the best params:' , optuna_test.best_trial.params)\n",
    "print('the best value:' , optuna_test.best_value)\n",
    "\n",
    "# Best number of trials appears to be 50 , as it gave me the best hyperparameters for my model."
   ]
  },
  {
   "cell_type": "markdown",
   "id": "55f68f56",
   "metadata": {
    "papermill": {
     "duration": 0.024113,
     "end_time": "2023-12-21T21:51:24.473217",
     "exception": false,
     "start_time": "2023-12-21T21:51:24.449104",
     "status": "completed"
    },
    "tags": []
   },
   "source": [
    "Here we train and test the model with the best hyperparameters, using our test data from the initial split"
   ]
  },
  {
   "cell_type": "code",
   "execution_count": 15,
   "id": "8d47bac9",
   "metadata": {
    "execution": {
     "iopub.execute_input": "2023-12-21T21:51:24.524305Z",
     "iopub.status.busy": "2023-12-21T21:51:24.523907Z",
     "iopub.status.idle": "2023-12-21T21:53:32.615694Z",
     "shell.execute_reply": "2023-12-21T21:53:32.614845Z"
    },
    "papermill": {
     "duration": 128.119628,
     "end_time": "2023-12-21T21:53:32.617614",
     "exception": false,
     "start_time": "2023-12-21T21:51:24.497986",
     "status": "completed"
    },
    "tags": []
   },
   "outputs": [
    {
     "name": "stdout",
     "output_type": "stream",
     "text": [
      "Epoch [1/50], Test Loss: 1.1216, Test Accuracy: 36.06%, Test F1_score: 0.35\n",
      "Epoch [2/50], Test Loss: 1.1298, Test Accuracy: 35.54%, Test F1_score: 0.31\n",
      "Epoch [3/50], Test Loss: 1.0863, Test Accuracy: 37.09%, Test F1_score: 0.35\n",
      "Epoch [4/50], Test Loss: 1.0772, Test Accuracy: 40.03%, Test F1_score: 0.39\n",
      "Epoch [5/50], Test Loss: 1.0812, Test Accuracy: 38.60%, Test F1_score: 0.34\n",
      "Epoch [6/50], Test Loss: 1.0748, Test Accuracy: 39.34%, Test F1_score: 0.36\n",
      "Epoch [7/50], Test Loss: 1.0760, Test Accuracy: 40.12%, Test F1_score: 0.38\n",
      "Epoch [8/50], Test Loss: 1.0736, Test Accuracy: 40.60%, Test F1_score: 0.39\n",
      "Epoch [9/50], Test Loss: 1.0746, Test Accuracy: 40.22%, Test F1_score: 0.35\n",
      "Epoch [10/50], Test Loss: 1.0727, Test Accuracy: 39.46%, Test F1_score: 0.34\n",
      "Epoch [11/50], Test Loss: 1.0714, Test Accuracy: 40.63%, Test F1_score: 0.37\n",
      "Epoch [12/50], Test Loss: 1.0716, Test Accuracy: 39.69%, Test F1_score: 0.38\n",
      "Epoch [13/50], Test Loss: 1.0735, Test Accuracy: 39.72%, Test F1_score: 0.35\n",
      "Epoch [14/50], Test Loss: 1.0696, Test Accuracy: 40.77%, Test F1_score: 0.40\n",
      "Epoch [15/50], Test Loss: 1.0737, Test Accuracy: 38.31%, Test F1_score: 0.34\n",
      "Epoch [16/50], Test Loss: 1.0708, Test Accuracy: 40.29%, Test F1_score: 0.38\n",
      "Epoch [17/50], Test Loss: 1.0699, Test Accuracy: 40.43%, Test F1_score: 0.37\n",
      "Epoch [18/50], Test Loss: 1.0714, Test Accuracy: 40.15%, Test F1_score: 0.37\n",
      "Epoch [19/50], Test Loss: 1.0733, Test Accuracy: 39.72%, Test F1_score: 0.36\n",
      "Epoch [20/50], Test Loss: 1.0749, Test Accuracy: 38.36%, Test F1_score: 0.35\n",
      "Epoch [21/50], Test Loss: 1.0765, Test Accuracy: 38.83%, Test F1_score: 0.33\n",
      "Epoch [22/50], Test Loss: 1.0721, Test Accuracy: 39.65%, Test F1_score: 0.37\n",
      "Epoch [23/50], Test Loss: 1.0773, Test Accuracy: 37.83%, Test F1_score: 0.37\n",
      "Epoch [24/50], Test Loss: 1.0742, Test Accuracy: 39.96%, Test F1_score: 0.39\n",
      "Epoch [25/50], Test Loss: 1.0722, Test Accuracy: 38.98%, Test F1_score: 0.36\n",
      "Epoch [26/50], Test Loss: 1.0695, Test Accuracy: 40.55%, Test F1_score: 0.39\n",
      "Epoch [27/50], Test Loss: 1.0705, Test Accuracy: 40.48%, Test F1_score: 0.39\n",
      "Epoch [28/50], Test Loss: 1.0781, Test Accuracy: 38.24%, Test F1_score: 0.32\n",
      "Epoch [29/50], Test Loss: 1.0719, Test Accuracy: 40.20%, Test F1_score: 0.38\n",
      "Epoch [30/50], Test Loss: 1.0725, Test Accuracy: 39.53%, Test F1_score: 0.39\n",
      "Epoch [31/50], Test Loss: 1.0712, Test Accuracy: 39.34%, Test F1_score: 0.35\n",
      "Epoch [32/50], Test Loss: 1.0697, Test Accuracy: 38.93%, Test F1_score: 0.37\n",
      "Epoch [33/50], Test Loss: 1.0722, Test Accuracy: 40.24%, Test F1_score: 0.36\n",
      "Epoch [34/50], Test Loss: 1.0730, Test Accuracy: 37.45%, Test F1_score: 0.32\n",
      "Epoch [35/50], Test Loss: 1.0708, Test Accuracy: 39.81%, Test F1_score: 0.37\n",
      "Epoch [36/50], Test Loss: 1.0718, Test Accuracy: 39.84%, Test F1_score: 0.36\n",
      "Epoch [37/50], Test Loss: 1.0693, Test Accuracy: 39.96%, Test F1_score: 0.38\n",
      "Epoch [38/50], Test Loss: 1.0680, Test Accuracy: 39.79%, Test F1_score: 0.36\n",
      "Epoch [39/50], Test Loss: 1.0711, Test Accuracy: 40.24%, Test F1_score: 0.38\n",
      "Epoch [40/50], Test Loss: 1.0706, Test Accuracy: 40.70%, Test F1_score: 0.38\n",
      "Epoch [41/50], Test Loss: 1.0692, Test Accuracy: 39.93%, Test F1_score: 0.37\n",
      "Epoch [42/50], Test Loss: 1.0716, Test Accuracy: 39.24%, Test F1_score: 0.36\n",
      "Epoch [43/50], Test Loss: 1.0703, Test Accuracy: 39.22%, Test F1_score: 0.38\n",
      "Epoch [44/50], Test Loss: 1.0777, Test Accuracy: 37.69%, Test F1_score: 0.32\n",
      "Epoch [45/50], Test Loss: 1.0672, Test Accuracy: 40.79%, Test F1_score: 0.39\n",
      "Epoch [46/50], Test Loss: 1.0698, Test Accuracy: 38.95%, Test F1_score: 0.37\n",
      "Epoch [47/50], Test Loss: 1.0755, Test Accuracy: 39.14%, Test F1_score: 0.36\n",
      "Epoch [48/50], Test Loss: 1.0682, Test Accuracy: 40.05%, Test F1_score: 0.37\n",
      "Epoch [49/50], Test Loss: 1.0725, Test Accuracy: 40.24%, Test F1_score: 0.39\n",
      "Epoch [50/50], Test Loss: 1.0757, Test Accuracy: 39.17%, Test F1_score: 0.34\n"
     ]
    }
   ],
   "source": [
    "#Testing model with best hyperparameters on test data\n",
    "device = torch.device('cuda' if torch.cuda.is_available() else 'cpu')\n",
    "input_size = 100\n",
    "hidden_size = 505\n",
    "num_classes = 3 #Neutral, Positive, Negative\n",
    "num_epochs = 50\n",
    "learning_rate = 1e-2\n",
    "dropout_rate = 0.2\n",
    "    \n",
    "model = NeuralNetwork(input_size, hidden_size, num_classes, nn.LeakyReLU, dropout_rate).to(device)\n",
    "criterion = nn.CrossEntropyLoss()\n",
    "optimizer = optim.Adamax(model.parameters(), lr=learning_rate)\n",
    "\n",
    "train_loss_history = []\n",
    "test_loss_history = []\n",
    "test_accuracy_history = []\n",
    "test_f1_score_history = []\n",
    "\n",
    "for epoch in range(num_epochs):\n",
    "    train_loss = train(model,TrainDataloader, criterion, optimizer, device)\n",
    "    test_loss, test_accuracy, test_f1_score = test(model, TestDataloader, criterion, device)\n",
    "\n",
    "    train_loss_history.append(train_loss)\n",
    "    test_loss_history.append(test_loss)\n",
    "    test_accuracy_history.append(test_accuracy)\n",
    "    test_f1_score_history.append(test_f1_score)\n",
    "\n",
    "    print(f\"Epoch [{epoch+1}/{num_epochs}], Test Loss: {test_loss:.4f}, Test Accuracy: {test_accuracy:.2f}%, Test F1_score: {test_f1_score:.2f}\")"
   ]
  },
  {
   "cell_type": "markdown",
   "id": "437f4ae5",
   "metadata": {
    "papermill": {
     "duration": 0.02974,
     "end_time": "2023-12-21T21:53:32.674545",
     "exception": false,
     "start_time": "2023-12-21T21:53:32.644805",
     "status": "completed"
    },
    "tags": []
   },
   "source": [
    "Here we plot the learning curve for the model with the best hyperparameters"
   ]
  },
  {
   "cell_type": "code",
   "execution_count": 16,
   "id": "46b92f20",
   "metadata": {
    "execution": {
     "iopub.execute_input": "2023-12-21T21:53:32.744967Z",
     "iopub.status.busy": "2023-12-21T21:53:32.744334Z",
     "iopub.status.idle": "2023-12-21T22:17:42.909474Z",
     "shell.execute_reply": "2023-12-21T22:17:42.908025Z"
    },
    "papermill": {
     "duration": 1450.224974,
     "end_time": "2023-12-21T22:17:42.936320",
     "exception": false,
     "start_time": "2023-12-21T21:53:32.711346",
     "status": "completed"
    },
    "tags": []
   },
   "outputs": [
    {
     "data": {
      "image/png": "[encoded data removed]",
      "text/plain": [
       "<Figure size 640x480 with 1 Axes>"
      ]
     },
     "metadata": {},
     "output_type": "display_data"
    }
   ],
   "source": [
    "device = torch.device('cuda' if torch.cuda.is_available() else 'cpu')\n",
    "input_size = 100\n",
    "hidden_size = 505\n",
    "num_classes = 3 #Neutral, Positive, Negative\n",
    "num_epochs = 100\n",
    "learning_rate = 1e-2\n",
    "dropout_rate = 0.2\n",
    "\n",
    "randreset(666)\n",
    "Xtrain, X1 , Ytrain, Y1 = train_test_split(X, Y, test_size=0.2, random_state=69)\n",
    "Xval, Xtest , Yval, Ytest = train_test_split(X1, Y1, test_size=0.5, random_state=69)\n",
    "\n",
    "Xt = torch.tensor(Xtrain, dtype=torch.float, device=device)\n",
    "Yt = torch.tensor(Ytrain, device=device)\n",
    "\n",
    "Xv = torch.tensor(Xval, dtype=torch.float, device=device)\n",
    "Yv = torch.tensor(Yval, device=device)\n",
    "\n",
    "XT = torch.tensor(Xtest, dtype=torch.float, device=device)\n",
    "YT = torch.tensor(Ytest, device=device)\n",
    "\n",
    "Tscores = []\n",
    "Vscores = []\n",
    "for size in [3000,6000,9000,12000,15000,18000,21000,24000,27000,30000,33486,]:\n",
    "    TrainDataset = torch.utils.data.TensorDataset(Xt[:size], Yt[:size])\n",
    "    TrainDataloader = torch.utils.data.DataLoader(TrainDataset, batch_size=64,shuffle=True)\n",
    "\n",
    "    randreset(666)       \n",
    "    model = NeuralNetwork(input_size, hidden_size, num_classes, nn.LeakyReLU, dropout_rate).to(device)\n",
    "    criterion = nn.CrossEntropyLoss()\n",
    "    optimizer = optim.Adamax(model.parameters(), lr=learning_rate)\n",
    "    for epoch in range(num_epochs):\n",
    "        train_loss = train(model,TrainDataloader, criterion, optimizer, device) \n",
    "    _, Ptrain = torch.max(model(Xt[:size]), 1)\n",
    "    Ptrain = Ptrain.cpu()\n",
    "    Ptraintrue = Yt.cpu()\n",
    "    _, Ptest = torch.max(model(XT), 1)\n",
    "    Ptest = Ptest.cpu()\n",
    "    Ptesttrue = YT.cpu()\n",
    "    Tscores+= [skf1(Ptraintrue[:size], Ptrain, average=\"weighted\")]\n",
    "    Vscores += [skf1(Ptesttrue, Ptest, average=\"weighted\")]\n",
    "\n",
    "plt.grid()\n",
    "plt.plot([3000,6000,9000,12000,15000,18000,21000,24000,27000,30000,33486], Tscores, label=\"Train Score\")\n",
    "plt.plot([3000,6000,9000,12000,15000,18000,21000,24000,27000,30000,33486], Vscores, label=\"Test Score\")\n",
    "plt.show()\n",
    "\n"
   ]
  },
  {
   "cell_type": "markdown",
   "id": "34bce0dc",
   "metadata": {
    "papermill": {
     "duration": 0.026557,
     "end_time": "2023-12-21T22:17:42.989873",
     "exception": false,
     "start_time": "2023-12-21T22:17:42.963316",
     "status": "completed"
    },
    "tags": []
   },
   "source": [
    "Function for vectorizing the test_set data,that will be used to evaluate our work"
   ]
  },
  {
   "cell_type": "code",
   "execution_count": 17,
   "id": "c42a50fb",
   "metadata": {
    "execution": {
     "iopub.execute_input": "2023-12-21T22:17:43.047504Z",
     "iopub.status.busy": "2023-12-21T22:17:43.047145Z",
     "iopub.status.idle": "2023-12-21T22:18:08.240468Z",
     "shell.execute_reply": "2023-12-21T22:18:08.239366Z"
    },
    "papermill": {
     "duration": 25.225947,
     "end_time": "2023-12-21T22:18:08.243223",
     "exception": false,
     "start_time": "2023-12-21T22:17:43.017276",
     "status": "completed"
    },
    "tags": []
   },
   "outputs": [],
   "source": [
    "#Vectorize Test_Set Data\n",
    "def vectorize_test(df, model_name):\n",
    "    X = []\n",
    "    model = Word2Vec.load(model_name) \n",
    "    for (i, tweet) in enumerate(df['Text'].values):\n",
    "        featureVec = np.zeros(100,dtype=\"float32\")\n",
    "        nwords = 0\n",
    "        #Converting Index2Word which is a list to a set for better speed in the execution.\n",
    "        index2word_set = set(model.wv.index_to_key)\n",
    "        for word in word_tokenize(tweet):\n",
    "            if word in index2word_set:\n",
    "                nwords = nwords + 1\n",
    "                featureVec = np.add(featureVec,model.wv[word])\n",
    "        # Dividing the result by number of words to get average\n",
    "        if(nwords > 0):\n",
    "            featureVec = np.divide(featureVec, nwords)\n",
    "        X.append(featureVec) #we keep the mean \n",
    "    return X\n",
    "X = vectorize_test(test_set,\"word2vec.model\")\n",
    "X = torch.tensor(X, requires_grad=True)\n"
   ]
  },
  {
   "cell_type": "markdown",
   "id": "6dc00d49",
   "metadata": {
    "papermill": {
     "duration": 0.028181,
     "end_time": "2023-12-21T22:18:08.298703",
     "exception": false,
     "start_time": "2023-12-21T22:18:08.270522",
     "status": "completed"
    },
    "tags": []
   },
   "source": [
    "Train model with best hyperparameters"
   ]
  },
  {
   "cell_type": "code",
   "execution_count": 18,
   "id": "d19159ee",
   "metadata": {
    "execution": {
     "iopub.execute_input": "2023-12-21T22:18:08.354407Z",
     "iopub.status.busy": "2023-12-21T22:18:08.353718Z",
     "iopub.status.idle": "2023-12-21T22:22:07.563519Z",
     "shell.execute_reply": "2023-12-21T22:22:07.562370Z"
    },
    "papermill": {
     "duration": 239.24054,
     "end_time": "2023-12-21T22:22:07.566071",
     "exception": false,
     "start_time": "2023-12-21T22:18:08.325531",
     "status": "completed"
    },
    "tags": []
   },
   "outputs": [],
   "source": [
    "device = torch.device('cuda' if torch.cuda.is_available() else 'cpu')\n",
    "input_size = 100\n",
    "hidden_size = 505\n",
    "num_classes = 3 #Neutral, Positive, Negative\n",
    "num_epochs = 100\n",
    "learning_rate = 1e-2\n",
    "dropout_rate = 0.2\n",
    "\n",
    "model = NeuralNetwork(input_size, hidden_size, num_classes,nn.LeakyReLU, dropout_rate).to(device)\n",
    "criterion = nn.CrossEntropyLoss()\n",
    "optimizer = optim.Adamax(model.parameters(), lr=learning_rate)\n",
    "for epoch in range(num_epochs):\n",
    "    train_loss = train(model,TrainDataloader, criterion, optimizer, device)"
   ]
  },
  {
   "cell_type": "markdown",
   "id": "2d374f89",
   "metadata": {
    "papermill": {
     "duration": 0.027119,
     "end_time": "2023-12-21T22:22:07.685482",
     "exception": false,
     "start_time": "2023-12-21T22:22:07.658363",
     "status": "completed"
    },
    "tags": []
   },
   "source": [
    "Predictions on Test_set and importing results to cvs file"
   ]
  },
  {
   "cell_type": "code",
   "execution_count": 19,
   "id": "d727ea37",
   "metadata": {
    "execution": {
     "iopub.execute_input": "2023-12-21T22:22:07.741557Z",
     "iopub.status.busy": "2023-12-21T22:22:07.741153Z",
     "iopub.status.idle": "2023-12-21T22:22:07.862247Z",
     "shell.execute_reply": "2023-12-21T22:22:07.861092Z"
    },
    "papermill": {
     "duration": 0.152667,
     "end_time": "2023-12-21T22:22:07.865154",
     "exception": false,
     "start_time": "2023-12-21T22:22:07.712487",
     "status": "completed"
    },
    "tags": []
   },
   "outputs": [],
   "source": [
    "#Predictions on Test_set and importing results to cvs file\n",
    "model.eval()\n",
    "pred = model(X)\n",
    "_, predlabel = torch.max(pred.data, 1)\n",
    "predlabel = predlabel.tolist()\n",
    "\n",
    "predlabel = pd.DataFrame(predlabel)\n",
    "predlabel.index = np.arange(predlabel.shape[0]) + 1\n",
    "id = np.arange(predlabel.shape[0]) + 1\n",
    "id = pd.DataFrame(id)\n",
    "id.index = id.index + 1\n",
    "\n",
    "predlabel = pd.concat([id,predlabel], axis=1)\n",
    "predlabel.columns = [\"Id\", \"Predicted\"]\n",
    "predlabel['Predicted'] = predlabel.Predicted.map({\n",
    "    0:'POSITIVE',\n",
    "    1:'NEUTRAL',\n",
    "    2:'NEGATIVE'   \n",
    "})\n",
    "predlabel.to_csv('submission.csv', index= False)\n"
   ]
  },
  {
   "cell_type": "markdown",
   "id": "244c9835",
   "metadata": {
    "papermill": {
     "duration": 0.027096,
     "end_time": "2023-12-21T22:22:07.919560",
     "exception": false,
     "start_time": "2023-12-21T22:22:07.892464",
     "status": "completed"
    },
    "tags": []
   },
   "source": [
    "Sourses:\n",
    "https://towardsdatascience.com/skip-gram-neural-network-from-scratch-485f2e688238\n",
    "https://radimrehurek.com/gensim/models/word2vec.html\n",
    "https://www.kaggle.com/code/varun08/sentiment-analysis-using-word2vec\n",
    "https://github.com/christianversloot/machine-learning-articles/blob/main/how-to-use-k-fold-cross-validation-with-pytorch.md\n",
    "https://machinelearningmastery.com/activation-functions-in-pytorch/\n",
    "https://towardsdatascience.com/cross-entropy-loss-function-f38c4ec8643e\n",
    "https://pytorch.org/docs/stable/generated/torch.no_grad.html\n",
    "https://optuna.readthedocs.io/en/stable/tutorial/20_recipes/002_multi_objective.html\n",
    "https://wandb.ai/authors/ayusht/reports/Implementing-Dropout-in-PyTorch-With-Example--VmlldzoxNTgwOTE\n",
    "https://www.kaggle.com/code/arihant0497/introduction-to-neural-networks-using-pytorch/notebook\n",
    "https://pythonguides.com/pytorch-batch-normalization/\n",
    "https://pytorch.org/docs/stable/generated/torch.nn.Sequential.html"
   ]
  }
 ],
 "metadata": {
  "kaggle": {
   "accelerator": "none",
   "dataSources": [
    {
     "databundleVersionId": 7104041,
     "sourceId": 64789,
     "sourceType": "competition"
    },
    {
     "datasetId": 4203557,
     "sourceId": 7254451,
     "sourceType": "datasetVersion"
    }
   ],
   "dockerImageVersionId": 30626,
   "isGpuEnabled": false,
   "isInternetEnabled": true,
   "language": "python",
   "sourceType": "notebook"
  },
  "kernelspec": {
   "display_name": "Python 3",
   "language": "python",
   "name": "python3"
  },
  "language_info": {
   "codemirror_mode": {
    "name": "ipython",
    "version": 3
   },
   "file_extension": ".py",
   "mimetype": "text/x-python",
   "name": "python",
   "nbconvert_exporter": "python",
   "pygments_lexer": "ipython3",
   "version": "3.10.12"
  },
  "papermill": {
   "default_parameters": {},
   "duration": 4217.306854,
   "end_time": "2023-12-21T22:22:11.035162",
   "environment_variables": {},
   "exception": null,
   "input_path": "__notebook__.ipynb",
   "output_path": "__notebook__.ipynb",
   "parameters": {},
   "start_time": "2023-12-21T21:11:53.728308",
   "version": "2.4.0"
  }
 },
 "nbformat": 4,
 "nbformat_minor": 5
}
